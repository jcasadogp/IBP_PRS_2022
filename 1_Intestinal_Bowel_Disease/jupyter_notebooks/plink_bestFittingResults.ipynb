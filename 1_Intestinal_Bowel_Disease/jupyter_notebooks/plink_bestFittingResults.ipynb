{
 "cells": [
  {
   "cell_type": "code",
   "execution_count": 1,
   "id": "f4dee948",
   "metadata": {},
   "outputs": [
    {
     "data": {
      "text/html": [
       "'/lustre1/project/stg_00092/IBP_PRSproject/1_Intestinal_Bowel_Disease/jupyter_notebooks'"
      ],
      "text/latex": [
       "'/lustre1/project/stg\\_00092/IBP\\_PRSproject/1\\_Intestinal\\_Bowel\\_Disease/jupyter\\_notebooks'"
      ],
      "text/markdown": [
       "'/lustre1/project/stg_00092/IBP_PRSproject/1_Intestinal_Bowel_Disease/jupyter_notebooks'"
      ],
      "text/plain": [
       "[1] \"/lustre1/project/stg_00092/IBP_PRSproject/1_Intestinal_Bowel_Disease/jupyter_notebooks\""
      ]
     },
     "metadata": {},
     "output_type": "display_data"
    }
   ],
   "source": [
    "#best fitting results \n",
    "getwd()"
   ]
  },
  {
   "cell_type": "code",
   "execution_count": 2,
   "id": "6228631b",
   "metadata": {},
   "outputs": [
    {
     "name": "stderr",
     "output_type": "stream",
     "text": [
      "Warning message in install.packages(\"data.table\"):\n",
      "“installation of package ‘data.table’ had non-zero exit status”\n",
      "Warning message in install.packages(\"magrittr\"):\n",
      "“installation of package ‘magrittr’ had non-zero exit status”\n"
     ]
    }
   ],
   "source": [
    "install.packages(\"data.table\")\n",
    "install.packages(\"magrittr\")"
   ]
  },
  {
   "cell_type": "code",
   "execution_count": 2,
   "id": "27bad0a5",
   "metadata": {},
   "outputs": [],
   "source": [
    "library(data.table)\n",
    "library(magrittr)"
   ]
  },
  {
   "cell_type": "code",
   "execution_count": 3,
   "id": "12f79ddd",
   "metadata": {},
   "outputs": [],
   "source": [
    "p.threshold <- c(0.001,0.05,0.1,0.2,0.3,0.4,0.5)\n",
    "#OK"
   ]
  },
  {
   "cell_type": "code",
   "execution_count": 4,
   "id": "61e7e3e7",
   "metadata": {},
   "outputs": [
    {
     "data": {
      "text/html": [
       "<style>\n",
       ".list-inline {list-style: none; margin:0; padding: 0}\n",
       ".list-inline>li {display: inline-block}\n",
       ".list-inline>li:not(:last-child)::after {content: \"\\00b7\"; padding: 0 .5ex}\n",
       "</style>\n",
       "<ol class=list-inline><li>0.001</li><li>0.05</li><li>0.1</li><li>0.2</li><li>0.3</li><li>0.4</li><li>0.5</li></ol>\n"
      ],
      "text/latex": [
       "\\begin{enumerate*}\n",
       "\\item 0.001\n",
       "\\item 0.05\n",
       "\\item 0.1\n",
       "\\item 0.2\n",
       "\\item 0.3\n",
       "\\item 0.4\n",
       "\\item 0.5\n",
       "\\end{enumerate*}\n"
      ],
      "text/markdown": [
       "1. 0.001\n",
       "2. 0.05\n",
       "3. 0.1\n",
       "4. 0.2\n",
       "5. 0.3\n",
       "6. 0.4\n",
       "7. 0.5\n",
       "\n",
       "\n"
      ],
      "text/plain": [
       "[1] 0.001 0.050 0.100 0.200 0.300 0.400 0.500"
      ]
     },
     "metadata": {},
     "output_type": "display_data"
    }
   ],
   "source": [
    "p.threshold"
   ]
  },
  {
   "cell_type": "code",
   "execution_count": 5,
   "id": "eacfd0f1",
   "metadata": {},
   "outputs": [],
   "source": [
    "phenotype <- fread(\"/staging/leuven/stg_00092/IBP_PRSproject/PLINK/final_phenotypes.txt\")\n",
    "#OK"
   ]
  },
  {
   "cell_type": "code",
   "execution_count": 6,
   "id": "a3d77022",
   "metadata": {},
   "outputs": [
    {
     "data": {
      "text/html": [
       "<table class=\"dataframe\">\n",
       "<caption>A data.table: 6 × 3</caption>\n",
       "<thead>\n",
       "\t<tr><th scope=col>IID</th><th scope=col>IID</th><th scope=col>IBDvsCON</th></tr>\n",
       "\t<tr><th scope=col>&lt;int&gt;</th><th scope=col>&lt;int&gt;</th><th scope=col>&lt;int&gt;</th></tr>\n",
       "</thead>\n",
       "<tbody>\n",
       "\t<tr><td>9263</td><td>9263</td><td>1</td></tr>\n",
       "\t<tr><td>9535</td><td>9535</td><td>2</td></tr>\n",
       "\t<tr><td>5924</td><td>5924</td><td>2</td></tr>\n",
       "\t<tr><td>2762</td><td>2762</td><td>2</td></tr>\n",
       "\t<tr><td>9323</td><td>9323</td><td>1</td></tr>\n",
       "\t<tr><td>7670</td><td>7670</td><td>2</td></tr>\n",
       "</tbody>\n",
       "</table>\n"
      ],
      "text/latex": [
       "A data.table: 6 × 3\n",
       "\\begin{tabular}{lll}\n",
       " IID & IID & IBDvsCON\\\\\n",
       " <int> & <int> & <int>\\\\\n",
       "\\hline\n",
       "\t 9263 & 9263 & 1\\\\\n",
       "\t 9535 & 9535 & 2\\\\\n",
       "\t 5924 & 5924 & 2\\\\\n",
       "\t 2762 & 2762 & 2\\\\\n",
       "\t 9323 & 9323 & 1\\\\\n",
       "\t 7670 & 7670 & 2\\\\\n",
       "\\end{tabular}\n"
      ],
      "text/markdown": [
       "\n",
       "A data.table: 6 × 3\n",
       "\n",
       "| IID &lt;int&gt; | IID &lt;int&gt; | IBDvsCON &lt;int&gt; |\n",
       "|---|---|---|\n",
       "| 9263 | 9263 | 1 |\n",
       "| 9535 | 9535 | 2 |\n",
       "| 5924 | 5924 | 2 |\n",
       "| 2762 | 2762 | 2 |\n",
       "| 9323 | 9323 | 1 |\n",
       "| 7670 | 7670 | 2 |\n",
       "\n"
      ],
      "text/plain": [
       "  IID  IID  IBDvsCON\n",
       "1 9263 9263 1       \n",
       "2 9535 9535 2       \n",
       "3 5924 5924 2       \n",
       "4 2762 2762 2       \n",
       "5 9323 9323 1       \n",
       "6 7670 7670 2       "
      ]
     },
     "metadata": {},
     "output_type": "display_data"
    }
   ],
   "source": [
    "head(phenotype)"
   ]
  },
  {
   "cell_type": "code",
   "execution_count": 7,
   "id": "b5170744",
   "metadata": {},
   "outputs": [
    {
     "data": {
      "text/html": [
       "<table class=\"dataframe\">\n",
       "<caption>A data.table: 6 × 3</caption>\n",
       "<thead>\n",
       "\t<tr><th scope=col>FID</th><th scope=col>IID</th><th scope=col>IBDvsCON</th></tr>\n",
       "\t<tr><th scope=col>&lt;int&gt;</th><th scope=col>&lt;int&gt;</th><th scope=col>&lt;int&gt;</th></tr>\n",
       "</thead>\n",
       "<tbody>\n",
       "\t<tr><td>9263</td><td>9263</td><td>1</td></tr>\n",
       "\t<tr><td>9535</td><td>9535</td><td>2</td></tr>\n",
       "\t<tr><td>5924</td><td>5924</td><td>2</td></tr>\n",
       "\t<tr><td>2762</td><td>2762</td><td>2</td></tr>\n",
       "\t<tr><td>9323</td><td>9323</td><td>1</td></tr>\n",
       "\t<tr><td>7670</td><td>7670</td><td>2</td></tr>\n",
       "</tbody>\n",
       "</table>\n"
      ],
      "text/latex": [
       "A data.table: 6 × 3\n",
       "\\begin{tabular}{lll}\n",
       " FID & IID & IBDvsCON\\\\\n",
       " <int> & <int> & <int>\\\\\n",
       "\\hline\n",
       "\t 9263 & 9263 & 1\\\\\n",
       "\t 9535 & 9535 & 2\\\\\n",
       "\t 5924 & 5924 & 2\\\\\n",
       "\t 2762 & 2762 & 2\\\\\n",
       "\t 9323 & 9323 & 1\\\\\n",
       "\t 7670 & 7670 & 2\\\\\n",
       "\\end{tabular}\n"
      ],
      "text/markdown": [
       "\n",
       "A data.table: 6 × 3\n",
       "\n",
       "| FID &lt;int&gt; | IID &lt;int&gt; | IBDvsCON &lt;int&gt; |\n",
       "|---|---|---|\n",
       "| 9263 | 9263 | 1 |\n",
       "| 9535 | 9535 | 2 |\n",
       "| 5924 | 5924 | 2 |\n",
       "| 2762 | 2762 | 2 |\n",
       "| 9323 | 9323 | 1 |\n",
       "| 7670 | 7670 | 2 |\n",
       "\n"
      ],
      "text/plain": [
       "  FID  IID  IBDvsCON\n",
       "1 9263 9263 1       \n",
       "2 9535 9535 2       \n",
       "3 5924 5924 2       \n",
       "4 2762 2762 2       \n",
       "5 9323 9323 1       \n",
       "6 7670 7670 2       "
      ]
     },
     "metadata": {},
     "output_type": "display_data"
    }
   ],
   "source": [
    "colnames(phenotype) <- c('FID','IID','IBDvsCON')\n",
    "#OK\n",
    "head(phenotype)"
   ]
  },
  {
   "cell_type": "code",
   "execution_count": 8,
   "id": "43abef28",
   "metadata": {},
   "outputs": [
    {
     "data": {
      "text/html": [
       "<table class=\"dataframe\">\n",
       "<caption>A data.table: 6 × 8</caption>\n",
       "<thead>\n",
       "\t<tr><th scope=col>FID</th><th scope=col>IID</th><th scope=col>PC1</th><th scope=col>PC2</th><th scope=col>PC3</th><th scope=col>PC4</th><th scope=col>PC5</th><th scope=col>PC6</th></tr>\n",
       "\t<tr><th scope=col>&lt;int&gt;</th><th scope=col>&lt;int&gt;</th><th scope=col>&lt;dbl&gt;</th><th scope=col>&lt;dbl&gt;</th><th scope=col>&lt;dbl&gt;</th><th scope=col>&lt;dbl&gt;</th><th scope=col>&lt;dbl&gt;</th><th scope=col>&lt;dbl&gt;</th></tr>\n",
       "</thead>\n",
       "<tbody>\n",
       "\t<tr><td>9263</td><td>9263</td><td>-0.00145430</td><td>-0.000247532</td><td>-0.000917923</td><td>-6.73271e-05</td><td>-0.000080967</td><td>-0.00177707</td></tr>\n",
       "\t<tr><td>9535</td><td>9535</td><td>-0.00105226</td><td>-0.000143506</td><td>-0.000976419</td><td> 2.84360e-04</td><td>-0.000074219</td><td>-0.00158412</td></tr>\n",
       "\t<tr><td>5924</td><td>5924</td><td>-0.00153325</td><td>-0.000285213</td><td>-0.001148800</td><td> 8.32864e-05</td><td>-0.000281852</td><td>-0.00204149</td></tr>\n",
       "\t<tr><td>2762</td><td>2762</td><td>-0.00147278</td><td>-0.000245327</td><td>-0.001057550</td><td>-7.00546e-05</td><td>-0.000062133</td><td>-0.00181015</td></tr>\n",
       "\t<tr><td>9323</td><td>9323</td><td>-0.00153402</td><td>-0.000374361</td><td>-0.000975916</td><td>-1.07900e-04</td><td>-0.000315588</td><td>-0.00202019</td></tr>\n",
       "\t<tr><td>7670</td><td>7670</td><td>-0.00147636</td><td>-0.000328961</td><td>-0.001219780</td><td>-8.50242e-05</td><td>-0.000251702</td><td>-0.00197423</td></tr>\n",
       "</tbody>\n",
       "</table>\n"
      ],
      "text/latex": [
       "A data.table: 6 × 8\n",
       "\\begin{tabular}{llllllll}\n",
       " FID & IID & PC1 & PC2 & PC3 & PC4 & PC5 & PC6\\\\\n",
       " <int> & <int> & <dbl> & <dbl> & <dbl> & <dbl> & <dbl> & <dbl>\\\\\n",
       "\\hline\n",
       "\t 9263 & 9263 & -0.00145430 & -0.000247532 & -0.000917923 & -6.73271e-05 & -0.000080967 & -0.00177707\\\\\n",
       "\t 9535 & 9535 & -0.00105226 & -0.000143506 & -0.000976419 &  2.84360e-04 & -0.000074219 & -0.00158412\\\\\n",
       "\t 5924 & 5924 & -0.00153325 & -0.000285213 & -0.001148800 &  8.32864e-05 & -0.000281852 & -0.00204149\\\\\n",
       "\t 2762 & 2762 & -0.00147278 & -0.000245327 & -0.001057550 & -7.00546e-05 & -0.000062133 & -0.00181015\\\\\n",
       "\t 9323 & 9323 & -0.00153402 & -0.000374361 & -0.000975916 & -1.07900e-04 & -0.000315588 & -0.00202019\\\\\n",
       "\t 7670 & 7670 & -0.00147636 & -0.000328961 & -0.001219780 & -8.50242e-05 & -0.000251702 & -0.00197423\\\\\n",
       "\\end{tabular}\n"
      ],
      "text/markdown": [
       "\n",
       "A data.table: 6 × 8\n",
       "\n",
       "| FID &lt;int&gt; | IID &lt;int&gt; | PC1 &lt;dbl&gt; | PC2 &lt;dbl&gt; | PC3 &lt;dbl&gt; | PC4 &lt;dbl&gt; | PC5 &lt;dbl&gt; | PC6 &lt;dbl&gt; |\n",
       "|---|---|---|---|---|---|---|---|\n",
       "| 9263 | 9263 | -0.00145430 | -0.000247532 | -0.000917923 | -6.73271e-05 | -0.000080967 | -0.00177707 |\n",
       "| 9535 | 9535 | -0.00105226 | -0.000143506 | -0.000976419 |  2.84360e-04 | -0.000074219 | -0.00158412 |\n",
       "| 5924 | 5924 | -0.00153325 | -0.000285213 | -0.001148800 |  8.32864e-05 | -0.000281852 | -0.00204149 |\n",
       "| 2762 | 2762 | -0.00147278 | -0.000245327 | -0.001057550 | -7.00546e-05 | -0.000062133 | -0.00181015 |\n",
       "| 9323 | 9323 | -0.00153402 | -0.000374361 | -0.000975916 | -1.07900e-04 | -0.000315588 | -0.00202019 |\n",
       "| 7670 | 7670 | -0.00147636 | -0.000328961 | -0.001219780 | -8.50242e-05 | -0.000251702 | -0.00197423 |\n",
       "\n"
      ],
      "text/plain": [
       "  FID  IID  PC1         PC2          PC3          PC4          PC5         \n",
       "1 9263 9263 -0.00145430 -0.000247532 -0.000917923 -6.73271e-05 -0.000080967\n",
       "2 9535 9535 -0.00105226 -0.000143506 -0.000976419  2.84360e-04 -0.000074219\n",
       "3 5924 5924 -0.00153325 -0.000285213 -0.001148800  8.32864e-05 -0.000281852\n",
       "4 2762 2762 -0.00147278 -0.000245327 -0.001057550 -7.00546e-05 -0.000062133\n",
       "5 9323 9323 -0.00153402 -0.000374361 -0.000975916 -1.07900e-04 -0.000315588\n",
       "6 7670 7670 -0.00147636 -0.000328961 -0.001219780 -8.50242e-05 -0.000251702\n",
       "  PC6        \n",
       "1 -0.00177707\n",
       "2 -0.00158412\n",
       "3 -0.00204149\n",
       "4 -0.00181015\n",
       "5 -0.00202019\n",
       "6 -0.00197423"
      ]
     },
     "metadata": {},
     "output_type": "display_data"
    }
   ],
   "source": [
    "pcs <- fread(\"/staging/leuven/stg_00092/IBP_PRSproject/PLINK/soniya_final_IBP.eigenvec\", header=F) %>%\n",
    "    setnames(., colnames(.), c(\"FID\", \"IID\", paste0(\"PC\",1:6)) )\n",
    "# The first command reads in the dataset, the command \"header=F\" specifies \n",
    "# that there are no column names associated with the dataset.\n",
    "\n",
    "# The default output from plink does not include a header\n",
    "# To make things simple, we will add the appropriate headers\n",
    "# (1:6 because there are 6 PCs)\n",
    "\n",
    "#OK\n",
    "head(pcs)"
   ]
  },
  {
   "cell_type": "code",
   "execution_count": 9,
   "id": "5b77a9bb",
   "metadata": {},
   "outputs": [
    {
     "data": {
      "text/html": [
       "<table class=\"dataframe\">\n",
       "<caption>A data.table: 6 × 2</caption>\n",
       "<thead>\n",
       "\t<tr><th scope=col>FID</th><th scope=col>IID</th></tr>\n",
       "\t<tr><th scope=col>&lt;int&gt;</th><th scope=col>&lt;int&gt;</th></tr>\n",
       "</thead>\n",
       "<tbody>\n",
       "\t<tr><td>9263</td><td>9263</td></tr>\n",
       "\t<tr><td>9535</td><td>9535</td></tr>\n",
       "\t<tr><td>5924</td><td>5924</td></tr>\n",
       "\t<tr><td>2762</td><td>2762</td></tr>\n",
       "\t<tr><td>9323</td><td>9323</td></tr>\n",
       "\t<tr><td>7670</td><td>7670</td></tr>\n",
       "</tbody>\n",
       "</table>\n"
      ],
      "text/latex": [
       "A data.table: 6 × 2\n",
       "\\begin{tabular}{ll}\n",
       " FID & IID\\\\\n",
       " <int> & <int>\\\\\n",
       "\\hline\n",
       "\t 9263 & 9263\\\\\n",
       "\t 9535 & 9535\\\\\n",
       "\t 5924 & 5924\\\\\n",
       "\t 2762 & 2762\\\\\n",
       "\t 9323 & 9323\\\\\n",
       "\t 7670 & 7670\\\\\n",
       "\\end{tabular}\n"
      ],
      "text/markdown": [
       "\n",
       "A data.table: 6 × 2\n",
       "\n",
       "| FID &lt;int&gt; | IID &lt;int&gt; |\n",
       "|---|---|\n",
       "| 9263 | 9263 |\n",
       "| 9535 | 9535 |\n",
       "| 5924 | 5924 |\n",
       "| 2762 | 2762 |\n",
       "| 9323 | 9323 |\n",
       "| 7670 | 7670 |\n",
       "\n"
      ],
      "text/plain": [
       "  FID  IID \n",
       "1 9263 9263\n",
       "2 9535 9535\n",
       "3 5924 5924\n",
       "4 2762 2762\n",
       "5 9323 9323\n",
       "6 7670 7670"
      ]
     },
     "metadata": {},
     "output_type": "display_data"
    }
   ],
   "source": [
    "covariate <- fread(\"/staging/leuven/stg_00092/IBP_PRSproject/1_Intestinal_Bowel_Disease/data/final_IBP.cov\")\n",
    "# Read in the covariates (here, it is sex)\n",
    "#OK\n",
    "head(covariate)"
   ]
  },
  {
   "cell_type": "code",
   "execution_count": 10,
   "id": "e4b2ec21",
   "metadata": {},
   "outputs": [
    {
     "data": {
      "text/html": [
       "<table class=\"dataframe\">\n",
       "<caption>A data.table: 6 × 9</caption>\n",
       "<thead>\n",
       "\t<tr><th scope=col>FID</th><th scope=col>IID</th><th scope=col>IBDvsCON</th><th scope=col>PC1</th><th scope=col>PC2</th><th scope=col>PC3</th><th scope=col>PC4</th><th scope=col>PC5</th><th scope=col>PC6</th></tr>\n",
       "\t<tr><th scope=col>&lt;int&gt;</th><th scope=col>&lt;int&gt;</th><th scope=col>&lt;int&gt;</th><th scope=col>&lt;dbl&gt;</th><th scope=col>&lt;dbl&gt;</th><th scope=col>&lt;dbl&gt;</th><th scope=col>&lt;dbl&gt;</th><th scope=col>&lt;dbl&gt;</th><th scope=col>&lt;dbl&gt;</th></tr>\n",
       "</thead>\n",
       "<tbody>\n",
       "\t<tr><td>1</td><td>1</td><td>2</td><td>-0.001231420</td><td>-4.81723e-04</td><td>-0.001132660</td><td>-1.63720e-04</td><td> 0.000291273</td><td>-0.001788010</td></tr>\n",
       "\t<tr><td>2</td><td>2</td><td>2</td><td>-0.001429020</td><td>-3.80632e-04</td><td>-0.001034530</td><td>-1.72534e-04</td><td>-0.000244366</td><td>-0.001882310</td></tr>\n",
       "\t<tr><td>3</td><td>3</td><td>2</td><td>-0.001054380</td><td>-3.24218e-05</td><td>-0.000468107</td><td> 1.35624e-04</td><td>-0.000114941</td><td> 0.000298901</td></tr>\n",
       "\t<tr><td>5</td><td>5</td><td>2</td><td>-0.001168800</td><td>-3.94889e-04</td><td>-0.001147780</td><td> 1.71254e-04</td><td>-0.000215972</td><td>-0.001550040</td></tr>\n",
       "\t<tr><td>7</td><td>7</td><td>2</td><td>-0.001547370</td><td>-4.14157e-04</td><td>-0.001024110</td><td> 5.03937e-05</td><td>-0.000113249</td><td>-0.001587390</td></tr>\n",
       "\t<tr><td>8</td><td>8</td><td>2</td><td>-0.000952742</td><td>-5.43227e-04</td><td>-0.000927506</td><td> 9.59803e-05</td><td> 0.000108422</td><td>-0.001918500</td></tr>\n",
       "</tbody>\n",
       "</table>\n"
      ],
      "text/latex": [
       "A data.table: 6 × 9\n",
       "\\begin{tabular}{lllllllll}\n",
       " FID & IID & IBDvsCON & PC1 & PC2 & PC3 & PC4 & PC5 & PC6\\\\\n",
       " <int> & <int> & <int> & <dbl> & <dbl> & <dbl> & <dbl> & <dbl> & <dbl>\\\\\n",
       "\\hline\n",
       "\t 1 & 1 & 2 & -0.001231420 & -4.81723e-04 & -0.001132660 & -1.63720e-04 &  0.000291273 & -0.001788010\\\\\n",
       "\t 2 & 2 & 2 & -0.001429020 & -3.80632e-04 & -0.001034530 & -1.72534e-04 & -0.000244366 & -0.001882310\\\\\n",
       "\t 3 & 3 & 2 & -0.001054380 & -3.24218e-05 & -0.000468107 &  1.35624e-04 & -0.000114941 &  0.000298901\\\\\n",
       "\t 5 & 5 & 2 & -0.001168800 & -3.94889e-04 & -0.001147780 &  1.71254e-04 & -0.000215972 & -0.001550040\\\\\n",
       "\t 7 & 7 & 2 & -0.001547370 & -4.14157e-04 & -0.001024110 &  5.03937e-05 & -0.000113249 & -0.001587390\\\\\n",
       "\t 8 & 8 & 2 & -0.000952742 & -5.43227e-04 & -0.000927506 &  9.59803e-05 &  0.000108422 & -0.001918500\\\\\n",
       "\\end{tabular}\n"
      ],
      "text/markdown": [
       "\n",
       "A data.table: 6 × 9\n",
       "\n",
       "| FID &lt;int&gt; | IID &lt;int&gt; | IBDvsCON &lt;int&gt; | PC1 &lt;dbl&gt; | PC2 &lt;dbl&gt; | PC3 &lt;dbl&gt; | PC4 &lt;dbl&gt; | PC5 &lt;dbl&gt; | PC6 &lt;dbl&gt; |\n",
       "|---|---|---|---|---|---|---|---|---|\n",
       "| 1 | 1 | 2 | -0.001231420 | -4.81723e-04 | -0.001132660 | -1.63720e-04 |  0.000291273 | -0.001788010 |\n",
       "| 2 | 2 | 2 | -0.001429020 | -3.80632e-04 | -0.001034530 | -1.72534e-04 | -0.000244366 | -0.001882310 |\n",
       "| 3 | 3 | 2 | -0.001054380 | -3.24218e-05 | -0.000468107 |  1.35624e-04 | -0.000114941 |  0.000298901 |\n",
       "| 5 | 5 | 2 | -0.001168800 | -3.94889e-04 | -0.001147780 |  1.71254e-04 | -0.000215972 | -0.001550040 |\n",
       "| 7 | 7 | 2 | -0.001547370 | -4.14157e-04 | -0.001024110 |  5.03937e-05 | -0.000113249 | -0.001587390 |\n",
       "| 8 | 8 | 2 | -0.000952742 | -5.43227e-04 | -0.000927506 |  9.59803e-05 |  0.000108422 | -0.001918500 |\n",
       "\n"
      ],
      "text/plain": [
       "  FID IID IBDvsCON PC1          PC2          PC3          PC4         \n",
       "1 1   1   2        -0.001231420 -4.81723e-04 -0.001132660 -1.63720e-04\n",
       "2 2   2   2        -0.001429020 -3.80632e-04 -0.001034530 -1.72534e-04\n",
       "3 3   3   2        -0.001054380 -3.24218e-05 -0.000468107  1.35624e-04\n",
       "4 5   5   2        -0.001168800 -3.94889e-04 -0.001147780  1.71254e-04\n",
       "5 7   7   2        -0.001547370 -4.14157e-04 -0.001024110  5.03937e-05\n",
       "6 8   8   2        -0.000952742 -5.43227e-04 -0.000927506  9.59803e-05\n",
       "  PC5          PC6         \n",
       "1  0.000291273 -0.001788010\n",
       "2 -0.000244366 -0.001882310\n",
       "3 -0.000114941  0.000298901\n",
       "4 -0.000215972 -0.001550040\n",
       "5 -0.000113249 -0.001587390\n",
       "6  0.000108422 -0.001918500"
      ]
     },
     "metadata": {},
     "output_type": "display_data"
    }
   ],
   "source": [
    "pheno <- merge(phenotype, covariate) %>%\n",
    "        merge(., pcs)\n",
    "# Now merge the files\n",
    "head(pheno)\n"
   ]
  },
  {
   "cell_type": "code",
   "execution_count": 11,
   "id": "134955f8",
   "metadata": {},
   "outputs": [],
   "source": [
    "# We can then calculate the null model (model with PRS) \n",
    "# using a linear regression \n",
    "# (as height is quantitative)\n",
    "# And the R2 of the null model is \n",
    "null.r2 <- summary(lm(IBDvsCON~., data=pheno[,-c(\"FID\", \"IID\")]))$r.squared"
   ]
  },
  {
   "cell_type": "code",
   "execution_count": 12,
   "id": "e75baf9f",
   "metadata": {},
   "outputs": [
    {
     "ename": "ERROR",
     "evalue": "Error in fread(.): File 'final_IBP.0.001.profile' does not exist or is non-readable. getwd()=='/lustre1/project/stg_00092/IBP_PRSproject/1_Intestinal_Bowel_Disease/jupyter_notebooks'\n",
     "output_type": "error",
     "traceback": [
      "Error in fread(.): File 'final_IBP.0.001.profile' does not exist or is non-readable. getwd()=='/lustre1/project/stg_00092/IBP_PRSproject/1_Intestinal_Bowel_Disease/jupyter_notebooks'\nTraceback:\n",
      "1. paste0(\"final_IBP.\", i, \".profile\") %>% fread(.) %>% .[, c(\"FID\", \n .     \"IID\", \"SCORE\")] %>% merge(., pheno, by = c(\"FID\", \"IID\"))",
      "2. merge(., pheno, by = c(\"FID\", \"IID\"))",
      "3. fread(.)",
      "4. stop(\"File '\", file, \"' does not exist or is non-readable. getwd()=='\", \n .     getwd(), \"'\")"
     ]
    }
   ],
   "source": [
    "prs.result <- NULL\n",
    "for(i in p.threshold){     # Go through each p-value threshold\n",
    "    pheno.prs <- paste0(\"final_IBP.\", i, \".profile\") %>%\n",
    "        fread(.) %>%\n",
    "        .[,c(\"FID\", \"IID\", \"SCORE\")] %>%\n",
    "        merge(., pheno, by=c(\"FID\", \"IID\"))\n",
    "    # Merge the prs with the phenotype matrix\n",
    "    # We only want the FID, IID and PRS from the PRS file, therefore we only select the \n",
    "    # relevant columns\n",
    "    model <- lm(IBDvsCON~., data=pheno.prs[,-c(\"FID\",\"IID\")]) %>%\n",
    "            summary\n",
    "    # Now perform a linear regression on Height with PRS and the covariates\n",
    "    # ignoring the FID and IID from our model\n",
    "  \n",
    "        # model R2 is obtained as: \n",
    "    model.r2 <- model$r.squared\n",
    "    prs.r2 <- model.r2-null.r2\n",
    "    # We can also obtain the coeffcient and p-value of association of PRS as follow\n",
    "    \n",
    "    prs.coef <- model$coeff[\"SCORE\",]\n",
    "    prs.result %<>% rbind(.,\n",
    "        data.frame(Threshold=i, R2=prs.r2, \n",
    "                    P=as.numeric(prs.coef[4]), \n",
    "                    BETA=as.numeric(prs.coef[1]),\n",
    "                    SE=as.numeric(prs.coef[2])))\n",
    "}\n"
   ]
  },
  {
   "cell_type": "code",
   "execution_count": 29,
   "id": "0afe81f5",
   "metadata": {},
   "outputs": [
    {
     "name": "stdout",
     "output_type": "stream",
     "text": [
      "NULL\n"
     ]
    }
   ],
   "source": [
    "print(prs.result[which.max(prs.result$R2),])\n",
    "# Best result is:"
   ]
  },
  {
   "cell_type": "code",
   "execution_count": null,
   "id": "8d026d83",
   "metadata": {},
   "outputs": [],
   "source": [
    "q() # exit R"
   ]
  }
 ],
 "metadata": {
  "kernelspec": {
   "display_name": "r-env",
   "language": "R",
   "name": "r"
  },
  "language_info": {
   "codemirror_mode": "r",
   "file_extension": ".r",
   "mimetype": "text/x-r-source",
   "name": "R",
   "pygments_lexer": "r",
   "version": "4.2.1"
  }
 },
 "nbformat": 4,
 "nbformat_minor": 5
}
