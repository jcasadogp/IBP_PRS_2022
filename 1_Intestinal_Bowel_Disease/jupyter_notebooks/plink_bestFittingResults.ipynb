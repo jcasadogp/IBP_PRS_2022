{
 "cells": [
  {
   "cell_type": "code",
   "execution_count": 1,
   "id": "f4dee948",
   "metadata": {},
   "outputs": [],
   "source": [
    "#best fitting results "
   ]
  },
  {
   "cell_type": "code",
   "execution_count": null,
   "id": "6228631b",
   "metadata": {},
   "outputs": [],
   "source": [
    "install.packages(\"data.table\")\n",
    "install.packages(\"magrittr\")"
   ]
  },
  {
   "cell_type": "code",
   "execution_count": null,
   "id": "27bad0a5",
   "metadata": {},
   "outputs": [],
   "source": [
    "library(data.table)\n",
    "library(magrittr)"
   ]
  },
  {
   "cell_type": "code",
   "execution_count": null,
   "id": "12f79ddd",
   "metadata": {},
   "outputs": [],
   "source": [
    "p.threshold <- c(0.001,0.05,0.1,0.2,0.3,0.4,0.5)\n",
    "#OK"
   ]
  },
  {
   "cell_type": "code",
   "execution_count": null,
   "id": "eacfd0f1",
   "metadata": {},
   "outputs": [],
   "source": [
    "phenotype <- fread(\"final_phenotypes.txt\")\n",
    "#OK"
   ]
  },
  {
   "cell_type": "code",
   "execution_count": null,
   "id": "b5170744",
   "metadata": {},
   "outputs": [],
   "source": [
    "colnames(phenotype) <- c('FID','IID','IBDvsCON')\n",
    "#OK"
   ]
  },
  {
   "cell_type": "code",
   "execution_count": null,
   "id": "43abef28",
   "metadata": {},
   "outputs": [],
   "source": [
    "pcs <- fread(\"final_IBP_6_PCs.eigenvec\", header=F) %>%\n",
    "    setnames(., colnames(.), c(\"FID\", \"IID\", paste0(\"PC\",1:6)) )\n",
    "# The first command reads in the dataset, the command \"header=F\" specifies \n",
    "# that there are no column names associated with the dataset.\n",
    "\n",
    "# The default output from plink does not include a header\n",
    "# To make things simple, we will add the appropriate headers\n",
    "# (1:6 because there are 6 PCs)\n",
    "\n",
    "#OK"
   ]
  },
  {
   "cell_type": "code",
   "execution_count": null,
   "id": "5b77a9bb",
   "metadata": {},
   "outputs": [],
   "source": [
    "covariate <- fread(\"final_IBP.cov\")\n",
    "# Read in the covariates (here, it is sex)\n",
    "#OK"
   ]
  },
  {
   "cell_type": "code",
   "execution_count": null,
   "id": "e4b2ec21",
   "metadata": {},
   "outputs": [],
   "source": [
    "pheno <- merge(phenotype, covariate) %>%\n",
    "        merge(., pcs)\n",
    "# Now merge the files\n"
   ]
  },
  {
   "cell_type": "code",
   "execution_count": null,
   "id": "134955f8",
   "metadata": {},
   "outputs": [],
   "source": [
    "# We can then calculate the null model (model with PRS) \n",
    "# using a linear regression \n",
    "# (as height is quantitative)\n",
    "# And the R2 of the null model is \n",
    "null.r2 <- summary(lm(Height~., data=pheno[,-c(\"FID\", \"IID\")]))$r.squared"
   ]
  },
  {
   "cell_type": "code",
   "execution_count": null,
   "id": "e75baf9f",
   "metadata": {},
   "outputs": [],
   "source": [
    "prs.result <- NULL\n",
    "for(i in p.threshold){     # Go through each p-value threshold\n",
    "    pheno.prs <- paste0(\"final_IBP.\", i, \".profile\") %>%\n",
    "        fread(.) %>%\n",
    "        .[,c(\"FID\", \"IID\", \"SCORE\")] %>%\n",
    "        merge(., pheno, by=c(\"FID\", \"IID\"))\n",
    "    # Merge the prs with the phenotype matrix\n",
    "    # We only want the FID, IID and PRS from the PRS file, therefore we only select the \n",
    "    # relevant columns\n",
    "    model <- lm(Height~., data=pheno.prs[,-c(\"FID\",\"IID\")]) %>%\n",
    "            summary\n",
    "    # Now perform a linear regression on Height with PRS and the covariates\n",
    "    # ignoring the FID and IID from our model\n",
    "  \n",
    "        # model R2 is obtained as: \n",
    "    model.r2 <- model$r.squared\n",
    "    prs.r2 <- model.r2-null.r2\n",
    "    # We can also obtain the coeffcient and p-value of association of PRS as follow\n",
    "    \n",
    "    prs.coef <- model$coeff[\"SCORE\",]\n",
    "    prs.result %<>% rbind(.,\n",
    "        data.frame(Threshold=i, R2=prs.r2, \n",
    "                    P=as.numeric(prs.coef[4]), \n",
    "                    BETA=as.numeric(prs.coef[1]),\n",
    "                    SE=as.numeric(prs.coef[2])))\n",
    "}\n"
   ]
  },
  {
   "cell_type": "code",
   "execution_count": null,
   "id": "0afe81f5",
   "metadata": {},
   "outputs": [],
   "source": [
    "print(prs.result[which.max(prs.result$R2),])\n",
    "# Best result is:"
   ]
  },
  {
   "cell_type": "code",
   "execution_count": null,
   "id": "8d026d83",
   "metadata": {},
   "outputs": [],
   "source": [
    "q() # exit R"
   ]
  }
 ],
 "metadata": {
  "kernelspec": {
   "display_name": "r-env",
   "language": "R",
   "name": "r"
  },
  "language_info": {
   "codemirror_mode": {
    "name": "ipython",
    "version": 3
   },
   "file_extension": ".py",
   "mimetype": "text/x-python",
   "name": "python",
   "nbconvert_exporter": "python",
   "pygments_lexer": "ipython3",
   "version": "3.6.8"
  }
 },
 "nbformat": 4,
 "nbformat_minor": 5
}
