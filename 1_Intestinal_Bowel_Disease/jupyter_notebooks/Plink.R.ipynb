{
 "cells": [
  {
   "cell_type": "code",
   "execution_count": 1,
   "id": "8f8ee46e",
   "metadata": {},
   "outputs": [],
   "source": [
    "# this is for visualisation of the PRS results. "
   ]
  },
  {
   "cell_type": "code",
   "execution_count": 13,
   "id": "1b5d6ae3",
   "metadata": {},
   "outputs": [
    {
     "data": {
      "text/html": [
       "'/lustre1/project/stg_00092/IBP_PRSproject/PLINK'"
      ],
      "text/latex": [
       "'/lustre1/project/stg\\_00092/IBP\\_PRSproject/PLINK'"
      ],
      "text/markdown": [
       "'/lustre1/project/stg_00092/IBP_PRSproject/PLINK'"
      ],
      "text/plain": [
       "[1] \"/lustre1/project/stg_00092/IBP_PRSproject/PLINK\""
      ]
     },
     "metadata": {},
     "output_type": "display_data"
    }
   ],
   "source": [
    "setwd(\"/lustre1/project/stg_00092/IBP_PRSproject/PLINK/\")\n",
    "getwd()"
   ]
  },
  {
   "cell_type": "code",
   "execution_count": 6,
   "id": "d336f6dd",
   "metadata": {
    "scrolled": true
   },
   "outputs": [
    {
     "name": "stderr",
     "output_type": "stream",
     "text": [
      "also installing the dependency ‘vctrs’\n",
      "\n",
      "\n",
      "Warning message in install.packages(\"ggplot2\"):\n",
      "“installation of package ‘vctrs’ had non-zero exit status”\n",
      "Warning message in install.packages(\"ggplot2\"):\n",
      "“installation of package ‘ggplot2’ had non-zero exit status”\n"
     ]
    }
   ],
   "source": []
  },
  {
   "cell_type": "code",
   "execution_count": 7,
   "id": "403ce2a3",
   "metadata": {},
   "outputs": [],
   "source": [
    "library(ggplot2)\n",
    "#loading of the ggplot2 library. "
   ]
  },
  {
   "cell_type": "code",
   "execution_count": 14,
   "id": "8dfe9485",
   "metadata": {},
   "outputs": [
    {
     "ename": "ERROR",
     "evalue": "Error in head(prs.result): object 'prs.result' not found\n",
     "output_type": "error",
     "traceback": [
      "Error in head(prs.result): object 'prs.result' not found\nTraceback:\n",
      "1. head(prs.result)"
     ]
    }
   ],
   "source": [
    "head(prs.result) "
   ]
  },
  {
   "cell_type": "code",
   "execution_count": 15,
   "id": "afc07a01",
   "metadata": {},
   "outputs": [
    {
     "ename": "ERROR",
     "evalue": "Error in eval(expr, envir, enclos): object 'prs.result' not found\n",
     "output_type": "error",
     "traceback": [
      "Error in eval(expr, envir, enclos): object 'prs.result' not found\nTraceback:\n"
     ]
    }
   ],
   "source": [
    "prs.result$print.p <- round(prs.result$P, digits = 3)"
   ]
  },
  {
   "cell_type": "code",
   "execution_count": 16,
   "id": "41dd96e2",
   "metadata": {},
   "outputs": [
    {
     "ename": "ERROR",
     "evalue": "Error in format(prs.result$P[!is.na(prs.result$print.p) & prs.result$print.p == : object 'prs.result' not found\n",
     "output_type": "error",
     "traceback": [
      "Error in format(prs.result$P[!is.na(prs.result$print.p) & prs.result$print.p == : object 'prs.result' not found\nTraceback:\n",
      "1. format(prs.result$P[!is.na(prs.result$print.p) & prs.result$print.p == \n .     0], digits = 2)"
     ]
    }
   ],
   "source": [
    "prs.result$print.p[!is.na(prs.result$print.p) &\n",
    "                    prs.result$print.p == 0] <-\n",
    "    format(prs.result$P[!is.na(prs.result$print.p) &\n",
    "                            prs.result$print.p == 0], digits = 2)"
   ]
  },
  {
   "cell_type": "code",
   "execution_count": null,
   "id": "8f9313a4",
   "metadata": {},
   "outputs": [],
   "source": [
    "prs.result$print.p <- sub(\"e\", \"*x*10^\", prs.result$print.p)\n"
   ]
  },
  {
   "cell_type": "code",
   "execution_count": null,
   "id": "340f9932",
   "metadata": {},
   "outputs": [],
   "source": [
    "# Initialize ggplot, requiring the threshold as the x-axis (use factor so that it is uniformly distributed)\n",
    "ggplot(data = prs.result, aes(x = factor(Threshold), y = R2)) +\n",
    "    # Specify that we want to print p-value on top of the bars\n",
    "    geom_text(\n",
    "        aes(label = paste(print.p)),\n",
    "        vjust = -1.5,\n",
    "        hjust = 0,\n",
    "        angle = 45,\n",
    "        cex = 4,\n",
    "        parse = T\n",
    "    )  +\n",
    "    scale_y_continuous(limits = c(0, max(prs.result$R2) * 1.25)) +\n",
    "# Specify the axis labels\n",
    "    xlab(expression(italic(P) - value ~ threshold ~ (italic(P)[T]))) +\n",
    "    ylab(expression(paste(\"PRS model fit:  \", R ^ 2))) +\n",
    "    # Draw a bar plot\n",
    "    geom_bar(aes(fill = -log10(P)), stat = \"identity\") +\n",
    "    # Specify the colors\n",
    "    scale_fill_gradient2(\n",
    "        low = \"dodgerblue\",\n",
    "        high = \"firebrick\",\n",
    "        mid = \"dodgerblue\",\n",
    "        midpoint = 1e-4,\n",
    "        name = bquote(atop(-log[10] ~ model, italic(P) - value),)\n",
    "    ) +\n",
    "  # Some beautification of the plot\n",
    "    theme_classic() + theme(\n",
    "        axis.title = element_text(face = \"bold\", size = 18),\n",
    "        axis.text = element_text(size = 14),\n",
    "        legend.title = element_text(face = \"bold\", size =\n",
    "                                        18),\n",
    "        legend.text = element_text(size = 14),\n",
    "        axis.text.x = element_text(angle = 45, hjust =\n",
    "                                    1)\n",
    "    )"
   ]
  },
  {
   "cell_type": "code",
   "execution_count": null,
   "id": "ed0edc5b",
   "metadata": {},
   "outputs": [],
   "source": [
    "# save the plot\n",
    "ggsave(\"EUR.height.bar.png\", height = 7, width = 7)"
   ]
  },
  {
   "cell_type": "code",
   "execution_count": null,
   "id": "e6f71962",
   "metadata": {},
   "outputs": [],
   "source": [
    "q() # exit R"
   ]
  },
  {
   "cell_type": "code",
   "execution_count": null,
   "id": "d86ae104",
   "metadata": {},
   "outputs": [],
   "source": []
  },
  {
   "cell_type": "code",
   "execution_count": null,
   "id": "c2adaaca",
   "metadata": {},
   "outputs": [],
   "source": []
  },
  {
   "cell_type": "code",
   "execution_count": null,
   "id": "ce60ce30",
   "metadata": {},
   "outputs": [],
   "source": []
  },
  {
   "cell_type": "code",
   "execution_count": null,
   "id": "0a940a5f",
   "metadata": {},
   "outputs": [],
   "source": []
  },
  {
   "cell_type": "code",
   "execution_count": null,
   "id": "c6f2527f",
   "metadata": {},
   "outputs": [],
   "source": []
  }
 ],
 "metadata": {
  "kernelspec": {
   "display_name": "r-env",
   "language": "R",
   "name": "r"
  },
  "language_info": {
   "codemirror_mode": "r",
   "file_extension": ".r",
   "mimetype": "text/x-r-source",
   "name": "R",
   "pygments_lexer": "r",
   "version": "4.2.1"
  }
 },
 "nbformat": 4,
 "nbformat_minor": 5
}
