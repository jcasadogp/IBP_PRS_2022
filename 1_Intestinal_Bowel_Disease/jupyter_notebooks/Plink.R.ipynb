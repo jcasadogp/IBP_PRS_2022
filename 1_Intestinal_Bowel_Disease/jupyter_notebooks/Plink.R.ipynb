{
 "cells": [
  {
   "cell_type": "code",
   "execution_count": 1,
   "id": "8f8ee46e",
   "metadata": {},
   "outputs": [],
   "source": [
    "# this is for visualisation of the PRS results. "
   ]
  },
  {
   "cell_type": "code",
   "execution_count": null,
   "id": "d336f6dd",
   "metadata": {},
   "outputs": [],
   "source": [
    "install.packages(\"ggplot2\")"
   ]
  },
  {
   "cell_type": "code",
   "execution_count": null,
   "id": "403ce2a3",
   "metadata": {},
   "outputs": [],
   "source": [
    "library(ggplot2)\n",
    "#loading of the ggplot2 library. "
   ]
  },
  {
   "cell_type": "code",
   "execution_count": null,
   "id": "afc07a01",
   "metadata": {},
   "outputs": [],
   "source": [
    "prs.result$print.p <- round(prs.result$P, digits = 3)\n"
   ]
  },
  {
   "cell_type": "code",
   "execution_count": null,
   "id": "41dd96e2",
   "metadata": {},
   "outputs": [],
   "source": [
    "prs.result$print.p[!is.na(prs.result$print.p) &\n",
    "                    prs.result$print.p == 0] <-\n",
    "    format(prs.result$P[!is.na(prs.result$print.p) &\n",
    "                            prs.result$print.p == 0], digits = 2)"
   ]
  },
  {
   "cell_type": "code",
   "execution_count": null,
   "id": "8f9313a4",
   "metadata": {},
   "outputs": [],
   "source": [
    "prs.result$print.p <- sub(\"e\", \"*x*10^\", prs.result$print.p)\n"
   ]
  },
  {
   "cell_type": "code",
   "execution_count": null,
   "id": "340f9932",
   "metadata": {},
   "outputs": [],
   "source": [
    "# Initialize ggplot, requiring the threshold as the x-axis (use factor so that it is uniformly distributed)\n",
    "ggplot(data = prs.result, aes(x = factor(Threshold), y = R2)) +\n",
    "    # Specify that we want to print p-value on top of the bars\n",
    "    geom_text(\n",
    "        aes(label = paste(print.p)),\n",
    "        vjust = -1.5,\n",
    "        hjust = 0,\n",
    "        angle = 45,\n",
    "        cex = 4,\n",
    "        parse = T\n",
    "    )  +"
   ]
  },
  {
   "cell_type": "code",
   "execution_count": null,
   "id": "ed0edc5b",
   "metadata": {},
   "outputs": [],
   "source": [
    " # Specify the range of the plot, *1.25 to provide enough space for the p-values\n",
    "    scale_y_continuous(limits = c(0, max(prs.result$R2) * 1.25)) +\n",
    "  "
   ]
  },
  {
   "cell_type": "code",
   "execution_count": null,
   "id": "e6f71962",
   "metadata": {},
   "outputs": [],
   "source": [
    "# Specify the axis labels\n",
    "    xlab(expression(italic(P) - value ~ threshold ~ (italic(P)[T]))) +\n",
    "    ylab(expression(paste(\"PRS model fit:  \", R ^ 2))) +\n",
    " "
   ]
  },
  {
   "cell_type": "code",
   "execution_count": null,
   "id": "d86ae104",
   "metadata": {},
   "outputs": [],
   "source": [
    "   # Draw a bar plot\n",
    "    geom_bar(aes(fill = -log10(P)), stat = \"identity\") +\n",
    " "
   ]
  },
  {
   "cell_type": "code",
   "execution_count": null,
   "id": "c2adaaca",
   "metadata": {},
   "outputs": [],
   "source": [
    "   # Specify the colors\n",
    "    scale_fill_gradient2(\n",
    "        low = \"dodgerblue\",\n",
    "        high = \"firebrick\",\n",
    "        mid = \"dodgerblue\",\n",
    "        midpoint = 1e-4,\n",
    "        name = bquote(atop(-log[10] ~ model, italic(P) - value),)\n",
    "    ) +\n",
    " "
   ]
  },
  {
   "cell_type": "code",
   "execution_count": null,
   "id": "ce60ce30",
   "metadata": {},
   "outputs": [],
   "source": [
    " # Some beautification of the plot\n",
    "    theme_classic() + theme(\n",
    "        axis.title = element_text(face = \"bold\", size = 18),\n",
    "        axis.text = element_text(size = 14),\n",
    "        legend.title = element_text(face = \"bold\", size =\n",
    "                                        18),\n",
    "        legend.text = element_text(size = 14),\n",
    "        axis.text.x = element_text(angle = 45, hjust =\n",
    "                                    1)\n",
    "    )"
   ]
  },
  {
   "cell_type": "code",
   "execution_count": null,
   "id": "0a940a5f",
   "metadata": {},
   "outputs": [],
   "source": [
    "# save the plot\n",
    "ggsave(\"EUR.height.bar.png\", height = 7, width = 7)\n"
   ]
  },
  {
   "cell_type": "code",
   "execution_count": null,
   "id": "c6f2527f",
   "metadata": {},
   "outputs": [],
   "source": [
    "q() # exit R\n"
   ]
  }
 ],
 "metadata": {
  "kernelspec": {
   "display_name": "r-env",
   "language": "R",
   "name": "r"
  },
  "language_info": {
   "codemirror_mode": {
    "name": "ipython",
    "version": 3
   },
   "file_extension": ".py",
   "mimetype": "text/x-python",
   "name": "python",
   "nbconvert_exporter": "python",
   "pygments_lexer": "ipython3",
   "version": "3.6.8"
  }
 },
 "nbformat": 4,
 "nbformat_minor": 5
}
