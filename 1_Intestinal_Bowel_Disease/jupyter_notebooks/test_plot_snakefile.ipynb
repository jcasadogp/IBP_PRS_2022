{
 "cells": [
  {
   "cell_type": "code",
   "execution_count": 46,
   "id": "ade33461",
   "metadata": {},
   "outputs": [
    {
     "name": "stderr",
     "output_type": "stream",
     "text": [
      "\n",
      "Attaching package: ‘dplyr’\n",
      "\n",
      "\n",
      "The following objects are masked from ‘package:stats’:\n",
      "\n",
      "    filter, lag\n",
      "\n",
      "\n",
      "The following objects are masked from ‘package:base’:\n",
      "\n",
      "    intersect, setdiff, setequal, union\n",
      "\n",
      "\n",
      "\n",
      "Attaching package: ‘data.table’\n",
      "\n",
      "\n",
      "The following objects are masked from ‘package:dplyr’:\n",
      "\n",
      "    between, first, last\n",
      "\n",
      "\n",
      "Type 'citation(\"pROC\")' for a citation.\n",
      "\n",
      "\n",
      "Attaching package: ‘pROC’\n",
      "\n",
      "\n",
      "The following objects are masked from ‘package:stats’:\n",
      "\n",
      "    cov, smooth, var\n",
      "\n",
      "\n",
      "Classes and Methods for R developed in the\n",
      "Political Science Computational Laboratory\n",
      "Department of Political Science\n",
      "Stanford University\n",
      "Simon Jackman\n",
      "hurdle and zeroinfl functions by Achim Zeileis\n",
      "\n"
     ]
    }
   ],
   "source": [
    "library(dplyr)\n",
    "library(ggplot2)\n",
    "library(data.table)\n",
    "library(ROCR)\n",
    "library(pROC)\n",
    "library(pscl)"
   ]
  },
  {
   "cell_type": "code",
   "execution_count": 33,
   "id": "20da41d6",
   "metadata": {},
   "outputs": [],
   "source": [
    "setwd('/staging/leuven/stg_00092/IBP_PRSproject/1_Intestinal_Bowel_Disease/output_data/')\n",
    "\n",
    "plink_thr <- read.table(\"a_1_julia_plink/target_data/range_list\", header=F)[,1]\n",
    "target_prefix <- \"IBD_GSA_fin\"\n",
    "external_prefix <- \"1000G_EUR_fin\"\n",
    "\n",
    "target_plink_files <- c()\n",
    "external_plink_files <- c()\n",
    "for (i in 1:length(plink_thr)) {\n",
    "    target_plink_files[i] <- paste(target_prefix,'.', plink_thr[i], '.profile', sep=\"\")\n",
    "    external_plink_files[i] <- paste(external_prefix,'.', plink_thr[i], '.profile', sep=\"\")\n",
    "}"
   ]
  },
  {
   "cell_type": "code",
   "execution_count": 35,
   "id": "733367d9",
   "metadata": {},
   "outputs": [
    {
     "data": {
      "text/html": [
       "TRUE"
      ],
      "text/latex": [
       "TRUE"
      ],
      "text/markdown": [
       "TRUE"
      ],
      "text/plain": [
       "[1] TRUE"
      ]
     },
     "metadata": {},
     "output_type": "display_data"
    }
   ],
   "source": [
    "# This cell is for checking the file names. \n",
    "\n",
    "# DO NOT COPY INTO THE FINAL R SCRIPT.\n",
    "\n",
    "true_names <- c(\"IBD_GSA_fin.0.01.profile\",\"IBD_GSA_fin.0.05.profile\",\"IBD_GSA_fin.0.1.profile\",\n",
    "                \"IBD_GSA_fin.0.5.profile\",\"IBD_GSA_fin.1e-05.profile\",\"IBD_GSA_fin.5e-08.profile\")\n",
    "\n",
    "target_plink_files <- c()\n",
    "external_plink_files <- c()\n",
    "for (i in 1:length(plink_thr)) {\n",
    "    target_plink_files[i] <- paste(target_prefix,'.', plink_thr[i], '.profile', sep=\"\")\n",
    "    external_plink_files[i] <- paste(external_prefix,'.', plink_thr[i], '.profile', sep=\"\")\n",
    "}\n",
    "\n",
    "#plink_files\n",
    "#true_names\n",
    "\n",
    "setequal(target_plink_files, true_names)"
   ]
  },
  {
   "cell_type": "code",
   "execution_count": 17,
   "id": "2b41161e",
   "metadata": {},
   "outputs": [],
   "source": [
    "setwd('/staging/leuven/stg_00092/IBP_PRSproject/1_Intestinal_Bowel_Disease/')\n",
    "\n",
    "#Phenotypes file\n",
    "phenotype <- read.table(\"data/final_phenotypes.txt\", header=T)\n",
    "colnames(phenotype) <- c(\"FID\", \"IID\",\"pheno\") \n",
    "\n",
    "# PC file\n",
    "pcs <- read.table(\"data/IBD_GSA_fin.eigenvec\", header=F)\n",
    "colnames(pcs) <- c(\"FID\", \"IID\", paste0(\"PC\",1:6)) \n",
    "\n",
    "covariate <- read.table(\"data/IBD_GSA_fin.cov\", header=T)"
   ]
  },
  {
   "cell_type": "code",
   "execution_count": 23,
   "id": "8a36e0a4",
   "metadata": {},
   "outputs": [
    {
     "data": {
      "text/html": [
       "<table class=\"dataframe\">\n",
       "<caption>A data.frame: 6 × 9</caption>\n",
       "<thead>\n",
       "\t<tr><th></th><th scope=col>FID</th><th scope=col>IID</th><th scope=col>pheno</th><th scope=col>PC1</th><th scope=col>PC2</th><th scope=col>PC3</th><th scope=col>PC4</th><th scope=col>PC5</th><th scope=col>PC6</th></tr>\n",
       "\t<tr><th></th><th scope=col>&lt;int&gt;</th><th scope=col>&lt;int&gt;</th><th scope=col>&lt;int&gt;</th><th scope=col>&lt;dbl&gt;</th><th scope=col>&lt;dbl&gt;</th><th scope=col>&lt;dbl&gt;</th><th scope=col>&lt;dbl&gt;</th><th scope=col>&lt;dbl&gt;</th><th scope=col>&lt;dbl&gt;</th></tr>\n",
       "</thead>\n",
       "<tbody>\n",
       "\t<tr><th scope=row>1</th><td>    1</td><td>    1</td><td>2</td><td>-0.001399920</td><td>-0.000642696</td><td> 0.000076709</td><td> 2.89442e-06</td><td>-5.03030e-04</td><td> 2.74591e-05</td></tr>\n",
       "\t<tr><th scope=row>2</th><td>10003</td><td>10003</td><td>2</td><td> 0.004343120</td><td> 0.001483090</td><td> 0.000280489</td><td> 6.88860e-04</td><td>-1.25489e-03</td><td> 3.25983e-03</td></tr>\n",
       "\t<tr><th scope=row>3</th><td>10004</td><td>10004</td><td>2</td><td>-0.000775743</td><td>-0.000871228</td><td>-0.000139799</td><td>-1.06149e-04</td><td> 5.65422e-05</td><td> 1.60963e-03</td></tr>\n",
       "\t<tr><th scope=row>4</th><td>10006</td><td>10006</td><td>1</td><td>-0.000895486</td><td>-0.000594923</td><td> 0.000300282</td><td> 3.13497e-04</td><td> 3.76910e-04</td><td>-7.52114e-04</td></tr>\n",
       "\t<tr><th scope=row>5</th><td>10008</td><td>10008</td><td>1</td><td>-0.000748440</td><td> 0.000163002</td><td> 0.000486987</td><td>-2.74503e-04</td><td>-2.26962e-04</td><td>-6.88766e-04</td></tr>\n",
       "\t<tr><th scope=row>6</th><td>10013</td><td>10013</td><td>2</td><td>-0.001446190</td><td>-0.000440727</td><td> 0.000014270</td><td>-3.96106e-05</td><td> 3.90130e-04</td><td>-1.06397e-03</td></tr>\n",
       "</tbody>\n",
       "</table>\n"
      ],
      "text/latex": [
       "A data.frame: 6 × 9\n",
       "\\begin{tabular}{r|lllllllll}\n",
       "  & FID & IID & pheno & PC1 & PC2 & PC3 & PC4 & PC5 & PC6\\\\\n",
       "  & <int> & <int> & <int> & <dbl> & <dbl> & <dbl> & <dbl> & <dbl> & <dbl>\\\\\n",
       "\\hline\n",
       "\t1 &     1 &     1 & 2 & -0.001399920 & -0.000642696 &  0.000076709 &  2.89442e-06 & -5.03030e-04 &  2.74591e-05\\\\\n",
       "\t2 & 10003 & 10003 & 2 &  0.004343120 &  0.001483090 &  0.000280489 &  6.88860e-04 & -1.25489e-03 &  3.25983e-03\\\\\n",
       "\t3 & 10004 & 10004 & 2 & -0.000775743 & -0.000871228 & -0.000139799 & -1.06149e-04 &  5.65422e-05 &  1.60963e-03\\\\\n",
       "\t4 & 10006 & 10006 & 1 & -0.000895486 & -0.000594923 &  0.000300282 &  3.13497e-04 &  3.76910e-04 & -7.52114e-04\\\\\n",
       "\t5 & 10008 & 10008 & 1 & -0.000748440 &  0.000163002 &  0.000486987 & -2.74503e-04 & -2.26962e-04 & -6.88766e-04\\\\\n",
       "\t6 & 10013 & 10013 & 2 & -0.001446190 & -0.000440727 &  0.000014270 & -3.96106e-05 &  3.90130e-04 & -1.06397e-03\\\\\n",
       "\\end{tabular}\n"
      ],
      "text/markdown": [
       "\n",
       "A data.frame: 6 × 9\n",
       "\n",
       "| <!--/--> | FID &lt;int&gt; | IID &lt;int&gt; | pheno &lt;int&gt; | PC1 &lt;dbl&gt; | PC2 &lt;dbl&gt; | PC3 &lt;dbl&gt; | PC4 &lt;dbl&gt; | PC5 &lt;dbl&gt; | PC6 &lt;dbl&gt; |\n",
       "|---|---|---|---|---|---|---|---|---|---|\n",
       "| 1 |     1 |     1 | 2 | -0.001399920 | -0.000642696 |  0.000076709 |  2.89442e-06 | -5.03030e-04 |  2.74591e-05 |\n",
       "| 2 | 10003 | 10003 | 2 |  0.004343120 |  0.001483090 |  0.000280489 |  6.88860e-04 | -1.25489e-03 |  3.25983e-03 |\n",
       "| 3 | 10004 | 10004 | 2 | -0.000775743 | -0.000871228 | -0.000139799 | -1.06149e-04 |  5.65422e-05 |  1.60963e-03 |\n",
       "| 4 | 10006 | 10006 | 1 | -0.000895486 | -0.000594923 |  0.000300282 |  3.13497e-04 |  3.76910e-04 | -7.52114e-04 |\n",
       "| 5 | 10008 | 10008 | 1 | -0.000748440 |  0.000163002 |  0.000486987 | -2.74503e-04 | -2.26962e-04 | -6.88766e-04 |\n",
       "| 6 | 10013 | 10013 | 2 | -0.001446190 | -0.000440727 |  0.000014270 | -3.96106e-05 |  3.90130e-04 | -1.06397e-03 |\n",
       "\n"
      ],
      "text/plain": [
       "  FID   IID   pheno PC1          PC2          PC3          PC4         \n",
       "1     1     1 2     -0.001399920 -0.000642696  0.000076709  2.89442e-06\n",
       "2 10003 10003 2      0.004343120  0.001483090  0.000280489  6.88860e-04\n",
       "3 10004 10004 2     -0.000775743 -0.000871228 -0.000139799 -1.06149e-04\n",
       "4 10006 10006 1     -0.000895486 -0.000594923  0.000300282  3.13497e-04\n",
       "5 10008 10008 1     -0.000748440  0.000163002  0.000486987 -2.74503e-04\n",
       "6 10013 10013 2     -0.001446190 -0.000440727  0.000014270 -3.96106e-05\n",
       "  PC5          PC6         \n",
       "1 -5.03030e-04  2.74591e-05\n",
       "2 -1.25489e-03  3.25983e-03\n",
       "3  5.65422e-05  1.60963e-03\n",
       "4  3.76910e-04 -7.52114e-04\n",
       "5 -2.26962e-04 -6.88766e-04\n",
       "6  3.90130e-04 -1.06397e-03"
      ]
     },
     "metadata": {},
     "output_type": "display_data"
    }
   ],
   "source": [
    "pheno <- merge(merge(phenotype, covariate, by=c(\"FID\", \"IID\")), pcs, by=c(\"FID\",\"IID\"))\n",
    "head(pheno)"
   ]
  },
  {
   "cell_type": "code",
   "execution_count": 24,
   "id": "c9abf23e",
   "metadata": {},
   "outputs": [],
   "source": [
    "#pheno$pheno <- pheno$pheno - 1 ## BE CAREFUL IF WE RUN IT SEVERAL TIMES!!!!!!!"
   ]
  },
  {
   "cell_type": "code",
   "execution_count": 25,
   "id": "45c56ab5",
   "metadata": {},
   "outputs": [
    {
     "data": {
      "text/html": [
       "<table class=\"dataframe\">\n",
       "<caption>A data.frame: 6 × 9</caption>\n",
       "<thead>\n",
       "\t<tr><th></th><th scope=col>FID</th><th scope=col>IID</th><th scope=col>pheno</th><th scope=col>PC1</th><th scope=col>PC2</th><th scope=col>PC3</th><th scope=col>PC4</th><th scope=col>PC5</th><th scope=col>PC6</th></tr>\n",
       "\t<tr><th></th><th scope=col>&lt;int&gt;</th><th scope=col>&lt;int&gt;</th><th scope=col>&lt;dbl&gt;</th><th scope=col>&lt;dbl&gt;</th><th scope=col>&lt;dbl&gt;</th><th scope=col>&lt;dbl&gt;</th><th scope=col>&lt;dbl&gt;</th><th scope=col>&lt;dbl&gt;</th><th scope=col>&lt;dbl&gt;</th></tr>\n",
       "</thead>\n",
       "<tbody>\n",
       "\t<tr><th scope=row>1</th><td>    1</td><td>    1</td><td>1</td><td>-0.001399920</td><td>-0.000642696</td><td> 0.000076709</td><td> 2.89442e-06</td><td>-5.03030e-04</td><td> 2.74591e-05</td></tr>\n",
       "\t<tr><th scope=row>2</th><td>10003</td><td>10003</td><td>1</td><td> 0.004343120</td><td> 0.001483090</td><td> 0.000280489</td><td> 6.88860e-04</td><td>-1.25489e-03</td><td> 3.25983e-03</td></tr>\n",
       "\t<tr><th scope=row>3</th><td>10004</td><td>10004</td><td>1</td><td>-0.000775743</td><td>-0.000871228</td><td>-0.000139799</td><td>-1.06149e-04</td><td> 5.65422e-05</td><td> 1.60963e-03</td></tr>\n",
       "\t<tr><th scope=row>4</th><td>10006</td><td>10006</td><td>0</td><td>-0.000895486</td><td>-0.000594923</td><td> 0.000300282</td><td> 3.13497e-04</td><td> 3.76910e-04</td><td>-7.52114e-04</td></tr>\n",
       "\t<tr><th scope=row>5</th><td>10008</td><td>10008</td><td>0</td><td>-0.000748440</td><td> 0.000163002</td><td> 0.000486987</td><td>-2.74503e-04</td><td>-2.26962e-04</td><td>-6.88766e-04</td></tr>\n",
       "\t<tr><th scope=row>6</th><td>10013</td><td>10013</td><td>1</td><td>-0.001446190</td><td>-0.000440727</td><td> 0.000014270</td><td>-3.96106e-05</td><td> 3.90130e-04</td><td>-1.06397e-03</td></tr>\n",
       "</tbody>\n",
       "</table>\n"
      ],
      "text/latex": [
       "A data.frame: 6 × 9\n",
       "\\begin{tabular}{r|lllllllll}\n",
       "  & FID & IID & pheno & PC1 & PC2 & PC3 & PC4 & PC5 & PC6\\\\\n",
       "  & <int> & <int> & <dbl> & <dbl> & <dbl> & <dbl> & <dbl> & <dbl> & <dbl>\\\\\n",
       "\\hline\n",
       "\t1 &     1 &     1 & 1 & -0.001399920 & -0.000642696 &  0.000076709 &  2.89442e-06 & -5.03030e-04 &  2.74591e-05\\\\\n",
       "\t2 & 10003 & 10003 & 1 &  0.004343120 &  0.001483090 &  0.000280489 &  6.88860e-04 & -1.25489e-03 &  3.25983e-03\\\\\n",
       "\t3 & 10004 & 10004 & 1 & -0.000775743 & -0.000871228 & -0.000139799 & -1.06149e-04 &  5.65422e-05 &  1.60963e-03\\\\\n",
       "\t4 & 10006 & 10006 & 0 & -0.000895486 & -0.000594923 &  0.000300282 &  3.13497e-04 &  3.76910e-04 & -7.52114e-04\\\\\n",
       "\t5 & 10008 & 10008 & 0 & -0.000748440 &  0.000163002 &  0.000486987 & -2.74503e-04 & -2.26962e-04 & -6.88766e-04\\\\\n",
       "\t6 & 10013 & 10013 & 1 & -0.001446190 & -0.000440727 &  0.000014270 & -3.96106e-05 &  3.90130e-04 & -1.06397e-03\\\\\n",
       "\\end{tabular}\n"
      ],
      "text/markdown": [
       "\n",
       "A data.frame: 6 × 9\n",
       "\n",
       "| <!--/--> | FID &lt;int&gt; | IID &lt;int&gt; | pheno &lt;dbl&gt; | PC1 &lt;dbl&gt; | PC2 &lt;dbl&gt; | PC3 &lt;dbl&gt; | PC4 &lt;dbl&gt; | PC5 &lt;dbl&gt; | PC6 &lt;dbl&gt; |\n",
       "|---|---|---|---|---|---|---|---|---|---|\n",
       "| 1 |     1 |     1 | 1 | -0.001399920 | -0.000642696 |  0.000076709 |  2.89442e-06 | -5.03030e-04 |  2.74591e-05 |\n",
       "| 2 | 10003 | 10003 | 1 |  0.004343120 |  0.001483090 |  0.000280489 |  6.88860e-04 | -1.25489e-03 |  3.25983e-03 |\n",
       "| 3 | 10004 | 10004 | 1 | -0.000775743 | -0.000871228 | -0.000139799 | -1.06149e-04 |  5.65422e-05 |  1.60963e-03 |\n",
       "| 4 | 10006 | 10006 | 0 | -0.000895486 | -0.000594923 |  0.000300282 |  3.13497e-04 |  3.76910e-04 | -7.52114e-04 |\n",
       "| 5 | 10008 | 10008 | 0 | -0.000748440 |  0.000163002 |  0.000486987 | -2.74503e-04 | -2.26962e-04 | -6.88766e-04 |\n",
       "| 6 | 10013 | 10013 | 1 | -0.001446190 | -0.000440727 |  0.000014270 | -3.96106e-05 |  3.90130e-04 | -1.06397e-03 |\n",
       "\n"
      ],
      "text/plain": [
       "  FID   IID   pheno PC1          PC2          PC3          PC4         \n",
       "1     1     1 1     -0.001399920 -0.000642696  0.000076709  2.89442e-06\n",
       "2 10003 10003 1      0.004343120  0.001483090  0.000280489  6.88860e-04\n",
       "3 10004 10004 1     -0.000775743 -0.000871228 -0.000139799 -1.06149e-04\n",
       "4 10006 10006 0     -0.000895486 -0.000594923  0.000300282  3.13497e-04\n",
       "5 10008 10008 0     -0.000748440  0.000163002  0.000486987 -2.74503e-04\n",
       "6 10013 10013 1     -0.001446190 -0.000440727  0.000014270 -3.96106e-05\n",
       "  PC5          PC6         \n",
       "1 -5.03030e-04  2.74591e-05\n",
       "2 -1.25489e-03  3.25983e-03\n",
       "3  5.65422e-05  1.60963e-03\n",
       "4  3.76910e-04 -7.52114e-04\n",
       "5 -2.26962e-04 -6.88766e-04\n",
       "6  3.90130e-04 -1.06397e-03"
      ]
     },
     "metadata": {},
     "output_type": "display_data"
    }
   ],
   "source": [
    "head(pheno)"
   ]
  },
  {
   "cell_type": "code",
   "execution_count": 26,
   "id": "8cba2a7c",
   "metadata": {},
   "outputs": [
    {
     "name": "stderr",
     "output_type": "stream",
     "text": [
      "Warning message:\n",
      "“glm.fit: fitted probabilities numerically 0 or 1 occurred”\n"
     ]
    }
   ],
   "source": [
    "null.model <- glm(pheno~., data=pheno[,!colnames(pheno)%in%c(\"FID\",\"IID\")],  family = binomial(link = \"logit\"))"
   ]
  },
  {
   "cell_type": "markdown",
   "id": "6f2a8865",
   "metadata": {},
   "source": [
    "# Here I start the same steps as in lassoSum and PRSice"
   ]
  },
  {
   "cell_type": "code",
   "execution_count": 66,
   "id": "faaae946",
   "metadata": {},
   "outputs": [
    {
     "data": {
      "text/html": [
       "<table class=\"dataframe\">\n",
       "<caption>A data.frame: 6 × 8</caption>\n",
       "<thead>\n",
       "\t<tr><th></th><th scope=col>FID</th><th scope=col>IID</th><th scope=col>SCORE5e-08</th><th scope=col>SCORE1e-05</th><th scope=col>SCORE0.01</th><th scope=col>SCORE0.05</th><th scope=col>SCORE0.1</th><th scope=col>SCORE0.5</th></tr>\n",
       "\t<tr><th></th><th scope=col>&lt;chr&gt;</th><th scope=col>&lt;chr&gt;</th><th scope=col>&lt;dbl&gt;</th><th scope=col>&lt;dbl&gt;</th><th scope=col>&lt;dbl&gt;</th><th scope=col>&lt;dbl&gt;</th><th scope=col>&lt;dbl&gt;</th><th scope=col>&lt;dbl&gt;</th></tr>\n",
       "</thead>\n",
       "<tbody>\n",
       "\t<tr><th scope=row>1</th><td>HG00096</td><td>HG00096</td><td>-0.0381046</td><td>-0.0232273</td><td>0.000349919</td><td>0.00208689</td><td>0.00219229</td><td>0.00144521</td></tr>\n",
       "\t<tr><th scope=row>2</th><td>HG00097</td><td>HG00097</td><td>-0.0339344</td><td>-0.0216579</td><td>0.000410993</td><td>0.00210695</td><td>0.00220943</td><td>0.00145508</td></tr>\n",
       "\t<tr><th scope=row>3</th><td>HG00099</td><td>HG00099</td><td>-0.0340091</td><td>-0.0212138</td><td>0.000329428</td><td>0.00209231</td><td>0.00222281</td><td>0.00145798</td></tr>\n",
       "\t<tr><th scope=row>4</th><td>HG00100</td><td>HG00100</td><td>-0.0368210</td><td>-0.0226132</td><td>0.000304401</td><td>0.00210686</td><td>0.00224218</td><td>0.00145080</td></tr>\n",
       "\t<tr><th scope=row>5</th><td>HG00101</td><td>HG00101</td><td>-0.0340381</td><td>-0.0216362</td><td>0.000221553</td><td>0.00202982</td><td>0.00217950</td><td>0.00142701</td></tr>\n",
       "\t<tr><th scope=row>6</th><td>HG00102</td><td>HG00102</td><td>-0.0333083</td><td>-0.0220058</td><td>0.000215106</td><td>0.00200815</td><td>0.00217252</td><td>0.00142748</td></tr>\n",
       "</tbody>\n",
       "</table>\n"
      ],
      "text/latex": [
       "A data.frame: 6 × 8\n",
       "\\begin{tabular}{r|llllllll}\n",
       "  & FID & IID & SCORE5e-08 & SCORE1e-05 & SCORE0.01 & SCORE0.05 & SCORE0.1 & SCORE0.5\\\\\n",
       "  & <chr> & <chr> & <dbl> & <dbl> & <dbl> & <dbl> & <dbl> & <dbl>\\\\\n",
       "\\hline\n",
       "\t1 & HG00096 & HG00096 & -0.0381046 & -0.0232273 & 0.000349919 & 0.00208689 & 0.00219229 & 0.00144521\\\\\n",
       "\t2 & HG00097 & HG00097 & -0.0339344 & -0.0216579 & 0.000410993 & 0.00210695 & 0.00220943 & 0.00145508\\\\\n",
       "\t3 & HG00099 & HG00099 & -0.0340091 & -0.0212138 & 0.000329428 & 0.00209231 & 0.00222281 & 0.00145798\\\\\n",
       "\t4 & HG00100 & HG00100 & -0.0368210 & -0.0226132 & 0.000304401 & 0.00210686 & 0.00224218 & 0.00145080\\\\\n",
       "\t5 & HG00101 & HG00101 & -0.0340381 & -0.0216362 & 0.000221553 & 0.00202982 & 0.00217950 & 0.00142701\\\\\n",
       "\t6 & HG00102 & HG00102 & -0.0333083 & -0.0220058 & 0.000215106 & 0.00200815 & 0.00217252 & 0.00142748\\\\\n",
       "\\end{tabular}\n"
      ],
      "text/markdown": [
       "\n",
       "A data.frame: 6 × 8\n",
       "\n",
       "| <!--/--> | FID &lt;chr&gt; | IID &lt;chr&gt; | SCORE5e-08 &lt;dbl&gt; | SCORE1e-05 &lt;dbl&gt; | SCORE0.01 &lt;dbl&gt; | SCORE0.05 &lt;dbl&gt; | SCORE0.1 &lt;dbl&gt; | SCORE0.5 &lt;dbl&gt; |\n",
       "|---|---|---|---|---|---|---|---|---|\n",
       "| 1 | HG00096 | HG00096 | -0.0381046 | -0.0232273 | 0.000349919 | 0.00208689 | 0.00219229 | 0.00144521 |\n",
       "| 2 | HG00097 | HG00097 | -0.0339344 | -0.0216579 | 0.000410993 | 0.00210695 | 0.00220943 | 0.00145508 |\n",
       "| 3 | HG00099 | HG00099 | -0.0340091 | -0.0212138 | 0.000329428 | 0.00209231 | 0.00222281 | 0.00145798 |\n",
       "| 4 | HG00100 | HG00100 | -0.0368210 | -0.0226132 | 0.000304401 | 0.00210686 | 0.00224218 | 0.00145080 |\n",
       "| 5 | HG00101 | HG00101 | -0.0340381 | -0.0216362 | 0.000221553 | 0.00202982 | 0.00217950 | 0.00142701 |\n",
       "| 6 | HG00102 | HG00102 | -0.0333083 | -0.0220058 | 0.000215106 | 0.00200815 | 0.00217252 | 0.00142748 |\n",
       "\n"
      ],
      "text/plain": [
       "  FID     IID     SCORE5e-08 SCORE1e-05 SCORE0.01   SCORE0.05  SCORE0.1  \n",
       "1 HG00096 HG00096 -0.0381046 -0.0232273 0.000349919 0.00208689 0.00219229\n",
       "2 HG00097 HG00097 -0.0339344 -0.0216579 0.000410993 0.00210695 0.00220943\n",
       "3 HG00099 HG00099 -0.0340091 -0.0212138 0.000329428 0.00209231 0.00222281\n",
       "4 HG00100 HG00100 -0.0368210 -0.0226132 0.000304401 0.00210686 0.00224218\n",
       "5 HG00101 HG00101 -0.0340381 -0.0216362 0.000221553 0.00202982 0.00217950\n",
       "6 HG00102 HG00102 -0.0333083 -0.0220058 0.000215106 0.00200815 0.00217252\n",
       "  SCORE0.5  \n",
       "1 0.00144521\n",
       "2 0.00145508\n",
       "3 0.00145798\n",
       "4 0.00145080\n",
       "5 0.00142701\n",
       "6 0.00142748"
      ]
     },
     "metadata": {},
     "output_type": "display_data"
    }
   ],
   "source": [
    "setwd('/staging/leuven/stg_00092/IBP_PRSproject/1_Intestinal_Bowel_Disease/output_data/a_1_julia_plink/target_data')\n",
    "\n",
    "target_plink_prs <- data.frame(matrix(nrow = 0, ncol = 3))\n",
    "colnames(target_plink_prs) <- c('FID', 'IID', 'pheno')\n",
    "target_plink_prs <- read.table(target_plink_files[1], header = T)[,1:3]\n",
    "\n",
    "setwd('/staging/leuven/stg_00092/IBP_PRSproject/1_Intestinal_Bowel_Disease/output_data/a_1_julia_plink/external_data')\n",
    "\n",
    "external_plink_prs <- data.frame(matrix(nrow = 0, ncol = 2))\n",
    "colnames(external_plink_prs) <- c('FID', 'IID')\n",
    "external_plink_prs <- read.table(external_plink_files[1], header = T)[,1:2]\n",
    "\n",
    "for (i in 1:length(plink_thr)) {\n",
    "    setwd('/staging/leuven/stg_00092/IBP_PRSproject/1_Intestinal_Bowel_Disease/output_data/a_1_julia_plink/target_data')\n",
    "    target.prs.plink <- read.table(target_plink_files[i], header = T)\n",
    "    target.prs.plink <- target.prs.plink %>% select(1,2,6)\n",
    "    score_col_name <- paste('SCORE', plink_thr[i], sep=\"\")\n",
    "    colnames(target.prs.plink) <- c('FID', 'IID', score_col_name)\n",
    "    target_plink_prs <- merge(target_plink_prs, target.prs.plink, by = c(\"FID\", \"IID\"))\n",
    "    \n",
    "    setwd('/staging/leuven/stg_00092/IBP_PRSproject/1_Intestinal_Bowel_Disease/output_data/a_1_julia_plink/external_data')\n",
    "    external.prs.plink <- read.table(external_plink_files[i], header = T)\n",
    "    external.prs.plink <- external.prs.plink %>% select(1,2,6)\n",
    "    score_col_name_ext <- paste('SCORE', plink_thr[i], sep=\"\")\n",
    "    colnames(external.prs.plink) <- c('FID', 'IID', score_col_name_ext)\n",
    "    external_plink_prs <- merge(external_plink_prs, external.prs.plink, by = c(\"FID\", \"IID\"))\n",
    "}    \n",
    "\n",
    "target_prs.plink <- target_plink_prs\n",
    "external_prs.plink <- external_plink_prs\n",
    "head(external_prs.plink)\n"
   ]
  },
  {
   "cell_type": "code",
   "execution_count": 72,
   "id": "73359991",
   "metadata": {},
   "outputs": [],
   "source": [
    "## FILL WITH THE POSITION IN WHICH THE SCORES START\n",
    "no_plink_thr = length(plink_thr)\n",
    "starting_scores_pos = 3\n",
    "starting_scores_pos_target = 4"
   ]
  },
  {
   "cell_type": "code",
   "execution_count": 69,
   "id": "085ed3a3",
   "metadata": {},
   "outputs": [
    {
     "data": {
      "text/html": [
       "<table class=\"dataframe\">\n",
       "<caption>A data.frame: 6 × 1</caption>\n",
       "<thead>\n",
       "\t<tr><th></th><th scope=col>ext_mean.plink</th></tr>\n",
       "\t<tr><th></th><th scope=col>&lt;dbl&gt;</th></tr>\n",
       "</thead>\n",
       "<tbody>\n",
       "\t<tr><th scope=row>SCORE5e-08</th><td>-0.0335852207</td></tr>\n",
       "\t<tr><th scope=row>SCORE1e-05</th><td>-0.0215108851</td></tr>\n",
       "\t<tr><th scope=row>SCORE0.01</th><td> 0.0004028539</td></tr>\n",
       "\t<tr><th scope=row>SCORE0.05</th><td> 0.0021033657</td></tr>\n",
       "\t<tr><th scope=row>SCORE0.1</th><td> 0.0022303913</td></tr>\n",
       "\t<tr><th scope=row>SCORE0.5</th><td> 0.0014560709</td></tr>\n",
       "</tbody>\n",
       "</table>\n"
      ],
      "text/latex": [
       "A data.frame: 6 × 1\n",
       "\\begin{tabular}{r|l}\n",
       "  & ext\\_mean.plink\\\\\n",
       "  & <dbl>\\\\\n",
       "\\hline\n",
       "\tSCORE5e-08 & -0.0335852207\\\\\n",
       "\tSCORE1e-05 & -0.0215108851\\\\\n",
       "\tSCORE0.01 &  0.0004028539\\\\\n",
       "\tSCORE0.05 &  0.0021033657\\\\\n",
       "\tSCORE0.1 &  0.0022303913\\\\\n",
       "\tSCORE0.5 &  0.0014560709\\\\\n",
       "\\end{tabular}\n"
      ],
      "text/markdown": [
       "\n",
       "A data.frame: 6 × 1\n",
       "\n",
       "| <!--/--> | ext_mean.plink &lt;dbl&gt; |\n",
       "|---|---|\n",
       "| SCORE5e-08 | -0.0335852207 |\n",
       "| SCORE1e-05 | -0.0215108851 |\n",
       "| SCORE0.01 |  0.0004028539 |\n",
       "| SCORE0.05 |  0.0021033657 |\n",
       "| SCORE0.1 |  0.0022303913 |\n",
       "| SCORE0.5 |  0.0014560709 |\n",
       "\n"
      ],
      "text/plain": [
       "           ext_mean.plink\n",
       "SCORE5e-08 -0.0335852207 \n",
       "SCORE1e-05 -0.0215108851 \n",
       "SCORE0.01   0.0004028539 \n",
       "SCORE0.05   0.0021033657 \n",
       "SCORE0.1    0.0022303913 \n",
       "SCORE0.5    0.0014560709 "
      ]
     },
     "metadata": {},
     "output_type": "display_data"
    },
    {
     "data": {
      "text/html": [
       "<table class=\"dataframe\">\n",
       "<caption>A data.frame: 6 × 1</caption>\n",
       "<thead>\n",
       "\t<tr><th></th><th scope=col>ext_sd.plink</th></tr>\n",
       "\t<tr><th></th><th scope=col>&lt;dbl&gt;</th></tr>\n",
       "</thead>\n",
       "<tbody>\n",
       "\t<tr><th scope=row>SCORE5e-08</th><td>2.809937e-03</td></tr>\n",
       "\t<tr><th scope=row>SCORE1e-05</th><td>1.433134e-03</td></tr>\n",
       "\t<tr><th scope=row>SCORE0.01</th><td>1.206662e-04</td></tr>\n",
       "\t<tr><th scope=row>SCORE0.05</th><td>6.492313e-05</td></tr>\n",
       "\t<tr><th scope=row>SCORE0.1</th><td>4.810581e-05</td></tr>\n",
       "\t<tr><th scope=row>SCORE0.5</th><td>2.295343e-05</td></tr>\n",
       "</tbody>\n",
       "</table>\n"
      ],
      "text/latex": [
       "A data.frame: 6 × 1\n",
       "\\begin{tabular}{r|l}\n",
       "  & ext\\_sd.plink\\\\\n",
       "  & <dbl>\\\\\n",
       "\\hline\n",
       "\tSCORE5e-08 & 2.809937e-03\\\\\n",
       "\tSCORE1e-05 & 1.433134e-03\\\\\n",
       "\tSCORE0.01 & 1.206662e-04\\\\\n",
       "\tSCORE0.05 & 6.492313e-05\\\\\n",
       "\tSCORE0.1 & 4.810581e-05\\\\\n",
       "\tSCORE0.5 & 2.295343e-05\\\\\n",
       "\\end{tabular}\n"
      ],
      "text/markdown": [
       "\n",
       "A data.frame: 6 × 1\n",
       "\n",
       "| <!--/--> | ext_sd.plink &lt;dbl&gt; |\n",
       "|---|---|\n",
       "| SCORE5e-08 | 2.809937e-03 |\n",
       "| SCORE1e-05 | 1.433134e-03 |\n",
       "| SCORE0.01 | 1.206662e-04 |\n",
       "| SCORE0.05 | 6.492313e-05 |\n",
       "| SCORE0.1 | 4.810581e-05 |\n",
       "| SCORE0.5 | 2.295343e-05 |\n",
       "\n"
      ],
      "text/plain": [
       "           ext_sd.plink\n",
       "SCORE5e-08 2.809937e-03\n",
       "SCORE1e-05 1.433134e-03\n",
       "SCORE0.01  1.206662e-04\n",
       "SCORE0.05  6.492313e-05\n",
       "SCORE0.1   4.810581e-05\n",
       "SCORE0.5   2.295343e-05"
      ]
     },
     "metadata": {},
     "output_type": "display_data"
    }
   ],
   "source": [
    "ext_scores.plink <- external_prs.plink[,starting_scores_pos:(starting_scores_pos+no_plink_thr-1)]\n",
    "\n",
    "ext_mean.plink <- as.data.frame(colMeans(ext_scores.plink))\n",
    "ext_sd.plink <- as.data.frame(apply(ext_scores.plink, 2, sd))\n",
    "\n",
    "colnames(ext_mean.plink) <- c(\"ext_mean.plink\")\n",
    "colnames(ext_sd.plink) <- c(\"ext_sd.plink\")\n",
    "\n",
    "ext_mean.plink\n",
    "ext_sd.plink\n"
   ]
  },
  {
   "cell_type": "code",
   "execution_count": 73,
   "id": "f4f5ea67",
   "metadata": {},
   "outputs": [
    {
     "data": {
      "text/html": [
       "<table class=\"dataframe\">\n",
       "<caption>A data.frame: 6 × 9</caption>\n",
       "<thead>\n",
       "\t<tr><th></th><th scope=col>FID</th><th scope=col>IID</th><th scope=col>PHENO</th><th scope=col>SCORE5e-08</th><th scope=col>SCORE1e-05</th><th scope=col>SCORE0.01</th><th scope=col>SCORE0.05</th><th scope=col>SCORE0.1</th><th scope=col>SCORE0.5</th></tr>\n",
       "\t<tr><th></th><th scope=col>&lt;int&gt;</th><th scope=col>&lt;int&gt;</th><th scope=col>&lt;int&gt;</th><th scope=col>&lt;dbl&gt;</th><th scope=col>&lt;dbl&gt;</th><th scope=col>&lt;dbl&gt;</th><th scope=col>&lt;dbl&gt;</th><th scope=col>&lt;dbl&gt;</th><th scope=col>&lt;dbl&gt;</th></tr>\n",
       "</thead>\n",
       "<tbody>\n",
       "\t<tr><th scope=row>1</th><td>    1</td><td>    1</td><td>2</td><td>-0.0309161</td><td>-0.0212155</td><td>0.00182651</td><td>0.00329249</td><td>0.00299341</td><td>0.00185303</td></tr>\n",
       "\t<tr><th scope=row>2</th><td>10003</td><td>10003</td><td>2</td><td>-0.0239222</td><td>-0.0171761</td><td>0.00194481</td><td>0.00340677</td><td>0.00307990</td><td>0.00189726</td></tr>\n",
       "\t<tr><th scope=row>3</th><td>10004</td><td>10004</td><td>2</td><td>-0.0306108</td><td>-0.0192297</td><td>0.00201606</td><td>0.00339875</td><td>0.00305781</td><td>0.00187737</td></tr>\n",
       "\t<tr><th scope=row>4</th><td>10006</td><td>10006</td><td>1</td><td>-0.0323758</td><td>-0.0212790</td><td>0.00186973</td><td>0.00333565</td><td>0.00302442</td><td>0.00185526</td></tr>\n",
       "\t<tr><th scope=row>5</th><td>10008</td><td>10008</td><td>1</td><td>-0.0293303</td><td>-0.0202069</td><td>0.00166645</td><td>0.00324116</td><td>0.00298623</td><td>0.00184143</td></tr>\n",
       "\t<tr><th scope=row>6</th><td>10013</td><td>10013</td><td>2</td><td>-0.0237821</td><td>-0.0167873</td><td>0.00189595</td><td>0.00334565</td><td>0.00304071</td><td>0.00186330</td></tr>\n",
       "</tbody>\n",
       "</table>\n"
      ],
      "text/latex": [
       "A data.frame: 6 × 9\n",
       "\\begin{tabular}{r|lllllllll}\n",
       "  & FID & IID & PHENO & SCORE5e-08 & SCORE1e-05 & SCORE0.01 & SCORE0.05 & SCORE0.1 & SCORE0.5\\\\\n",
       "  & <int> & <int> & <int> & <dbl> & <dbl> & <dbl> & <dbl> & <dbl> & <dbl>\\\\\n",
       "\\hline\n",
       "\t1 &     1 &     1 & 2 & -0.0309161 & -0.0212155 & 0.00182651 & 0.00329249 & 0.00299341 & 0.00185303\\\\\n",
       "\t2 & 10003 & 10003 & 2 & -0.0239222 & -0.0171761 & 0.00194481 & 0.00340677 & 0.00307990 & 0.00189726\\\\\n",
       "\t3 & 10004 & 10004 & 2 & -0.0306108 & -0.0192297 & 0.00201606 & 0.00339875 & 0.00305781 & 0.00187737\\\\\n",
       "\t4 & 10006 & 10006 & 1 & -0.0323758 & -0.0212790 & 0.00186973 & 0.00333565 & 0.00302442 & 0.00185526\\\\\n",
       "\t5 & 10008 & 10008 & 1 & -0.0293303 & -0.0202069 & 0.00166645 & 0.00324116 & 0.00298623 & 0.00184143\\\\\n",
       "\t6 & 10013 & 10013 & 2 & -0.0237821 & -0.0167873 & 0.00189595 & 0.00334565 & 0.00304071 & 0.00186330\\\\\n",
       "\\end{tabular}\n"
      ],
      "text/markdown": [
       "\n",
       "A data.frame: 6 × 9\n",
       "\n",
       "| <!--/--> | FID &lt;int&gt; | IID &lt;int&gt; | PHENO &lt;int&gt; | SCORE5e-08 &lt;dbl&gt; | SCORE1e-05 &lt;dbl&gt; | SCORE0.01 &lt;dbl&gt; | SCORE0.05 &lt;dbl&gt; | SCORE0.1 &lt;dbl&gt; | SCORE0.5 &lt;dbl&gt; |\n",
       "|---|---|---|---|---|---|---|---|---|---|\n",
       "| 1 |     1 |     1 | 2 | -0.0309161 | -0.0212155 | 0.00182651 | 0.00329249 | 0.00299341 | 0.00185303 |\n",
       "| 2 | 10003 | 10003 | 2 | -0.0239222 | -0.0171761 | 0.00194481 | 0.00340677 | 0.00307990 | 0.00189726 |\n",
       "| 3 | 10004 | 10004 | 2 | -0.0306108 | -0.0192297 | 0.00201606 | 0.00339875 | 0.00305781 | 0.00187737 |\n",
       "| 4 | 10006 | 10006 | 1 | -0.0323758 | -0.0212790 | 0.00186973 | 0.00333565 | 0.00302442 | 0.00185526 |\n",
       "| 5 | 10008 | 10008 | 1 | -0.0293303 | -0.0202069 | 0.00166645 | 0.00324116 | 0.00298623 | 0.00184143 |\n",
       "| 6 | 10013 | 10013 | 2 | -0.0237821 | -0.0167873 | 0.00189595 | 0.00334565 | 0.00304071 | 0.00186330 |\n",
       "\n"
      ],
      "text/plain": [
       "  FID   IID   PHENO SCORE5e-08 SCORE1e-05 SCORE0.01  SCORE0.05  SCORE0.1  \n",
       "1     1     1 2     -0.0309161 -0.0212155 0.00182651 0.00329249 0.00299341\n",
       "2 10003 10003 2     -0.0239222 -0.0171761 0.00194481 0.00340677 0.00307990\n",
       "3 10004 10004 2     -0.0306108 -0.0192297 0.00201606 0.00339875 0.00305781\n",
       "4 10006 10006 1     -0.0323758 -0.0212790 0.00186973 0.00333565 0.00302442\n",
       "5 10008 10008 1     -0.0293303 -0.0202069 0.00166645 0.00324116 0.00298623\n",
       "6 10013 10013 2     -0.0237821 -0.0167873 0.00189595 0.00334565 0.00304071\n",
       "  SCORE0.5  \n",
       "1 0.00185303\n",
       "2 0.00189726\n",
       "3 0.00187737\n",
       "4 0.00185526\n",
       "5 0.00184143\n",
       "6 0.00186330"
      ]
     },
     "metadata": {},
     "output_type": "display_data"
    },
    {
     "data": {
      "text/html": [
       "<style>\n",
       ".list-inline {list-style: none; margin:0; padding: 0}\n",
       ".list-inline>li {display: inline-block}\n",
       ".list-inline>li:not(:last-child)::after {content: \"\\00b7\"; padding: 0 .5ex}\n",
       "</style>\n",
       "<ol class=list-inline><li>4</li><li>5</li><li>6</li><li>7</li><li>8</li><li>9</li></ol>\n"
      ],
      "text/latex": [
       "\\begin{enumerate*}\n",
       "\\item 4\n",
       "\\item 5\n",
       "\\item 6\n",
       "\\item 7\n",
       "\\item 8\n",
       "\\item 9\n",
       "\\end{enumerate*}\n"
      ],
      "text/markdown": [
       "1. 4\n",
       "2. 5\n",
       "3. 6\n",
       "4. 7\n",
       "5. 8\n",
       "6. 9\n",
       "\n",
       "\n"
      ],
      "text/plain": [
       "[1] 4 5 6 7 8 9"
      ]
     },
     "metadata": {},
     "output_type": "display_data"
    },
    {
     "data": {
      "text/html": [
       "<table class=\"dataframe\">\n",
       "<caption>A data.frame: 6 × 9</caption>\n",
       "<thead>\n",
       "\t<tr><th></th><th scope=col>FID</th><th scope=col>IID</th><th scope=col>PHENO</th><th scope=col>SCORE5e-08_std</th><th scope=col>SCORE1e-05_std</th><th scope=col>SCORE0.01_std</th><th scope=col>SCORE0.05_std</th><th scope=col>SCORE0.1_std</th><th scope=col>SCORE0.5_std</th></tr>\n",
       "\t<tr><th></th><th scope=col>&lt;int&gt;</th><th scope=col>&lt;int&gt;</th><th scope=col>&lt;int&gt;</th><th scope=col>&lt;dbl&gt;</th><th scope=col>&lt;dbl&gt;</th><th scope=col>&lt;dbl&gt;</th><th scope=col>&lt;dbl&gt;</th><th scope=col>&lt;dbl&gt;</th><th scope=col>&lt;dbl&gt;</th></tr>\n",
       "</thead>\n",
       "<tbody>\n",
       "\t<tr><th scope=row>1</th><td>    1</td><td>    1</td><td>2</td><td>0.9498861</td><td>0.2061113</td><td>11.79830</td><td>18.31588</td><td>15.86126</td><td>17.29411</td></tr>\n",
       "\t<tr><th scope=row>2</th><td>10003</td><td>10003</td><td>2</td><td>3.4388739</td><td>3.0246896</td><td>12.77869</td><td>20.07612</td><td>17.65917</td><td>19.22106</td></tr>\n",
       "\t<tr><th scope=row>3</th><td>10004</td><td>10004</td><td>2</td><td>1.0585363</td><td>1.5917460</td><td>13.36916</td><td>19.95259</td><td>17.19998</td><td>18.35452</td></tr>\n",
       "\t<tr><th scope=row>4</th><td>10006</td><td>10006</td><td>1</td><td>0.4304084</td><td>0.1618028</td><td>12.15648</td><td>18.98067</td><td>16.50588</td><td>17.39127</td></tr>\n",
       "\t<tr><th scope=row>5</th><td>10008</td><td>10008</td><td>1</td><td>1.5142403</td><td>0.9098837</td><td>10.47183</td><td>17.52525</td><td>15.71201</td><td>16.78874</td></tr>\n",
       "\t<tr><th scope=row>6</th><td>10013</td><td>10013</td><td>2</td><td>3.4887327</td><td>3.2959832</td><td>12.37377</td><td>19.13470</td><td>16.84451</td><td>17.74154</td></tr>\n",
       "</tbody>\n",
       "</table>\n"
      ],
      "text/latex": [
       "A data.frame: 6 × 9\n",
       "\\begin{tabular}{r|lllllllll}\n",
       "  & FID & IID & PHENO & SCORE5e-08\\_std & SCORE1e-05\\_std & SCORE0.01\\_std & SCORE0.05\\_std & SCORE0.1\\_std & SCORE0.5\\_std\\\\\n",
       "  & <int> & <int> & <int> & <dbl> & <dbl> & <dbl> & <dbl> & <dbl> & <dbl>\\\\\n",
       "\\hline\n",
       "\t1 &     1 &     1 & 2 & 0.9498861 & 0.2061113 & 11.79830 & 18.31588 & 15.86126 & 17.29411\\\\\n",
       "\t2 & 10003 & 10003 & 2 & 3.4388739 & 3.0246896 & 12.77869 & 20.07612 & 17.65917 & 19.22106\\\\\n",
       "\t3 & 10004 & 10004 & 2 & 1.0585363 & 1.5917460 & 13.36916 & 19.95259 & 17.19998 & 18.35452\\\\\n",
       "\t4 & 10006 & 10006 & 1 & 0.4304084 & 0.1618028 & 12.15648 & 18.98067 & 16.50588 & 17.39127\\\\\n",
       "\t5 & 10008 & 10008 & 1 & 1.5142403 & 0.9098837 & 10.47183 & 17.52525 & 15.71201 & 16.78874\\\\\n",
       "\t6 & 10013 & 10013 & 2 & 3.4887327 & 3.2959832 & 12.37377 & 19.13470 & 16.84451 & 17.74154\\\\\n",
       "\\end{tabular}\n"
      ],
      "text/markdown": [
       "\n",
       "A data.frame: 6 × 9\n",
       "\n",
       "| <!--/--> | FID &lt;int&gt; | IID &lt;int&gt; | PHENO &lt;int&gt; | SCORE5e-08_std &lt;dbl&gt; | SCORE1e-05_std &lt;dbl&gt; | SCORE0.01_std &lt;dbl&gt; | SCORE0.05_std &lt;dbl&gt; | SCORE0.1_std &lt;dbl&gt; | SCORE0.5_std &lt;dbl&gt; |\n",
       "|---|---|---|---|---|---|---|---|---|---|\n",
       "| 1 |     1 |     1 | 2 | 0.9498861 | 0.2061113 | 11.79830 | 18.31588 | 15.86126 | 17.29411 |\n",
       "| 2 | 10003 | 10003 | 2 | 3.4388739 | 3.0246896 | 12.77869 | 20.07612 | 17.65917 | 19.22106 |\n",
       "| 3 | 10004 | 10004 | 2 | 1.0585363 | 1.5917460 | 13.36916 | 19.95259 | 17.19998 | 18.35452 |\n",
       "| 4 | 10006 | 10006 | 1 | 0.4304084 | 0.1618028 | 12.15648 | 18.98067 | 16.50588 | 17.39127 |\n",
       "| 5 | 10008 | 10008 | 1 | 1.5142403 | 0.9098837 | 10.47183 | 17.52525 | 15.71201 | 16.78874 |\n",
       "| 6 | 10013 | 10013 | 2 | 3.4887327 | 3.2959832 | 12.37377 | 19.13470 | 16.84451 | 17.74154 |\n",
       "\n"
      ],
      "text/plain": [
       "  FID   IID   PHENO SCORE5e-08_std SCORE1e-05_std SCORE0.01_std SCORE0.05_std\n",
       "1     1     1 2     0.9498861      0.2061113      11.79830      18.31588     \n",
       "2 10003 10003 2     3.4388739      3.0246896      12.77869      20.07612     \n",
       "3 10004 10004 2     1.0585363      1.5917460      13.36916      19.95259     \n",
       "4 10006 10006 1     0.4304084      0.1618028      12.15648      18.98067     \n",
       "5 10008 10008 1     1.5142403      0.9098837      10.47183      17.52525     \n",
       "6 10013 10013 2     3.4887327      3.2959832      12.37377      19.13470     \n",
       "  SCORE0.1_std SCORE0.5_std\n",
       "1 15.86126     17.29411    \n",
       "2 17.65917     19.22106    \n",
       "3 17.19998     18.35452    \n",
       "4 16.50588     17.39127    \n",
       "5 15.71201     16.78874    \n",
       "6 16.84451     17.74154    "
      ]
     },
     "metadata": {},
     "output_type": "display_data"
    }
   ],
   "source": [
    "# Before standardization\n",
    "head(target_prs.plink)\n",
    "\n",
    "std_names <- colnames(target_prs.plink)\n",
    "\n",
    "for (sc in c(starting_scores_pos_target:(starting_scores_pos_target+no_plink_thr-1))) {\n",
    "    std_names[sc] <- paste(colnames(target_prs.plink)[sc], \"_std\", sep=\"\")\n",
    "}\n",
    "\n",
    "std_prs.plink <- target_prs.plink\n",
    "colnames(std_prs.plink) <- std_names\n",
    "\n",
    "c(starting_scores_pos_target:(starting_scores_pos_target+no_plink_thr-1))\n",
    "\n",
    "for (sc in c(starting_scores_pos_target:(starting_scores_pos_target+no_plink_thr-1))) {\n",
    "    col_name <- std_names[sc]\n",
    "    mean <- ext_mean.plink[(sc-starting_scores_pos_target+1),1]\n",
    "    stdv <- ext_sd.plink[(sc-starting_scores_pos_target+1),1]\n",
    "    std_prs.plink[,sc] <- (target_prs.plink[,sc] - mean) / stdv\n",
    "}\n",
    "\n",
    "head(std_prs.plink)\n"
   ]
  },
  {
   "cell_type": "code",
   "execution_count": 74,
   "id": "b527df50",
   "metadata": {},
   "outputs": [
    {
     "data": {
      "text/html": [
       "<table class=\"dataframe\">\n",
       "<caption>A data.frame: 6 × 9</caption>\n",
       "<thead>\n",
       "\t<tr><th></th><th scope=col>FID</th><th scope=col>IID</th><th scope=col>PHENO</th><th scope=col>SCORE5e-08_std</th><th scope=col>SCORE1e-05_std</th><th scope=col>SCORE0.01_std</th><th scope=col>SCORE0.05_std</th><th scope=col>SCORE0.1_std</th><th scope=col>SCORE0.5_std</th></tr>\n",
       "\t<tr><th></th><th scope=col>&lt;int&gt;</th><th scope=col>&lt;int&gt;</th><th scope=col>&lt;dbl&gt;</th><th scope=col>&lt;dbl&gt;</th><th scope=col>&lt;dbl&gt;</th><th scope=col>&lt;dbl&gt;</th><th scope=col>&lt;dbl&gt;</th><th scope=col>&lt;dbl&gt;</th><th scope=col>&lt;dbl&gt;</th></tr>\n",
       "</thead>\n",
       "<tbody>\n",
       "\t<tr><th scope=row>1</th><td>    1</td><td>    1</td><td>1</td><td>0.9498861</td><td>0.2061113</td><td>11.79830</td><td>18.31588</td><td>15.86126</td><td>17.29411</td></tr>\n",
       "\t<tr><th scope=row>2</th><td>10003</td><td>10003</td><td>1</td><td>3.4388739</td><td>3.0246896</td><td>12.77869</td><td>20.07612</td><td>17.65917</td><td>19.22106</td></tr>\n",
       "\t<tr><th scope=row>3</th><td>10004</td><td>10004</td><td>1</td><td>1.0585363</td><td>1.5917460</td><td>13.36916</td><td>19.95259</td><td>17.19998</td><td>18.35452</td></tr>\n",
       "\t<tr><th scope=row>4</th><td>10006</td><td>10006</td><td>0</td><td>0.4304084</td><td>0.1618028</td><td>12.15648</td><td>18.98067</td><td>16.50588</td><td>17.39127</td></tr>\n",
       "\t<tr><th scope=row>5</th><td>10008</td><td>10008</td><td>0</td><td>1.5142403</td><td>0.9098837</td><td>10.47183</td><td>17.52525</td><td>15.71201</td><td>16.78874</td></tr>\n",
       "\t<tr><th scope=row>6</th><td>10013</td><td>10013</td><td>1</td><td>3.4887327</td><td>3.2959832</td><td>12.37377</td><td>19.13470</td><td>16.84451</td><td>17.74154</td></tr>\n",
       "</tbody>\n",
       "</table>\n"
      ],
      "text/latex": [
       "A data.frame: 6 × 9\n",
       "\\begin{tabular}{r|lllllllll}\n",
       "  & FID & IID & PHENO & SCORE5e-08\\_std & SCORE1e-05\\_std & SCORE0.01\\_std & SCORE0.05\\_std & SCORE0.1\\_std & SCORE0.5\\_std\\\\\n",
       "  & <int> & <int> & <dbl> & <dbl> & <dbl> & <dbl> & <dbl> & <dbl> & <dbl>\\\\\n",
       "\\hline\n",
       "\t1 &     1 &     1 & 1 & 0.9498861 & 0.2061113 & 11.79830 & 18.31588 & 15.86126 & 17.29411\\\\\n",
       "\t2 & 10003 & 10003 & 1 & 3.4388739 & 3.0246896 & 12.77869 & 20.07612 & 17.65917 & 19.22106\\\\\n",
       "\t3 & 10004 & 10004 & 1 & 1.0585363 & 1.5917460 & 13.36916 & 19.95259 & 17.19998 & 18.35452\\\\\n",
       "\t4 & 10006 & 10006 & 0 & 0.4304084 & 0.1618028 & 12.15648 & 18.98067 & 16.50588 & 17.39127\\\\\n",
       "\t5 & 10008 & 10008 & 0 & 1.5142403 & 0.9098837 & 10.47183 & 17.52525 & 15.71201 & 16.78874\\\\\n",
       "\t6 & 10013 & 10013 & 1 & 3.4887327 & 3.2959832 & 12.37377 & 19.13470 & 16.84451 & 17.74154\\\\\n",
       "\\end{tabular}\n"
      ],
      "text/markdown": [
       "\n",
       "A data.frame: 6 × 9\n",
       "\n",
       "| <!--/--> | FID &lt;int&gt; | IID &lt;int&gt; | PHENO &lt;dbl&gt; | SCORE5e-08_std &lt;dbl&gt; | SCORE1e-05_std &lt;dbl&gt; | SCORE0.01_std &lt;dbl&gt; | SCORE0.05_std &lt;dbl&gt; | SCORE0.1_std &lt;dbl&gt; | SCORE0.5_std &lt;dbl&gt; |\n",
       "|---|---|---|---|---|---|---|---|---|---|\n",
       "| 1 |     1 |     1 | 1 | 0.9498861 | 0.2061113 | 11.79830 | 18.31588 | 15.86126 | 17.29411 |\n",
       "| 2 | 10003 | 10003 | 1 | 3.4388739 | 3.0246896 | 12.77869 | 20.07612 | 17.65917 | 19.22106 |\n",
       "| 3 | 10004 | 10004 | 1 | 1.0585363 | 1.5917460 | 13.36916 | 19.95259 | 17.19998 | 18.35452 |\n",
       "| 4 | 10006 | 10006 | 0 | 0.4304084 | 0.1618028 | 12.15648 | 18.98067 | 16.50588 | 17.39127 |\n",
       "| 5 | 10008 | 10008 | 0 | 1.5142403 | 0.9098837 | 10.47183 | 17.52525 | 15.71201 | 16.78874 |\n",
       "| 6 | 10013 | 10013 | 1 | 3.4887327 | 3.2959832 | 12.37377 | 19.13470 | 16.84451 | 17.74154 |\n",
       "\n"
      ],
      "text/plain": [
       "  FID   IID   PHENO SCORE5e-08_std SCORE1e-05_std SCORE0.01_std SCORE0.05_std\n",
       "1     1     1 1     0.9498861      0.2061113      11.79830      18.31588     \n",
       "2 10003 10003 1     3.4388739      3.0246896      12.77869      20.07612     \n",
       "3 10004 10004 1     1.0585363      1.5917460      13.36916      19.95259     \n",
       "4 10006 10006 0     0.4304084      0.1618028      12.15648      18.98067     \n",
       "5 10008 10008 0     1.5142403      0.9098837      10.47183      17.52525     \n",
       "6 10013 10013 1     3.4887327      3.2959832      12.37377      19.13470     \n",
       "  SCORE0.1_std SCORE0.5_std\n",
       "1 15.86126     17.29411    \n",
       "2 17.65917     19.22106    \n",
       "3 17.19998     18.35452    \n",
       "4 16.50588     17.39127    \n",
       "5 15.71201     16.78874    \n",
       "6 16.84451     17.74154    "
      ]
     },
     "metadata": {},
     "output_type": "display_data"
    }
   ],
   "source": [
    "std_prs_ph.plink <- std_prs.plink\n",
    "std_prs_ph.plink$PHENO <- std_prs_ph.plink$PHENO - 1\n",
    "\n",
    "head(std_prs_ph.plink)"
   ]
  },
  {
   "cell_type": "code",
   "execution_count": null,
   "id": "357d66d6",
   "metadata": {},
   "outputs": [],
   "source": [
    "# construct logistic regression to see which is the best of the four\n",
    "log_model.plink.1 <- glm(phenos ~ Pt_5e.08_std, data = std_prs_ph.prsice, family = binomial(link = \"logit\"))\n",
    "log_model.prsice.2 <- glm(phenos ~ Pt_1e.05_std, data = std_prs_ph.prsice, family = binomial(link = \"logit\"))\n",
    "log_model.prsice.3 <- glm(phenos ~ Pt_0.01_std, data = std_prs_ph.prsice, family = binomial(link = \"logit\"))\n",
    "log_model.prsice.4 <- glm(phenos ~ Pt_0.05_std, data = std_prs_ph.prsice, family = binomial(link = \"logit\"))\n",
    "log_model.prsice.5 <- glm(phenos ~ Pt_0.1_std, data = std_prs_ph.prsice, family = binomial(link = \"logit\"))\n",
    "log_model.prsice.6 <- glm(phenos ~ Pt_0.5_std, data = std_prs_ph.prsice, family = binomial(link = \"logit\"))\n",
    "log_model.prsice.7 <- glm(phenos ~ Pt_1_std, data = std_prs_ph.prsice, family = binomial(link = \"logit\"))"
   ]
  },
  {
   "cell_type": "code",
   "execution_count": 84,
   "id": "85fac6fe",
   "metadata": {},
   "outputs": [
    {
     "data": {
      "text/html": [
       "'SCORE5e-08_std'"
      ],
      "text/latex": [
       "'SCORE5e-08\\_std'"
      ],
      "text/markdown": [
       "'SCORE5e-08_std'"
      ],
      "text/plain": [
       "[1] \"SCORE5e-08_std\""
      ]
     },
     "metadata": {},
     "output_type": "display_data"
    }
   ],
   "source": [
    "(colnames(std_prs_ph.plink)[4])"
   ]
  },
  {
   "cell_type": "code",
   "execution_count": 89,
   "id": "17abfaba",
   "metadata": {},
   "outputs": [
    {
     "data": {
      "text/html": [
       "<style>\n",
       ".list-inline {list-style: none; margin:0; padding: 0}\n",
       ".list-inline>li {display: inline-block}\n",
       ".list-inline>li:not(:last-child)::after {content: \"\\00b7\"; padding: 0 .5ex}\n",
       "</style>\n",
       "<ol class=list-inline><li>0.0770997405000154</li><li>0.0908821471252337</li><li>0.0620014985910219</li><li>0.0506081368543817</li><li>0.0436556906720541</li><li>0.0412723820909261</li></ol>\n"
      ],
      "text/latex": [
       "\\begin{enumerate*}\n",
       "\\item 0.0770997405000154\n",
       "\\item 0.0908821471252337\n",
       "\\item 0.0620014985910219\n",
       "\\item 0.0506081368543817\n",
       "\\item 0.0436556906720541\n",
       "\\item 0.0412723820909261\n",
       "\\end{enumerate*}\n"
      ],
      "text/markdown": [
       "1. 0.0770997405000154\n",
       "2. 0.0908821471252337\n",
       "3. 0.0620014985910219\n",
       "4. 0.0506081368543817\n",
       "5. 0.0436556906720541\n",
       "6. 0.0412723820909261\n",
       "\n",
       "\n"
      ],
      "text/plain": [
       "[1] 0.07709974 0.09088215 0.06200150 0.05060814 0.04365569 0.04127238"
      ]
     },
     "metadata": {},
     "output_type": "display_data"
    }
   ],
   "source": [
    "explained_var.plink <- c()\n",
    "\n",
    "for (i in 1:length(plink_thr)) {\n",
    "    \n",
    "    var <- paste('SCORE', plink_thr[i], '_std', sep=\"\")\n",
    "    #pull(std_prs_ph.plink, var)\n",
    "    \n",
    "    log_model.plink <- glm(std_prs_ph.plink$PHENO ~ pull(std_prs_ph.plink, var), family = binomial(link = \"logit\"))\n",
    "    explained_var.plink[i] <- with(summary(log_model.plink), 1 - deviance/null.deviance)\n",
    "}\n",
    "\n",
    "explained_var.plink"
   ]
  },
  {
   "cell_type": "code",
   "execution_count": 96,
   "id": "520219fb",
   "metadata": {},
   "outputs": [
    {
     "data": {
      "text/html": [
       "2"
      ],
      "text/latex": [
       "2"
      ],
      "text/markdown": [
       "2"
      ],
      "text/plain": [
       "[1] 2"
      ]
     },
     "metadata": {},
     "output_type": "display_data"
    },
    {
     "data": {
      "text/html": [
       "<table class=\"dataframe\">\n",
       "<caption>A data.frame: 6 × 4</caption>\n",
       "<thead>\n",
       "\t<tr><th></th><th scope=col>FID</th><th scope=col>IID</th><th scope=col>pheno</th><th scope=col>std_prs</th></tr>\n",
       "\t<tr><th></th><th scope=col>&lt;int&gt;</th><th scope=col>&lt;int&gt;</th><th scope=col>&lt;dbl&gt;</th><th scope=col>&lt;dbl&gt;</th></tr>\n",
       "</thead>\n",
       "<tbody>\n",
       "\t<tr><th scope=row>1</th><td>    1</td><td>    1</td><td>1</td><td>0.2061113</td></tr>\n",
       "\t<tr><th scope=row>2</th><td>10003</td><td>10003</td><td>1</td><td>3.0246896</td></tr>\n",
       "\t<tr><th scope=row>3</th><td>10004</td><td>10004</td><td>1</td><td>1.5917460</td></tr>\n",
       "\t<tr><th scope=row>4</th><td>10006</td><td>10006</td><td>0</td><td>0.1618028</td></tr>\n",
       "\t<tr><th scope=row>5</th><td>10008</td><td>10008</td><td>0</td><td>0.9098837</td></tr>\n",
       "\t<tr><th scope=row>6</th><td>10013</td><td>10013</td><td>1</td><td>3.2959832</td></tr>\n",
       "</tbody>\n",
       "</table>\n"
      ],
      "text/latex": [
       "A data.frame: 6 × 4\n",
       "\\begin{tabular}{r|llll}\n",
       "  & FID & IID & pheno & std\\_prs\\\\\n",
       "  & <int> & <int> & <dbl> & <dbl>\\\\\n",
       "\\hline\n",
       "\t1 &     1 &     1 & 1 & 0.2061113\\\\\n",
       "\t2 & 10003 & 10003 & 1 & 3.0246896\\\\\n",
       "\t3 & 10004 & 10004 & 1 & 1.5917460\\\\\n",
       "\t4 & 10006 & 10006 & 0 & 0.1618028\\\\\n",
       "\t5 & 10008 & 10008 & 0 & 0.9098837\\\\\n",
       "\t6 & 10013 & 10013 & 1 & 3.2959832\\\\\n",
       "\\end{tabular}\n"
      ],
      "text/markdown": [
       "\n",
       "A data.frame: 6 × 4\n",
       "\n",
       "| <!--/--> | FID &lt;int&gt; | IID &lt;int&gt; | pheno &lt;dbl&gt; | std_prs &lt;dbl&gt; |\n",
       "|---|---|---|---|---|\n",
       "| 1 |     1 |     1 | 1 | 0.2061113 |\n",
       "| 2 | 10003 | 10003 | 1 | 3.0246896 |\n",
       "| 3 | 10004 | 10004 | 1 | 1.5917460 |\n",
       "| 4 | 10006 | 10006 | 0 | 0.1618028 |\n",
       "| 5 | 10008 | 10008 | 0 | 0.9098837 |\n",
       "| 6 | 10013 | 10013 | 1 | 3.2959832 |\n",
       "\n"
      ],
      "text/plain": [
       "  FID   IID   pheno std_prs  \n",
       "1     1     1 1     0.2061113\n",
       "2 10003 10003 1     3.0246896\n",
       "3 10004 10004 1     1.5917460\n",
       "4 10006 10006 0     0.1618028\n",
       "5 10008 10008 0     0.9098837\n",
       "6 10013 10013 1     3.2959832"
      ]
     },
     "metadata": {},
     "output_type": "display_data"
    }
   ],
   "source": [
    "#obtain the highest explained variance \n",
    "best_prs.plink <- which.max(explained_var.plink)\n",
    "best_prs.plink\n",
    "\n",
    "#obtain the best prs by indexing from which model had the best explained variance\n",
    "best_target.plink <- std_prs_ph.plink %>% select(1, 2, 3, (starting_scores_pos_target+best_prs.plink-1))\n",
    "best_target.plink <- best_target.plink[complete.cases(best_target.plink), ]\n",
    "colnames(best_target.plink) <- c('FID', 'IID', 'pheno', 'std_prs')\n",
    "head(best_target.plink)"
   ]
  },
  {
   "cell_type": "code",
   "execution_count": 97,
   "id": "c3a13d5d",
   "metadata": {},
   "outputs": [],
   "source": [
    "#recode phenotype into a factor\n",
    "best_target.plink$pheno <- as.factor(best_target.plink$pheno)"
   ]
  },
  {
   "cell_type": "code",
   "execution_count": 98,
   "id": "d64aff0f",
   "metadata": {},
   "outputs": [
    {
     "data": {
      "image/png": "[encoded data removed]",
      "text/plain": [
       "plot without title"
      ]
     },
     "metadata": {
      "image/png": {
       "height": 420,
       "width": 420
      }
     },
     "output_type": "display_data"
    }
   ],
   "source": [
    "#make boxplot\n",
    "ggplot(best_target.plink, aes(y = std_prs, group = pheno, fill = pheno, alpha = 0.5)) +\n",
    "labs(title = \"Standardized PRS for Cases and Controls\", y = \"Standardized PRS\", fill = 'Disease Status')+\n",
    "geom_boxplot() + guides (alpha = \"none\") + theme_bw() + \n",
    "theme(plot.title = element_text(size=15), axis.title.y =  element_text(size=12), axis.text.x=element_blank(),\n",
    "      axis.ticks.x=element_blank()) + scale_fill_discrete(labels = c(\"Controls\",\"Cases\"))"
   ]
  },
  {
   "cell_type": "code",
   "execution_count": 99,
   "id": "fb8f9199",
   "metadata": {},
   "outputs": [],
   "source": [
    "setwd(\"/lustre1/project/stg_00092/IBP_PRSproject/1_Intestinal_Bowel_Disease/output_data/\")\n",
    "\n",
    "#need to write table for best prs\n",
    "write.table(best_target.plink, \"005_comparison/best_prs_plink.txt\", col.names = TRUE, row.names = FALSE, quote = FALSE)\n"
   ]
  },
  {
   "cell_type": "code",
   "execution_count": null,
   "id": "366079e3",
   "metadata": {},
   "outputs": [],
   "source": []
  }
 ],
 "metadata": {
  "kernelspec": {
   "display_name": "r-env",
   "language": "R",
   "name": "r"
  },
  "language_info": {
   "codemirror_mode": "r",
   "file_extension": ".r",
   "mimetype": "text/x-r-source",
   "name": "R",
   "pygments_lexer": "r",
   "version": "4.2.1"
  }
 },
 "nbformat": 4,
 "nbformat_minor": 5
}
