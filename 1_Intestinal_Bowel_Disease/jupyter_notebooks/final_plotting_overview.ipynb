{
 "cells": [
  {
   "cell_type": "code",
   "execution_count": 3,
   "id": "7ad0c270",
   "metadata": {},
   "outputs": [
    {
     "name": "stderr",
     "output_type": "stream",
     "text": [
      "\n",
      "Attaching package: ‘dplyr’\n",
      "\n",
      "\n",
      "The following objects are masked from ‘package:stats’:\n",
      "\n",
      "    filter, lag\n",
      "\n",
      "\n",
      "The following objects are masked from ‘package:base’:\n",
      "\n",
      "    intersect, setdiff, setequal, union\n",
      "\n",
      "\n",
      "\n",
      "Attaching package: ‘data.table’\n",
      "\n",
      "\n",
      "The following objects are masked from ‘package:dplyr’:\n",
      "\n",
      "    between, first, last\n",
      "\n",
      "\n",
      "Type 'citation(\"pROC\")' for a citation.\n",
      "\n",
      "\n",
      "Attaching package: ‘pROC’\n",
      "\n",
      "\n",
      "The following objects are masked from ‘package:stats’:\n",
      "\n",
      "    cov, smooth, var\n",
      "\n",
      "\n",
      "Classes and Methods for R developed in the\n",
      "Political Science Computational Laboratory\n",
      "Department of Political Science\n",
      "Stanford University\n",
      "Simon Jackman\n",
      "hurdle and zeroinfl functions by Achim Zeileis\n",
      "\n"
     ]
    }
   ],
   "source": [
    "library(dplyr)\n",
    "library(ggplot2)\n",
    "library(data.table)\n",
    "library(ROCR)\n",
    "library(pROC)\n",
    "library(pscl)"
   ]
  },
  {
   "cell_type": "code",
   "execution_count": 2,
   "id": "8ed2c068",
   "metadata": {},
   "outputs": [
    {
     "data": {
      "text/html": [
       "'/lustre1/project/stg_00092/IBP_PRSproject/1_Intestinal_Bowel_Disease/jupyter_notebooks'"
      ],
      "text/latex": [
       "'/lustre1/project/stg\\_00092/IBP\\_PRSproject/1\\_Intestinal\\_Bowel\\_Disease/jupyter\\_notebooks'"
      ],
      "text/markdown": [
       "'/lustre1/project/stg_00092/IBP_PRSproject/1_Intestinal_Bowel_Disease/jupyter_notebooks'"
      ],
      "text/plain": [
       "[1] \"/lustre1/project/stg_00092/IBP_PRSproject/1_Intestinal_Bowel_Disease/jupyter_notebooks\""
      ]
     },
     "metadata": {},
     "output_type": "display_data"
    }
   ],
   "source": [
    "getwd()"
   ]
  },
  {
   "cell_type": "code",
   "execution_count": 1,
   "id": "c93c850e",
   "metadata": {},
   "outputs": [],
   "source": [
    "setwd(\"/lustre1/project/stg_00092/IBP_PRSproject/1_Intestinal_Bowel_Disease/output_data/\")"
   ]
  },
  {
   "cell_type": "code",
   "execution_count": 4,
   "id": "df5ebb82",
   "metadata": {},
   "outputs": [
    {
     "name": "stderr",
     "output_type": "stream",
     "text": [
      "Warning message in file(file, \"rt\"):\n",
      "“cannot open file '003_lassoSum/target_data/IBD_GSA_fin_prs_lasso1.txt': No such file or directory”\n"
     ]
    },
    {
     "ename": "ERROR",
     "evalue": "Error in file(file, \"rt\"): cannot open the connection\n",
     "output_type": "error",
     "traceback": [
      "Error in file(file, \"rt\"): cannot open the connection\nTraceback:\n",
      "1. read.table(\"003_lassoSum/target_data/IBD_GSA_fin_prs_lasso1.txt\", \n .     header = T)",
      "2. file(file, \"rt\")"
     ]
    }
   ],
   "source": [
    "#read in scores\n",
    "target.prs.lasso.1 <- read.table(\"003_lassoSum/target_data/IBD_GSA_fin_prs_lasso1.txt\", header = T)\n",
    "target.prs.lasso.2 <- read.table(\"003_lassoSum/target_data/IBD_GSA_fin_prs_lasso2.txt\", header = T)\n",
    "target.prs.lasso.3 <- read.table(\"003_lassoSum/target_data/IBD_GSA_fin_prs_lasso3.txt\", header = T)\n",
    "target.prs.lasso.4 <- read.table(\"003_lassoSum/target_data/IBD_GSA_fin_prs_lasso4.txt\", header = T)"
   ]
  },
  {
   "cell_type": "markdown",
   "id": "b89aad68",
   "metadata": {},
   "source": [
    "Read in the 1000 genome data"
   ]
  },
  {
   "cell_type": "code",
   "execution_count": 5,
   "id": "0ed32b89",
   "metadata": {},
   "outputs": [],
   "source": [
    "setwd(\"/lustre1/project/stg_00092/IBP_PRSproject/1_Intestinal_Bowel_Disease/output_data/\")"
   ]
  },
  {
   "cell_type": "code",
   "execution_count": 7,
   "id": "8afbe425",
   "metadata": {},
   "outputs": [],
   "source": [
    "external_prs.lasso.1 <- read.table(\"003_lassoSum/external_data/IBD_GSA_fin_prs_lasso1_external.txt\", header = TRUE)\n",
    "external_prs.lasso.1 <- external_prs.lasso.1[complete.cases(external_prs.lasso.1), ]\n",
    "external_prs.lasso.2 <- read.table(\"003_lassoSum/external_data/IBD_GSA_fin_prs_lasso2_external.txt\", header = TRUE)\n",
    "external_prs.lasso.2 <- external_prs.lasso.2[complete.cases(external_prs.lasso.2), ]\n",
    "external_prs.lasso.3 <- read.table(\"003_lassoSum/external_data/IBD_GSA_fin_prs_lasso3_external.txt\", header = TRUE)\n",
    "external_prs.lasso.3 <- external_prs.lasso.3[complete.cases(external_prs.lasso.3), ]\n",
    "external_prs.lasso.4 <- read.table(\"003_lassoSum/external_data/IBD_GSA_fin_prs_lasso4_external.txt\", header = TRUE)\n",
    "external_prs.lasso.4 <- external_prs.lasso.4[complete.cases(external_prs.lasso.4), ]"
   ]
  },
  {
   "cell_type": "code",
   "execution_count": 8,
   "id": "2ac21aca",
   "metadata": {},
   "outputs": [],
   "source": [
    "ext_mean.lasso.1 <- mean(external_prs.lasso.1$best.pgs)\n",
    "ext_sd.lasso.1 <- sd(external_prs.lasso.1$best.pgs)\n",
    "ext_mean.lasso.2 <- mean(external_prs.lasso.2$best.pgs)\n",
    "ext_sd.lasso.2 <- sd(external_prs.lasso.2$best.pgs)\n",
    "ext_mean.lasso.3 <- mean(external_prs.lasso.3$best.pgs)\n",
    "ext_sd.lasso.3 <- sd(external_prs.lasso.3$best.pgs)\n",
    "ext_mean.lasso.4 <- mean(external_prs.lasso.4$best.pgs)\n",
    "ext_sd.lasso.4 <- sd(external_prs.lasso.4$best.pgs)"
   ]
  },
  {
   "cell_type": "code",
   "execution_count": 9,
   "id": "dad8f220",
   "metadata": {},
   "outputs": [],
   "source": [
    "#standardize target\n",
    "target.prs.lasso.1$std_prs <- (target.prs.lasso.1$best.pgs - ext_mean.lasso.1) / ext_sd.lasso.1\n",
    "target.prs.lasso.2$std_prs <- (target.prs.lasso.2$best.pgs - ext_mean.lasso.2) / ext_sd.lasso.2\n",
    "target.prs.lasso.3$std_prs <- (target.prs.lasso.3$best.pgs - ext_mean.lasso.3) / ext_sd.lasso.3\n",
    "target.prs.lasso.4$std_prs <- (target.prs.lasso.4$best.pgs - ext_mean.lasso.4) / ext_sd.lasso.4"
   ]
  },
  {
   "cell_type": "code",
   "execution_count": 10,
   "id": "1b1e8570",
   "metadata": {},
   "outputs": [],
   "source": [
    "#update the phenotype \n",
    "target.prs.lasso.1$pheno <- target.prs.lasso.1$pheno - 1\n",
    "target.prs.lasso.2$pheno <- target.prs.lasso.2$pheno - 1\n",
    "target.prs.lasso.3$pheno <- target.prs.lasso.3$pheno - 1\n",
    "target.prs.lasso.4$pheno <- target.prs.lasso.4$pheno - 1"
   ]
  },
  {
   "cell_type": "code",
   "execution_count": 11,
   "id": "c1b92a95",
   "metadata": {},
   "outputs": [],
   "source": [
    "#construct logistic regression to see which is the best of the four\n",
    "log_model.lasso.1 <- glm(pheno ~ std_prs, data = target.prs.lasso.1, family = binomial(link = \"logit\"))\n",
    "log_model.lasso.2 <- glm(pheno ~ std_prs, data = target.prs.lasso.2, family = binomial(link = \"logit\"))\n",
    "log_model.lasso.3 <- glm(pheno ~ std_prs, data = target.prs.lasso.3, family = binomial(link = \"logit\"))\n",
    "log_model.lasso.4 <- glm(pheno ~ std_prs, data = target.prs.lasso.4, family = binomial(link = \"logit\"))"
   ]
  },
  {
   "cell_type": "code",
   "execution_count": 12,
   "id": "19325918",
   "metadata": {},
   "outputs": [],
   "source": [
    "#make a list of the explained variance\n",
    "explained_var.lasso <- c(with(summary(log_model.lasso.1), 1 - deviance/null.deviance), with(summary(log_model.lasso.2), 1 - deviance/null.deviance), with(summary(log_model.lasso.3), 1 - deviance/null.deviance),with(summary(log_model.lasso.4), 1 - deviance/null.deviance))"
   ]
  },
  {
   "cell_type": "code",
   "execution_count": 13,
   "id": "a66ea9ce",
   "metadata": {},
   "outputs": [],
   "source": [
    "#obtain the highest explained variance \n",
    "best_prs.lasso <- which.max(explained_var.lasso)"
   ]
  },
  {
   "cell_type": "code",
   "execution_count": 14,
   "id": "bc39e553",
   "metadata": {},
   "outputs": [],
   "source": [
    "#make a list of the prs datasets\n",
    "targets.lasso <- list(target.prs.lasso.1, target.prs.lasso.2, target.prs.lasso.3, target.prs.lasso.4)"
   ]
  },
  {
   "cell_type": "code",
   "execution_count": 15,
   "id": "ba35d7fa",
   "metadata": {},
   "outputs": [],
   "source": [
    "#obtain the best prs by indexing from which model\n",
    "#had the best explained variance\n",
    "best_target.lasso <- as.data.frame(targets.lasso[best_prs.lasso])\n",
    "best_target.lasso <- best_target.lasso[complete.cases(best_target.lasso), ]"
   ]
  },
  {
   "cell_type": "code",
   "execution_count": 16,
   "id": "be5772f6",
   "metadata": {},
   "outputs": [],
   "source": [
    "#recode phenotype into a factor\n",
    "best_target.lasso$pheno <- as.factor(best_target.lasso$pheno)"
   ]
  },
  {
   "cell_type": "code",
   "execution_count": 17,
   "id": "4a09536c",
   "metadata": {},
   "outputs": [
    {
     "data": {
      "image/png": "[encoded data removed]",
      "text/plain": [
       "plot without title"
      ]
     },
     "metadata": {
      "image/png": {
       "height": 420,
       "width": 420
      }
     },
     "output_type": "display_data"
    }
   ],
   "source": [
    "#make boxplot\n",
    "ggplot(best_target.lasso, aes(y = std_prs, group = pheno, fill = pheno, alpha = 0.5)) +\n",
    "labs(title = \"Standardized PRS for Cases and Controls\", y = \"Standardized PRS\", fill = 'Disease Status')+\n",
    "geom_boxplot() + guides (alpha = \"none\") + theme_bw() + \n",
    "theme(plot.title = element_text(size=15), axis.title.y =  element_text(size=12), axis.text.x=element_blank(),\n",
    "      axis.ticks.x=element_blank()) + scale_fill_discrete(labels = c(\"Controls\",\"Cases\"))"
   ]
  },
  {
   "cell_type": "code",
   "execution_count": 249,
   "id": "1b7ab96c",
   "metadata": {},
   "outputs": [],
   "source": [
    "setwd(\"/lustre1/project/stg_00092/IBP_PRSproject/1_Intestinal_Bowel_Disease/output_data/\")"
   ]
  },
  {
   "cell_type": "code",
   "execution_count": 252,
   "id": "f09ca309",
   "metadata": {},
   "outputs": [],
   "source": [
    "#need to write table for best prs\n",
    "write.table(best_target.lasso, \"005_comparison/best_prs_lassoSum.txt\", col.names = TRUE, row.names = FALSE, quote = FALSE)"
   ]
  },
  {
   "cell_type": "markdown",
   "id": "ef0d5e84",
   "metadata": {},
   "source": [
    "Do bootstrapping on the ROC estimate so we can have a confidence interval for the AUC metric."
   ]
  },
  {
   "cell_type": "code",
   "execution_count": 253,
   "id": "e87fe2a2",
   "metadata": {
    "scrolled": true
   },
   "outputs": [
    {
     "name": "stderr",
     "output_type": "stream",
     "text": [
      "Setting levels: control = 0, case = 1\n",
      "\n",
      "Setting direction: controls < cases\n",
      "\n"
     ]
    }
   ],
   "source": [
    "#run the ROC\n",
    "lasso.roc <- roc(best_target.lasso$pheno, best_target.lasso$std_prs, smooth = F)"
   ]
  },
  {
   "cell_type": "code",
   "execution_count": 254,
   "id": "19a3ed80",
   "metadata": {},
   "outputs": [],
   "source": [
    "#do the bootstrapping \n",
    "lasso.roc.ci <- ci.auc(lasso.roc, method = \"bootstrap\", boot.n = 1000, boot.stratified = TRUE)"
   ]
  },
  {
   "cell_type": "code",
   "execution_count": 255,
   "id": "438b3be6",
   "metadata": {},
   "outputs": [
    {
     "data": {
      "image/png": "[encoded data removed]",
      "text/plain": [
       "plot without title"
      ]
     },
     "metadata": {
      "image/png": {
       "height": 420,
       "width": 420
      }
     },
     "output_type": "display_data"
    }
   ],
   "source": [
    "#plot the roc curve\n",
    "#to add more curves just add the roc output to the list\n",
    "#example: `list(lasso=lasso.roc, PLINK = plink.roc)\n",
    "ggroc(list(lassoSum=lasso.roc)) + \n",
    "labs(title = \"Reciever Operator Curve Across\\nConstructed Logisitc Models from PRS Tools \",y = \"Sensitivity (True Positive Rate)\", x = \"Specificty (1 - False Positive Rate)\", col = \"Tool\") +\n",
    "theme_bw() + theme(plot.title = element_text(size=15), axis.title.y = element_text(size=12)) +\n",
    "geom_abline(intercept = 1, slope = 1)"
   ]
  },
  {
   "cell_type": "code",
   "execution_count": 256,
   "id": "f993b779",
   "metadata": {},
   "outputs": [],
   "source": [
    "#write a function to allow for rounding\n",
    "scaleFUN <- function(x) sprintf(\"%.3f\", x)"
   ]
  },
  {
   "cell_type": "code",
   "execution_count": 257,
   "id": "4b3a89da",
   "metadata": {},
   "outputs": [],
   "source": [
    "#create a dataframe for the auc metric \n",
    "performance_metrics_auc <- data.frame(matrix(ncol = 4, nrow = 0))\n",
    "#enter the lassoSum estimates\n",
    "lasso_perform_auc <- c(\"lassoSum\",lasso.roc.ci[1],lasso.roc.ci[2],lasso.roc.ci[3])\n",
    "#enter a test estimate for plotting\n",
    "test_auc <- c('test', 0.6734, 0.73241, 0.7876)\n",
    "#combine with the empty dataframe\n",
    "performance_metrics_auc <- rbind(performance_metrics_auc, lasso_perform_auc, test_auc)\n",
    "#rename the columns of the dataframe\n",
    "colnames(performance_metrics_auc) <- c(\"tool\", \"lower_95\", \"estimate\", \"upper_95\")"
   ]
  },
  {
   "cell_type": "code",
   "execution_count": 258,
   "id": "fa5149cb",
   "metadata": {},
   "outputs": [
    {
     "data": {
      "text/html": [
       "<table class=\"dataframe\">\n",
       "<caption>A data.frame: 2 × 4</caption>\n",
       "<thead>\n",
       "\t<tr><th></th><th scope=col>tool</th><th scope=col>lower_95</th><th scope=col>estimate</th><th scope=col>upper_95</th></tr>\n",
       "\t<tr><th></th><th scope=col>&lt;chr&gt;</th><th scope=col>&lt;dbl&gt;</th><th scope=col>&lt;dbl&gt;</th><th scope=col>&lt;dbl&gt;</th></tr>\n",
       "</thead>\n",
       "<tbody>\n",
       "\t<tr><th scope=row>1</th><td>lassoSum</td><td>0.1188936</td><td>0.1403313</td><td>0.161769</td></tr>\n",
       "\t<tr><th scope=row>2</th><td>test    </td><td>0.0234000</td><td>0.0632410</td><td>0.087600</td></tr>\n",
       "</tbody>\n",
       "</table>\n"
      ],
      "text/latex": [
       "A data.frame: 2 × 4\n",
       "\\begin{tabular}{r|llll}\n",
       "  & tool & lower\\_95 & estimate & upper\\_95\\\\\n",
       "  & <chr> & <dbl> & <dbl> & <dbl>\\\\\n",
       "\\hline\n",
       "\t1 & lassoSum & 0.1188936 & 0.1403313 & 0.161769\\\\\n",
       "\t2 & test     & 0.0234000 & 0.0632410 & 0.087600\\\\\n",
       "\\end{tabular}\n"
      ],
      "text/markdown": [
       "\n",
       "A data.frame: 2 × 4\n",
       "\n",
       "| <!--/--> | tool &lt;chr&gt; | lower_95 &lt;dbl&gt; | estimate &lt;dbl&gt; | upper_95 &lt;dbl&gt; |\n",
       "|---|---|---|---|---|\n",
       "| 1 | lassoSum | 0.1188936 | 0.1403313 | 0.161769 |\n",
       "| 2 | test     | 0.0234000 | 0.0632410 | 0.087600 |\n",
       "\n"
      ],
      "text/plain": [
       "  tool     lower_95  estimate  upper_95\n",
       "1 lassoSum 0.1188936 0.1403313 0.161769\n",
       "2 test     0.0234000 0.0632410 0.087600"
      ]
     },
     "metadata": {},
     "output_type": "display_data"
    }
   ],
   "source": [
    "#make the dataframe columns numeric\n",
    "performance_metrics_auc$lower_95 <- as.numeric(performance_metrics_auc$lower_95)\n",
    "performance_metrics_auc$estimate <- as.numeric(performance_metrics_auc$estimate)\n",
    "performance_metrics_auc$upper_95 <- as.numeric(performance_metrics_auc$upper_95)\n",
    "head(performance_metrics_rsqr)"
   ]
  },
  {
   "cell_type": "code",
   "execution_count": 259,
   "id": "05927042",
   "metadata": {},
   "outputs": [
    {
     "data": {
      "image/png": "[encoded data removed]",
      "text/plain": [
       "plot without title"
      ]
     },
     "metadata": {
      "image/png": {
       "height": 420,
       "width": 420
      }
     },
     "output_type": "display_data"
    }
   ],
   "source": [
    "#make the r-sqr plot\n",
    "ggplot(performance_metrics_auc, aes(y = estimate, x = tool, fill = tool)) + geom_bar(stat = \"identity\", width = 0.5, size =0.5, color = \"black\")+\n",
    "labs(title = bquote(\"Bootstrapped Estimation of AUC Value Across Tools\"), y = bquote(R^2~\"(Percentage of Explained Variation)\"), x = '', fill = 'Tool') +\n",
    "theme_bw() + geom_text(aes(label=scaleFUN(estimate)), vjust=0, size=3.5,y = -0.02) +\n",
    "theme(plot.title = element_text(size=15), axis.title.y = element_text(size=12), axis.text.x=element_blank(),\n",
    "      axis.ticks.x=element_blank())+\n",
    "geom_errorbar(aes(ymin = lower_95, ymax = upper_95), width = 0.05) "
   ]
  },
  {
   "cell_type": "markdown",
   "id": "e50a2119",
   "metadata": {},
   "source": [
    "Do CV with logisitic regression to obtain confidence intervals for the r-sqr metric"
   ]
  },
  {
   "cell_type": "code",
   "execution_count": 260,
   "id": "d85cac84",
   "metadata": {},
   "outputs": [
    {
     "name": "stdout",
     "output_type": "stream",
     "text": [
      "fitting null model for pseudo-r2\n",
      "fitting null model for pseudo-r2\n",
      "fitting null model for pseudo-r2\n",
      "fitting null model for pseudo-r2\n",
      "fitting null model for pseudo-r2\n",
      "fitting null model for pseudo-r2\n",
      "fitting null model for pseudo-r2\n",
      "fitting null model for pseudo-r2\n",
      "fitting null model for pseudo-r2\n",
      "fitting null model for pseudo-r2\n",
      "fitting null model for pseudo-r2\n",
      "fitting null model for pseudo-r2\n",
      "fitting null model for pseudo-r2\n",
      "fitting null model for pseudo-r2\n",
      "fitting null model for pseudo-r2\n",
      "fitting null model for pseudo-r2\n",
      "fitting null model for pseudo-r2\n",
      "fitting null model for pseudo-r2\n",
      "fitting null model for pseudo-r2\n",
      "fitting null model for pseudo-r2\n",
      "fitting null model for pseudo-r2\n",
      "fitting null model for pseudo-r2\n",
      "fitting null model for pseudo-r2\n",
      "fitting null model for pseudo-r2\n",
      "fitting null model for pseudo-r2\n",
      "fitting null model for pseudo-r2\n",
      "fitting null model for pseudo-r2\n",
      "fitting null model for pseudo-r2\n",
      "fitting null model for pseudo-r2\n",
      "fitting null model for pseudo-r2\n",
      "fitting null model for pseudo-r2\n",
      "fitting null model for pseudo-r2\n",
      "fitting null model for pseudo-r2\n",
      "fitting null model for pseudo-r2\n",
      "fitting null model for pseudo-r2\n",
      "fitting null model for pseudo-r2\n",
      "fitting null model for pseudo-r2\n",
      "fitting null model for pseudo-r2\n",
      "fitting null model for pseudo-r2\n",
      "fitting null model for pseudo-r2\n",
      "fitting null model for pseudo-r2\n",
      "fitting null model for pseudo-r2\n",
      "fitting null model for pseudo-r2\n",
      "fitting null model for pseudo-r2\n",
      "fitting null model for pseudo-r2\n",
      "fitting null model for pseudo-r2\n",
      "fitting null model for pseudo-r2\n",
      "fitting null model for pseudo-r2\n",
      "fitting null model for pseudo-r2\n",
      "fitting null model for pseudo-r2\n",
      "fitting null model for pseudo-r2\n",
      "fitting null model for pseudo-r2\n",
      "fitting null model for pseudo-r2\n",
      "fitting null model for pseudo-r2\n",
      "fitting null model for pseudo-r2\n",
      "fitting null model for pseudo-r2\n",
      "fitting null model for pseudo-r2\n",
      "fitting null model for pseudo-r2\n",
      "fitting null model for pseudo-r2\n",
      "fitting null model for pseudo-r2\n",
      "fitting null model for pseudo-r2\n",
      "fitting null model for pseudo-r2\n",
      "fitting null model for pseudo-r2\n",
      "fitting null model for pseudo-r2\n",
      "fitting null model for pseudo-r2\n",
      "fitting null model for pseudo-r2\n",
      "fitting null model for pseudo-r2\n",
      "fitting null model for pseudo-r2\n",
      "fitting null model for pseudo-r2\n",
      "fitting null model for pseudo-r2\n",
      "fitting null model for pseudo-r2\n",
      "fitting null model for pseudo-r2\n",
      "fitting null model for pseudo-r2\n",
      "fitting null model for pseudo-r2\n",
      "fitting null model for pseudo-r2\n",
      "fitting null model for pseudo-r2\n",
      "fitting null model for pseudo-r2\n",
      "fitting null model for pseudo-r2\n",
      "fitting null model for pseudo-r2\n",
      "fitting null model for pseudo-r2\n",
      "fitting null model for pseudo-r2\n",
      "fitting null model for pseudo-r2\n",
      "fitting null model for pseudo-r2\n",
      "fitting null model for pseudo-r2\n",
      "fitting null model for pseudo-r2\n",
      "fitting null model for pseudo-r2\n",
      "fitting null model for pseudo-r2\n",
      "fitting null model for pseudo-r2\n",
      "fitting null model for pseudo-r2\n",
      "fitting null model for pseudo-r2\n",
      "fitting null model for pseudo-r2\n",
      "fitting null model for pseudo-r2\n",
      "fitting null model for pseudo-r2\n",
      "fitting null model for pseudo-r2\n",
      "fitting null model for pseudo-r2\n",
      "fitting null model for pseudo-r2\n",
      "fitting null model for pseudo-r2\n",
      "fitting null model for pseudo-r2\n",
      "fitting null model for pseudo-r2\n",
      "fitting null model for pseudo-r2\n",
      "fitting null model for pseudo-r2\n",
      "fitting null model for pseudo-r2\n",
      "fitting null model for pseudo-r2\n",
      "fitting null model for pseudo-r2\n",
      "fitting null model for pseudo-r2\n",
      "fitting null model for pseudo-r2\n",
      "fitting null model for pseudo-r2\n",
      "fitting null model for pseudo-r2\n",
      "fitting null model for pseudo-r2\n",
      "fitting null model for pseudo-r2\n",
      "fitting null model for pseudo-r2\n",
      "fitting null model for pseudo-r2\n",
      "fitting null model for pseudo-r2\n",
      "fitting null model for pseudo-r2\n",
      "fitting null model for pseudo-r2\n",
      "fitting null model for pseudo-r2\n",
      "fitting null model for pseudo-r2\n",
      "fitting null model for pseudo-r2\n",
      "fitting null model for pseudo-r2\n",
      "fitting null model for pseudo-r2\n",
      "fitting null model for pseudo-r2\n",
      "fitting null model for pseudo-r2\n",
      "fitting null model for pseudo-r2\n",
      "fitting null model for pseudo-r2\n",
      "fitting null model for pseudo-r2\n",
      "fitting null model for pseudo-r2\n",
      "fitting null model for pseudo-r2\n",
      "fitting null model for pseudo-r2\n",
      "fitting null model for pseudo-r2\n",
      "fitting null model for pseudo-r2\n",
      "fitting null model for pseudo-r2\n",
      "fitting null model for pseudo-r2\n",
      "fitting null model for pseudo-r2\n",
      "fitting null model for pseudo-r2\n",
      "fitting null model for pseudo-r2\n",
      "fitting null model for pseudo-r2\n",
      "fitting null model for pseudo-r2\n",
      "fitting null model for pseudo-r2\n",
      "fitting null model for pseudo-r2\n",
      "fitting null model for pseudo-r2\n",
      "fitting null model for pseudo-r2\n",
      "fitting null model for pseudo-r2\n",
      "fitting null model for pseudo-r2\n",
      "fitting null model for pseudo-r2\n",
      "fitting null model for pseudo-r2\n",
      "fitting null model for pseudo-r2\n",
      "fitting null model for pseudo-r2\n",
      "fitting null model for pseudo-r2\n",
      "fitting null model for pseudo-r2\n",
      "fitting null model for pseudo-r2\n",
      "fitting null model for pseudo-r2\n",
      "fitting null model for pseudo-r2\n",
      "fitting null model for pseudo-r2\n",
      "fitting null model for pseudo-r2\n",
      "fitting null model for pseudo-r2\n",
      "fitting null model for pseudo-r2\n",
      "fitting null model for pseudo-r2\n",
      "fitting null model for pseudo-r2\n",
      "fitting null model for pseudo-r2\n",
      "fitting null model for pseudo-r2\n",
      "fitting null model for pseudo-r2\n",
      "fitting null model for pseudo-r2\n",
      "fitting null model for pseudo-r2\n",
      "fitting null model for pseudo-r2\n",
      "fitting null model for pseudo-r2\n",
      "fitting null model for pseudo-r2\n",
      "fitting null model for pseudo-r2\n",
      "fitting null model for pseudo-r2\n",
      "fitting null model for pseudo-r2\n",
      "fitting null model for pseudo-r2\n",
      "fitting null model for pseudo-r2\n",
      "fitting null model for pseudo-r2\n",
      "fitting null model for pseudo-r2\n",
      "fitting null model for pseudo-r2\n",
      "fitting null model for pseudo-r2\n",
      "fitting null model for pseudo-r2\n",
      "fitting null model for pseudo-r2\n",
      "fitting null model for pseudo-r2\n",
      "fitting null model for pseudo-r2\n",
      "fitting null model for pseudo-r2\n",
      "fitting null model for pseudo-r2\n",
      "fitting null model for pseudo-r2\n",
      "fitting null model for pseudo-r2\n",
      "fitting null model for pseudo-r2\n",
      "fitting null model for pseudo-r2\n",
      "fitting null model for pseudo-r2\n",
      "fitting null model for pseudo-r2\n",
      "fitting null model for pseudo-r2\n",
      "fitting null model for pseudo-r2\n",
      "fitting null model for pseudo-r2\n",
      "fitting null model for pseudo-r2\n",
      "fitting null model for pseudo-r2\n",
      "fitting null model for pseudo-r2\n",
      "fitting null model for pseudo-r2\n",
      "fitting null model for pseudo-r2\n",
      "fitting null model for pseudo-r2\n",
      "fitting null model for pseudo-r2\n",
      "fitting null model for pseudo-r2\n",
      "fitting null model for pseudo-r2\n",
      "fitting null model for pseudo-r2\n",
      "fitting null model for pseudo-r2\n",
      "fitting null model for pseudo-r2\n",
      "fitting null model for pseudo-r2\n",
      "fitting null model for pseudo-r2\n",
      "fitting null model for pseudo-r2\n",
      "fitting null model for pseudo-r2\n",
      "fitting null model for pseudo-r2\n",
      "fitting null model for pseudo-r2\n",
      "fitting null model for pseudo-r2\n",
      "fitting null model for pseudo-r2\n",
      "fitting null model for pseudo-r2\n",
      "fitting null model for pseudo-r2\n",
      "fitting null model for pseudo-r2\n",
      "fitting null model for pseudo-r2\n",
      "fitting null model for pseudo-r2\n",
      "fitting null model for pseudo-r2\n",
      "fitting null model for pseudo-r2\n",
      "fitting null model for pseudo-r2\n",
      "fitting null model for pseudo-r2\n",
      "fitting null model for pseudo-r2\n",
      "fitting null model for pseudo-r2\n",
      "fitting null model for pseudo-r2\n",
      "fitting null model for pseudo-r2\n",
      "fitting null model for pseudo-r2\n",
      "fitting null model for pseudo-r2\n",
      "fitting null model for pseudo-r2\n",
      "fitting null model for pseudo-r2\n",
      "fitting null model for pseudo-r2\n",
      "fitting null model for pseudo-r2\n",
      "fitting null model for pseudo-r2\n",
      "fitting null model for pseudo-r2\n",
      "fitting null model for pseudo-r2\n",
      "fitting null model for pseudo-r2\n",
      "fitting null model for pseudo-r2\n",
      "fitting null model for pseudo-r2\n",
      "fitting null model for pseudo-r2\n",
      "fitting null model for pseudo-r2\n",
      "fitting null model for pseudo-r2\n",
      "fitting null model for pseudo-r2\n",
      "fitting null model for pseudo-r2\n",
      "fitting null model for pseudo-r2\n",
      "fitting null model for pseudo-r2\n",
      "fitting null model for pseudo-r2\n",
      "fitting null model for pseudo-r2\n",
      "fitting null model for pseudo-r2\n",
      "fitting null model for pseudo-r2\n",
      "fitting null model for pseudo-r2\n",
      "fitting null model for pseudo-r2\n",
      "fitting null model for pseudo-r2\n",
      "fitting null model for pseudo-r2\n",
      "fitting null model for pseudo-r2\n",
      "fitting null model for pseudo-r2\n",
      "fitting null model for pseudo-r2\n",
      "fitting null model for pseudo-r2\n",
      "fitting null model for pseudo-r2\n",
      "fitting null model for pseudo-r2\n",
      "fitting null model for pseudo-r2\n",
      "fitting null model for pseudo-r2\n",
      "fitting null model for pseudo-r2\n",
      "fitting null model for pseudo-r2\n",
      "fitting null model for pseudo-r2\n",
      "fitting null model for pseudo-r2\n",
      "fitting null model for pseudo-r2\n",
      "fitting null model for pseudo-r2\n",
      "fitting null model for pseudo-r2\n",
      "fitting null model for pseudo-r2\n",
      "fitting null model for pseudo-r2\n",
      "fitting null model for pseudo-r2\n",
      "fitting null model for pseudo-r2\n",
      "fitting null model for pseudo-r2\n",
      "fitting null model for pseudo-r2\n",
      "fitting null model for pseudo-r2\n",
      "fitting null model for pseudo-r2\n",
      "fitting null model for pseudo-r2\n",
      "fitting null model for pseudo-r2\n",
      "fitting null model for pseudo-r2\n",
      "fitting null model for pseudo-r2\n",
      "fitting null model for pseudo-r2\n",
      "fitting null model for pseudo-r2\n",
      "fitting null model for pseudo-r2\n",
      "fitting null model for pseudo-r2\n",
      "fitting null model for pseudo-r2\n",
      "fitting null model for pseudo-r2\n",
      "fitting null model for pseudo-r2\n",
      "fitting null model for pseudo-r2\n",
      "fitting null model for pseudo-r2\n",
      "fitting null model for pseudo-r2\n",
      "fitting null model for pseudo-r2\n",
      "fitting null model for pseudo-r2\n",
      "fitting null model for pseudo-r2\n",
      "fitting null model for pseudo-r2\n",
      "fitting null model for pseudo-r2\n",
      "fitting null model for pseudo-r2\n",
      "fitting null model for pseudo-r2\n",
      "fitting null model for pseudo-r2\n",
      "fitting null model for pseudo-r2\n",
      "fitting null model for pseudo-r2\n",
      "fitting null model for pseudo-r2\n",
      "fitting null model for pseudo-r2\n",
      "fitting null model for pseudo-r2\n",
      "fitting null model for pseudo-r2\n",
      "fitting null model for pseudo-r2\n",
      "fitting null model for pseudo-r2\n",
      "fitting null model for pseudo-r2\n",
      "fitting null model for pseudo-r2\n",
      "fitting null model for pseudo-r2\n",
      "fitting null model for pseudo-r2\n",
      "fitting null model for pseudo-r2\n",
      "fitting null model for pseudo-r2\n",
      "fitting null model for pseudo-r2\n",
      "fitting null model for pseudo-r2\n",
      "fitting null model for pseudo-r2\n",
      "fitting null model for pseudo-r2\n",
      "fitting null model for pseudo-r2\n",
      "fitting null model for pseudo-r2\n",
      "fitting null model for pseudo-r2\n",
      "fitting null model for pseudo-r2\n",
      "fitting null model for pseudo-r2\n",
      "fitting null model for pseudo-r2\n",
      "fitting null model for pseudo-r2\n",
      "fitting null model for pseudo-r2\n",
      "fitting null model for pseudo-r2\n",
      "fitting null model for pseudo-r2\n",
      "fitting null model for pseudo-r2\n",
      "fitting null model for pseudo-r2\n",
      "fitting null model for pseudo-r2\n",
      "fitting null model for pseudo-r2\n",
      "fitting null model for pseudo-r2\n",
      "fitting null model for pseudo-r2\n",
      "fitting null model for pseudo-r2\n",
      "fitting null model for pseudo-r2\n",
      "fitting null model for pseudo-r2\n",
      "fitting null model for pseudo-r2\n",
      "fitting null model for pseudo-r2\n",
      "fitting null model for pseudo-r2\n",
      "fitting null model for pseudo-r2\n",
      "fitting null model for pseudo-r2\n",
      "fitting null model for pseudo-r2\n",
      "fitting null model for pseudo-r2\n",
      "fitting null model for pseudo-r2\n",
      "fitting null model for pseudo-r2\n",
      "fitting null model for pseudo-r2\n",
      "fitting null model for pseudo-r2\n",
      "fitting null model for pseudo-r2\n",
      "fitting null model for pseudo-r2\n",
      "fitting null model for pseudo-r2\n",
      "fitting null model for pseudo-r2\n",
      "fitting null model for pseudo-r2\n",
      "fitting null model for pseudo-r2\n",
      "fitting null model for pseudo-r2\n",
      "fitting null model for pseudo-r2\n",
      "fitting null model for pseudo-r2\n",
      "fitting null model for pseudo-r2\n",
      "fitting null model for pseudo-r2\n",
      "fitting null model for pseudo-r2\n",
      "fitting null model for pseudo-r2\n",
      "fitting null model for pseudo-r2\n",
      "fitting null model for pseudo-r2\n",
      "fitting null model for pseudo-r2\n",
      "fitting null model for pseudo-r2\n",
      "fitting null model for pseudo-r2\n",
      "fitting null model for pseudo-r2\n",
      "fitting null model for pseudo-r2\n",
      "fitting null model for pseudo-r2\n",
      "fitting null model for pseudo-r2\n",
      "fitting null model for pseudo-r2\n",
      "fitting null model for pseudo-r2\n",
      "fitting null model for pseudo-r2\n",
      "fitting null model for pseudo-r2\n",
      "fitting null model for pseudo-r2\n",
      "fitting null model for pseudo-r2\n",
      "fitting null model for pseudo-r2\n",
      "fitting null model for pseudo-r2\n",
      "fitting null model for pseudo-r2\n",
      "fitting null model for pseudo-r2\n",
      "fitting null model for pseudo-r2\n",
      "fitting null model for pseudo-r2\n",
      "fitting null model for pseudo-r2\n",
      "fitting null model for pseudo-r2\n",
      "fitting null model for pseudo-r2\n",
      "fitting null model for pseudo-r2\n",
      "fitting null model for pseudo-r2\n",
      "fitting null model for pseudo-r2\n",
      "fitting null model for pseudo-r2\n",
      "fitting null model for pseudo-r2\n",
      "fitting null model for pseudo-r2\n",
      "fitting null model for pseudo-r2\n",
      "fitting null model for pseudo-r2\n",
      "fitting null model for pseudo-r2\n",
      "fitting null model for pseudo-r2\n",
      "fitting null model for pseudo-r2\n",
      "fitting null model for pseudo-r2\n",
      "fitting null model for pseudo-r2\n",
      "fitting null model for pseudo-r2\n",
      "fitting null model for pseudo-r2\n",
      "fitting null model for pseudo-r2\n",
      "fitting null model for pseudo-r2\n",
      "fitting null model for pseudo-r2\n",
      "fitting null model for pseudo-r2\n",
      "fitting null model for pseudo-r2\n",
      "fitting null model for pseudo-r2\n",
      "fitting null model for pseudo-r2\n",
      "fitting null model for pseudo-r2\n",
      "fitting null model for pseudo-r2\n",
      "fitting null model for pseudo-r2\n",
      "fitting null model for pseudo-r2\n",
      "fitting null model for pseudo-r2\n",
      "fitting null model for pseudo-r2\n",
      "fitting null model for pseudo-r2\n",
      "fitting null model for pseudo-r2\n",
      "fitting null model for pseudo-r2\n",
      "fitting null model for pseudo-r2\n",
      "fitting null model for pseudo-r2\n",
      "fitting null model for pseudo-r2\n",
      "fitting null model for pseudo-r2\n",
      "fitting null model for pseudo-r2\n",
      "fitting null model for pseudo-r2\n",
      "fitting null model for pseudo-r2\n",
      "fitting null model for pseudo-r2\n",
      "fitting null model for pseudo-r2\n",
      "fitting null model for pseudo-r2\n",
      "fitting null model for pseudo-r2\n",
      "fitting null model for pseudo-r2\n",
      "fitting null model for pseudo-r2\n",
      "fitting null model for pseudo-r2\n",
      "fitting null model for pseudo-r2\n",
      "fitting null model for pseudo-r2\n",
      "fitting null model for pseudo-r2\n",
      "fitting null model for pseudo-r2\n",
      "fitting null model for pseudo-r2\n",
      "fitting null model for pseudo-r2\n",
      "fitting null model for pseudo-r2\n",
      "fitting null model for pseudo-r2\n",
      "fitting null model for pseudo-r2\n",
      "fitting null model for pseudo-r2\n",
      "fitting null model for pseudo-r2\n",
      "fitting null model for pseudo-r2\n",
      "fitting null model for pseudo-r2\n",
      "fitting null model for pseudo-r2\n",
      "fitting null model for pseudo-r2\n",
      "fitting null model for pseudo-r2\n",
      "fitting null model for pseudo-r2\n",
      "fitting null model for pseudo-r2\n",
      "fitting null model for pseudo-r2\n",
      "fitting null model for pseudo-r2\n",
      "fitting null model for pseudo-r2\n",
      "fitting null model for pseudo-r2\n",
      "fitting null model for pseudo-r2\n",
      "fitting null model for pseudo-r2\n",
      "fitting null model for pseudo-r2\n",
      "fitting null model for pseudo-r2\n",
      "fitting null model for pseudo-r2\n",
      "fitting null model for pseudo-r2\n",
      "fitting null model for pseudo-r2\n",
      "fitting null model for pseudo-r2\n",
      "fitting null model for pseudo-r2\n",
      "fitting null model for pseudo-r2\n",
      "fitting null model for pseudo-r2\n",
      "fitting null model for pseudo-r2\n",
      "fitting null model for pseudo-r2\n",
      "fitting null model for pseudo-r2\n",
      "fitting null model for pseudo-r2\n",
      "fitting null model for pseudo-r2\n",
      "fitting null model for pseudo-r2\n",
      "fitting null model for pseudo-r2\n",
      "fitting null model for pseudo-r2\n",
      "fitting null model for pseudo-r2\n",
      "fitting null model for pseudo-r2\n",
      "fitting null model for pseudo-r2\n",
      "fitting null model for pseudo-r2\n",
      "fitting null model for pseudo-r2\n",
      "fitting null model for pseudo-r2\n",
      "fitting null model for pseudo-r2\n",
      "fitting null model for pseudo-r2\n",
      "fitting null model for pseudo-r2\n",
      "fitting null model for pseudo-r2\n",
      "fitting null model for pseudo-r2\n",
      "fitting null model for pseudo-r2\n",
      "fitting null model for pseudo-r2\n",
      "fitting null model for pseudo-r2\n",
      "fitting null model for pseudo-r2\n",
      "fitting null model for pseudo-r2\n",
      "fitting null model for pseudo-r2\n",
      "fitting null model for pseudo-r2\n",
      "fitting null model for pseudo-r2\n",
      "fitting null model for pseudo-r2\n",
      "fitting null model for pseudo-r2\n",
      "fitting null model for pseudo-r2\n",
      "fitting null model for pseudo-r2\n",
      "fitting null model for pseudo-r2\n",
      "fitting null model for pseudo-r2\n",
      "fitting null model for pseudo-r2\n",
      "fitting null model for pseudo-r2\n",
      "fitting null model for pseudo-r2\n",
      "fitting null model for pseudo-r2\n",
      "fitting null model for pseudo-r2\n",
      "fitting null model for pseudo-r2\n",
      "fitting null model for pseudo-r2\n",
      "fitting null model for pseudo-r2\n",
      "fitting null model for pseudo-r2\n",
      "fitting null model for pseudo-r2\n",
      "fitting null model for pseudo-r2\n",
      "fitting null model for pseudo-r2\n",
      "fitting null model for pseudo-r2\n",
      "fitting null model for pseudo-r2\n",
      "fitting null model for pseudo-r2\n",
      "fitting null model for pseudo-r2\n",
      "fitting null model for pseudo-r2\n",
      "fitting null model for pseudo-r2\n",
      "fitting null model for pseudo-r2\n",
      "fitting null model for pseudo-r2\n",
      "fitting null model for pseudo-r2\n",
      "fitting null model for pseudo-r2\n",
      "fitting null model for pseudo-r2\n",
      "fitting null model for pseudo-r2\n",
      "fitting null model for pseudo-r2\n",
      "fitting null model for pseudo-r2\n",
      "fitting null model for pseudo-r2\n",
      "fitting null model for pseudo-r2\n",
      "fitting null model for pseudo-r2\n",
      "fitting null model for pseudo-r2\n",
      "fitting null model for pseudo-r2\n",
      "fitting null model for pseudo-r2\n",
      "fitting null model for pseudo-r2\n",
      "fitting null model for pseudo-r2\n",
      "fitting null model for pseudo-r2\n",
      "fitting null model for pseudo-r2\n",
      "fitting null model for pseudo-r2\n",
      "fitting null model for pseudo-r2\n",
      "fitting null model for pseudo-r2\n",
      "fitting null model for pseudo-r2\n",
      "fitting null model for pseudo-r2\n",
      "fitting null model for pseudo-r2\n",
      "fitting null model for pseudo-r2\n",
      "fitting null model for pseudo-r2\n",
      "fitting null model for pseudo-r2\n",
      "fitting null model for pseudo-r2\n",
      "fitting null model for pseudo-r2\n",
      "fitting null model for pseudo-r2\n",
      "fitting null model for pseudo-r2\n",
      "fitting null model for pseudo-r2\n",
      "fitting null model for pseudo-r2\n",
      "fitting null model for pseudo-r2\n",
      "fitting null model for pseudo-r2\n",
      "fitting null model for pseudo-r2\n",
      "fitting null model for pseudo-r2\n",
      "fitting null model for pseudo-r2\n",
      "fitting null model for pseudo-r2\n",
      "fitting null model for pseudo-r2\n",
      "fitting null model for pseudo-r2\n",
      "fitting null model for pseudo-r2\n",
      "fitting null model for pseudo-r2\n",
      "fitting null model for pseudo-r2\n",
      "fitting null model for pseudo-r2\n",
      "fitting null model for pseudo-r2\n",
      "fitting null model for pseudo-r2\n",
      "fitting null model for pseudo-r2\n",
      "fitting null model for pseudo-r2\n",
      "fitting null model for pseudo-r2\n",
      "fitting null model for pseudo-r2\n",
      "fitting null model for pseudo-r2\n",
      "fitting null model for pseudo-r2\n",
      "fitting null model for pseudo-r2\n",
      "fitting null model for pseudo-r2\n",
      "fitting null model for pseudo-r2\n",
      "fitting null model for pseudo-r2\n",
      "fitting null model for pseudo-r2\n",
      "fitting null model for pseudo-r2\n",
      "fitting null model for pseudo-r2\n",
      "fitting null model for pseudo-r2\n",
      "fitting null model for pseudo-r2\n",
      "fitting null model for pseudo-r2\n",
      "fitting null model for pseudo-r2\n",
      "fitting null model for pseudo-r2\n",
      "fitting null model for pseudo-r2\n",
      "fitting null model for pseudo-r2\n",
      "fitting null model for pseudo-r2\n",
      "fitting null model for pseudo-r2\n",
      "fitting null model for pseudo-r2\n",
      "fitting null model for pseudo-r2\n",
      "fitting null model for pseudo-r2\n",
      "fitting null model for pseudo-r2\n",
      "fitting null model for pseudo-r2\n",
      "fitting null model for pseudo-r2\n",
      "fitting null model for pseudo-r2\n",
      "fitting null model for pseudo-r2\n",
      "fitting null model for pseudo-r2\n",
      "fitting null model for pseudo-r2\n",
      "fitting null model for pseudo-r2\n",
      "fitting null model for pseudo-r2\n",
      "fitting null model for pseudo-r2\n",
      "fitting null model for pseudo-r2\n",
      "fitting null model for pseudo-r2\n",
      "fitting null model for pseudo-r2\n",
      "fitting null model for pseudo-r2\n",
      "fitting null model for pseudo-r2\n",
      "fitting null model for pseudo-r2\n",
      "fitting null model for pseudo-r2\n",
      "fitting null model for pseudo-r2\n",
      "fitting null model for pseudo-r2\n",
      "fitting null model for pseudo-r2\n",
      "fitting null model for pseudo-r2\n",
      "fitting null model for pseudo-r2\n",
      "fitting null model for pseudo-r2\n",
      "fitting null model for pseudo-r2\n",
      "fitting null model for pseudo-r2\n",
      "fitting null model for pseudo-r2\n",
      "fitting null model for pseudo-r2\n",
      "fitting null model for pseudo-r2\n",
      "fitting null model for pseudo-r2\n",
      "fitting null model for pseudo-r2\n",
      "fitting null model for pseudo-r2\n",
      "fitting null model for pseudo-r2\n",
      "fitting null model for pseudo-r2\n",
      "fitting null model for pseudo-r2\n",
      "fitting null model for pseudo-r2\n",
      "fitting null model for pseudo-r2\n",
      "fitting null model for pseudo-r2\n",
      "fitting null model for pseudo-r2\n",
      "fitting null model for pseudo-r2\n",
      "fitting null model for pseudo-r2\n",
      "fitting null model for pseudo-r2\n",
      "fitting null model for pseudo-r2\n",
      "fitting null model for pseudo-r2\n",
      "fitting null model for pseudo-r2\n",
      "fitting null model for pseudo-r2\n",
      "fitting null model for pseudo-r2\n",
      "fitting null model for pseudo-r2\n",
      "fitting null model for pseudo-r2\n",
      "fitting null model for pseudo-r2\n",
      "fitting null model for pseudo-r2\n",
      "fitting null model for pseudo-r2\n",
      "fitting null model for pseudo-r2\n",
      "fitting null model for pseudo-r2\n",
      "fitting null model for pseudo-r2\n",
      "fitting null model for pseudo-r2\n",
      "fitting null model for pseudo-r2\n",
      "fitting null model for pseudo-r2\n",
      "fitting null model for pseudo-r2\n",
      "fitting null model for pseudo-r2\n",
      "fitting null model for pseudo-r2\n",
      "fitting null model for pseudo-r2\n",
      "fitting null model for pseudo-r2\n",
      "fitting null model for pseudo-r2\n",
      "fitting null model for pseudo-r2\n",
      "fitting null model for pseudo-r2\n",
      "fitting null model for pseudo-r2\n",
      "fitting null model for pseudo-r2\n",
      "fitting null model for pseudo-r2\n",
      "fitting null model for pseudo-r2\n",
      "fitting null model for pseudo-r2\n",
      "fitting null model for pseudo-r2\n",
      "fitting null model for pseudo-r2\n",
      "fitting null model for pseudo-r2\n",
      "fitting null model for pseudo-r2\n",
      "fitting null model for pseudo-r2\n",
      "fitting null model for pseudo-r2\n",
      "fitting null model for pseudo-r2\n",
      "fitting null model for pseudo-r2\n",
      "fitting null model for pseudo-r2\n",
      "fitting null model for pseudo-r2\n",
      "fitting null model for pseudo-r2\n",
      "fitting null model for pseudo-r2\n",
      "fitting null model for pseudo-r2\n",
      "fitting null model for pseudo-r2\n",
      "fitting null model for pseudo-r2\n",
      "fitting null model for pseudo-r2\n",
      "fitting null model for pseudo-r2\n",
      "fitting null model for pseudo-r2\n",
      "fitting null model for pseudo-r2\n",
      "fitting null model for pseudo-r2\n",
      "fitting null model for pseudo-r2\n",
      "fitting null model for pseudo-r2\n",
      "fitting null model for pseudo-r2\n",
      "fitting null model for pseudo-r2\n",
      "fitting null model for pseudo-r2\n",
      "fitting null model for pseudo-r2\n",
      "fitting null model for pseudo-r2\n",
      "fitting null model for pseudo-r2\n",
      "fitting null model for pseudo-r2\n",
      "fitting null model for pseudo-r2\n",
      "fitting null model for pseudo-r2\n",
      "fitting null model for pseudo-r2\n",
      "fitting null model for pseudo-r2\n",
      "fitting null model for pseudo-r2\n",
      "fitting null model for pseudo-r2\n",
      "fitting null model for pseudo-r2\n",
      "fitting null model for pseudo-r2\n",
      "fitting null model for pseudo-r2\n",
      "fitting null model for pseudo-r2\n",
      "fitting null model for pseudo-r2\n",
      "fitting null model for pseudo-r2\n",
      "fitting null model for pseudo-r2\n",
      "fitting null model for pseudo-r2\n",
      "fitting null model for pseudo-r2\n",
      "fitting null model for pseudo-r2\n",
      "fitting null model for pseudo-r2\n",
      "fitting null model for pseudo-r2\n",
      "fitting null model for pseudo-r2\n",
      "fitting null model for pseudo-r2\n",
      "fitting null model for pseudo-r2\n",
      "fitting null model for pseudo-r2\n",
      "fitting null model for pseudo-r2\n",
      "fitting null model for pseudo-r2\n",
      "fitting null model for pseudo-r2\n",
      "fitting null model for pseudo-r2\n",
      "fitting null model for pseudo-r2\n",
      "fitting null model for pseudo-r2\n",
      "fitting null model for pseudo-r2\n",
      "fitting null model for pseudo-r2\n",
      "fitting null model for pseudo-r2\n",
      "fitting null model for pseudo-r2\n",
      "fitting null model for pseudo-r2\n",
      "fitting null model for pseudo-r2\n",
      "fitting null model for pseudo-r2\n",
      "fitting null model for pseudo-r2\n",
      "fitting null model for pseudo-r2\n",
      "fitting null model for pseudo-r2\n",
      "fitting null model for pseudo-r2\n",
      "fitting null model for pseudo-r2\n",
      "fitting null model for pseudo-r2\n",
      "fitting null model for pseudo-r2\n",
      "fitting null model for pseudo-r2\n",
      "fitting null model for pseudo-r2\n",
      "fitting null model for pseudo-r2\n",
      "fitting null model for pseudo-r2\n",
      "fitting null model for pseudo-r2\n",
      "fitting null model for pseudo-r2\n",
      "fitting null model for pseudo-r2\n",
      "fitting null model for pseudo-r2\n",
      "fitting null model for pseudo-r2\n",
      "fitting null model for pseudo-r2\n",
      "fitting null model for pseudo-r2\n",
      "fitting null model for pseudo-r2\n",
      "fitting null model for pseudo-r2\n",
      "fitting null model for pseudo-r2\n",
      "fitting null model for pseudo-r2\n",
      "fitting null model for pseudo-r2\n",
      "fitting null model for pseudo-r2\n",
      "fitting null model for pseudo-r2\n",
      "fitting null model for pseudo-r2\n",
      "fitting null model for pseudo-r2\n",
      "fitting null model for pseudo-r2\n",
      "fitting null model for pseudo-r2\n",
      "fitting null model for pseudo-r2\n",
      "fitting null model for pseudo-r2\n",
      "fitting null model for pseudo-r2\n",
      "fitting null model for pseudo-r2\n",
      "fitting null model for pseudo-r2\n",
      "fitting null model for pseudo-r2\n",
      "fitting null model for pseudo-r2\n",
      "fitting null model for pseudo-r2\n",
      "fitting null model for pseudo-r2\n",
      "fitting null model for pseudo-r2\n",
      "fitting null model for pseudo-r2\n",
      "fitting null model for pseudo-r2\n",
      "fitting null model for pseudo-r2\n",
      "fitting null model for pseudo-r2\n",
      "fitting null model for pseudo-r2\n",
      "fitting null model for pseudo-r2\n",
      "fitting null model for pseudo-r2\n",
      "fitting null model for pseudo-r2\n",
      "fitting null model for pseudo-r2\n",
      "fitting null model for pseudo-r2\n",
      "fitting null model for pseudo-r2\n",
      "fitting null model for pseudo-r2\n",
      "fitting null model for pseudo-r2\n",
      "fitting null model for pseudo-r2\n",
      "fitting null model for pseudo-r2\n",
      "fitting null model for pseudo-r2\n",
      "fitting null model for pseudo-r2\n",
      "fitting null model for pseudo-r2\n",
      "fitting null model for pseudo-r2\n",
      "fitting null model for pseudo-r2\n",
      "fitting null model for pseudo-r2\n",
      "fitting null model for pseudo-r2\n",
      "fitting null model for pseudo-r2\n",
      "fitting null model for pseudo-r2\n",
      "fitting null model for pseudo-r2\n",
      "fitting null model for pseudo-r2\n",
      "fitting null model for pseudo-r2\n",
      "fitting null model for pseudo-r2\n",
      "fitting null model for pseudo-r2\n",
      "fitting null model for pseudo-r2\n",
      "fitting null model for pseudo-r2\n",
      "fitting null model for pseudo-r2\n",
      "fitting null model for pseudo-r2\n",
      "fitting null model for pseudo-r2\n",
      "fitting null model for pseudo-r2\n",
      "fitting null model for pseudo-r2\n",
      "fitting null model for pseudo-r2\n",
      "fitting null model for pseudo-r2\n",
      "fitting null model for pseudo-r2\n",
      "fitting null model for pseudo-r2\n",
      "fitting null model for pseudo-r2\n",
      "fitting null model for pseudo-r2\n",
      "fitting null model for pseudo-r2\n",
      "fitting null model for pseudo-r2\n",
      "fitting null model for pseudo-r2\n",
      "fitting null model for pseudo-r2\n",
      "fitting null model for pseudo-r2\n",
      "fitting null model for pseudo-r2\n",
      "fitting null model for pseudo-r2\n",
      "fitting null model for pseudo-r2\n",
      "fitting null model for pseudo-r2\n",
      "fitting null model for pseudo-r2\n",
      "fitting null model for pseudo-r2\n",
      "fitting null model for pseudo-r2\n",
      "fitting null model for pseudo-r2\n",
      "fitting null model for pseudo-r2\n",
      "fitting null model for pseudo-r2\n",
      "fitting null model for pseudo-r2\n",
      "fitting null model for pseudo-r2\n",
      "fitting null model for pseudo-r2\n",
      "fitting null model for pseudo-r2\n",
      "fitting null model for pseudo-r2\n",
      "fitting null model for pseudo-r2\n",
      "fitting null model for pseudo-r2\n",
      "fitting null model for pseudo-r2\n",
      "fitting null model for pseudo-r2\n",
      "fitting null model for pseudo-r2\n",
      "fitting null model for pseudo-r2\n",
      "fitting null model for pseudo-r2\n",
      "fitting null model for pseudo-r2\n",
      "fitting null model for pseudo-r2\n",
      "fitting null model for pseudo-r2\n",
      "fitting null model for pseudo-r2\n",
      "fitting null model for pseudo-r2\n",
      "fitting null model for pseudo-r2\n",
      "fitting null model for pseudo-r2\n",
      "fitting null model for pseudo-r2\n",
      "fitting null model for pseudo-r2\n",
      "fitting null model for pseudo-r2\n",
      "fitting null model for pseudo-r2\n",
      "fitting null model for pseudo-r2\n",
      "fitting null model for pseudo-r2\n",
      "fitting null model for pseudo-r2\n",
      "fitting null model for pseudo-r2\n",
      "fitting null model for pseudo-r2\n",
      "fitting null model for pseudo-r2\n",
      "fitting null model for pseudo-r2\n",
      "fitting null model for pseudo-r2\n",
      "fitting null model for pseudo-r2\n",
      "fitting null model for pseudo-r2\n",
      "fitting null model for pseudo-r2\n",
      "fitting null model for pseudo-r2\n",
      "fitting null model for pseudo-r2\n",
      "fitting null model for pseudo-r2\n",
      "fitting null model for pseudo-r2\n",
      "fitting null model for pseudo-r2\n",
      "fitting null model for pseudo-r2\n",
      "fitting null model for pseudo-r2\n",
      "fitting null model for pseudo-r2\n",
      "fitting null model for pseudo-r2\n",
      "fitting null model for pseudo-r2\n",
      "fitting null model for pseudo-r2\n",
      "fitting null model for pseudo-r2\n",
      "fitting null model for pseudo-r2\n",
      "fitting null model for pseudo-r2\n",
      "fitting null model for pseudo-r2\n",
      "fitting null model for pseudo-r2\n",
      "fitting null model for pseudo-r2\n",
      "fitting null model for pseudo-r2\n",
      "fitting null model for pseudo-r2\n",
      "fitting null model for pseudo-r2\n",
      "fitting null model for pseudo-r2\n",
      "fitting null model for pseudo-r2\n",
      "fitting null model for pseudo-r2\n",
      "fitting null model for pseudo-r2\n",
      "fitting null model for pseudo-r2\n",
      "fitting null model for pseudo-r2\n",
      "fitting null model for pseudo-r2\n",
      "fitting null model for pseudo-r2\n",
      "fitting null model for pseudo-r2\n",
      "fitting null model for pseudo-r2\n",
      "fitting null model for pseudo-r2\n",
      "fitting null model for pseudo-r2\n",
      "fitting null model for pseudo-r2\n",
      "fitting null model for pseudo-r2\n",
      "fitting null model for pseudo-r2\n",
      "fitting null model for pseudo-r2\n",
      "fitting null model for pseudo-r2\n",
      "fitting null model for pseudo-r2\n",
      "fitting null model for pseudo-r2\n",
      "fitting null model for pseudo-r2\n",
      "fitting null model for pseudo-r2\n",
      "fitting null model for pseudo-r2\n",
      "fitting null model for pseudo-r2\n",
      "fitting null model for pseudo-r2\n",
      "fitting null model for pseudo-r2\n",
      "fitting null model for pseudo-r2\n",
      "fitting null model for pseudo-r2\n",
      "fitting null model for pseudo-r2\n",
      "fitting null model for pseudo-r2\n",
      "fitting null model for pseudo-r2\n",
      "fitting null model for pseudo-r2\n",
      "fitting null model for pseudo-r2\n",
      "fitting null model for pseudo-r2\n",
      "fitting null model for pseudo-r2\n",
      "fitting null model for pseudo-r2\n",
      "fitting null model for pseudo-r2\n",
      "fitting null model for pseudo-r2\n",
      "fitting null model for pseudo-r2\n",
      "fitting null model for pseudo-r2\n",
      "fitting null model for pseudo-r2\n",
      "fitting null model for pseudo-r2\n",
      "fitting null model for pseudo-r2\n",
      "fitting null model for pseudo-r2\n",
      "fitting null model for pseudo-r2\n",
      "fitting null model for pseudo-r2\n",
      "fitting null model for pseudo-r2\n",
      "fitting null model for pseudo-r2\n",
      "fitting null model for pseudo-r2\n",
      "fitting null model for pseudo-r2\n",
      "fitting null model for pseudo-r2\n",
      "fitting null model for pseudo-r2\n",
      "fitting null model for pseudo-r2\n",
      "fitting null model for pseudo-r2\n",
      "fitting null model for pseudo-r2\n",
      "fitting null model for pseudo-r2\n",
      "fitting null model for pseudo-r2\n",
      "fitting null model for pseudo-r2\n",
      "fitting null model for pseudo-r2\n",
      "fitting null model for pseudo-r2\n",
      "fitting null model for pseudo-r2\n",
      "fitting null model for pseudo-r2\n",
      "fitting null model for pseudo-r2\n",
      "fitting null model for pseudo-r2\n",
      "fitting null model for pseudo-r2\n",
      "fitting null model for pseudo-r2\n",
      "fitting null model for pseudo-r2\n",
      "fitting null model for pseudo-r2\n",
      "fitting null model for pseudo-r2\n",
      "fitting null model for pseudo-r2\n",
      "fitting null model for pseudo-r2\n",
      "fitting null model for pseudo-r2\n",
      "fitting null model for pseudo-r2\n",
      "fitting null model for pseudo-r2\n",
      "fitting null model for pseudo-r2\n",
      "fitting null model for pseudo-r2\n",
      "fitting null model for pseudo-r2\n",
      "fitting null model for pseudo-r2\n",
      "fitting null model for pseudo-r2\n",
      "fitting null model for pseudo-r2\n",
      "fitting null model for pseudo-r2\n",
      "fitting null model for pseudo-r2\n",
      "fitting null model for pseudo-r2\n",
      "fitting null model for pseudo-r2\n",
      "fitting null model for pseudo-r2\n",
      "fitting null model for pseudo-r2\n",
      "fitting null model for pseudo-r2\n",
      "fitting null model for pseudo-r2\n",
      "fitting null model for pseudo-r2\n",
      "fitting null model for pseudo-r2\n",
      "fitting null model for pseudo-r2\n",
      "fitting null model for pseudo-r2\n",
      "fitting null model for pseudo-r2\n",
      "fitting null model for pseudo-r2\n",
      "fitting null model for pseudo-r2\n",
      "fitting null model for pseudo-r2\n",
      "fitting null model for pseudo-r2\n",
      "fitting null model for pseudo-r2\n",
      "fitting null model for pseudo-r2\n",
      "fitting null model for pseudo-r2\n",
      "fitting null model for pseudo-r2\n",
      "fitting null model for pseudo-r2\n",
      "fitting null model for pseudo-r2\n",
      "fitting null model for pseudo-r2\n",
      "fitting null model for pseudo-r2\n",
      "fitting null model for pseudo-r2\n",
      "fitting null model for pseudo-r2\n",
      "fitting null model for pseudo-r2\n",
      "fitting null model for pseudo-r2\n",
      "fitting null model for pseudo-r2\n",
      "fitting null model for pseudo-r2\n",
      "fitting null model for pseudo-r2\n",
      "fitting null model for pseudo-r2\n",
      "fitting null model for pseudo-r2\n",
      "fitting null model for pseudo-r2\n",
      "fitting null model for pseudo-r2\n",
      "fitting null model for pseudo-r2\n",
      "fitting null model for pseudo-r2\n",
      "fitting null model for pseudo-r2\n",
      "fitting null model for pseudo-r2\n",
      "fitting null model for pseudo-r2\n",
      "fitting null model for pseudo-r2\n",
      "fitting null model for pseudo-r2\n",
      "fitting null model for pseudo-r2\n",
      "fitting null model for pseudo-r2\n",
      "fitting null model for pseudo-r2\n",
      "fitting null model for pseudo-r2\n",
      "fitting null model for pseudo-r2\n",
      "fitting null model for pseudo-r2\n",
      "fitting null model for pseudo-r2\n",
      "fitting null model for pseudo-r2\n",
      "fitting null model for pseudo-r2\n",
      "fitting null model for pseudo-r2\n",
      "fitting null model for pseudo-r2\n",
      "fitting null model for pseudo-r2\n",
      "fitting null model for pseudo-r2\n"
     ]
    }
   ],
   "source": [
    "#bootstrap\n",
    "n <- nrow(best_target)\n",
    "resamples <- 1000\n",
    "bootstrap_pseudor2_lasso <- sapply(1:resamples, function(j) {\n",
    "  bootstraps <- sample(c(1:n), n, TRUE)\n",
    "  pR2(glm(best_target.lasso$pheno[bootstraps] ~ best_target.lasso$std_prs[bootstraps], \n",
    "          family = binomial(\"logit\")))[[\"McFadden\"]]\n",
    "})"
   ]
  },
  {
   "cell_type": "code",
   "execution_count": 261,
   "id": "4612b1e4",
   "metadata": {},
   "outputs": [],
   "source": [
    "#save the upper and lower bounds, as the estimate\n",
    "lower_95_lasso <- mean(bootstrap_pseudor2_lasso) - 1.96 * sd(bootstrap_pseudor2_lasso)\n",
    "r_sqr_est_lasso <-mean(bootstrap_pseudor2_lasso)\n",
    "upper_95_lasso <- mean(bootstrap_pseudor2_lasso) + 1.96 * sd(bootstrap_pseudor2_lasso)"
   ]
  },
  {
   "cell_type": "code",
   "execution_count": 262,
   "id": "792d31ae",
   "metadata": {},
   "outputs": [],
   "source": [
    "#create an empty dataframe\n",
    "performance_metrics_rsqr <- data.frame(matrix(ncol = 4, nrow = 0))\n",
    "#enter the lassoSum estimates\n",
    "lasso_perform_rsqr <- c(\"lassoSum\", lower_95_lasso, r_sqr_est_lasso ,upper_95_lasso)\n",
    "#enter a test estimate for plotting\n",
    "test_rsqr <- c('test', 0.0234, 0.063241, 0.0876)\n",
    "#combine with the empty dataframe\n",
    "performance_metrics_rsqr <- rbind(performance_metrics_rsqr, lasso_perform_rsqr, test_rsqr)\n",
    "#rename the columns of the dataframe\n",
    "colnames(performance_metrics_rsqr) <- c(\"tool\", \"lower_95\", \"estimate\", \"upper_95\")"
   ]
  },
  {
   "cell_type": "code",
   "execution_count": 263,
   "id": "283b013c",
   "metadata": {},
   "outputs": [
    {
     "data": {
      "text/html": [
       "<table class=\"dataframe\">\n",
       "<caption>A data.frame: 2 × 4</caption>\n",
       "<thead>\n",
       "\t<tr><th></th><th scope=col>tool</th><th scope=col>lower_95</th><th scope=col>estimate</th><th scope=col>upper_95</th></tr>\n",
       "\t<tr><th></th><th scope=col>&lt;chr&gt;</th><th scope=col>&lt;dbl&gt;</th><th scope=col>&lt;dbl&gt;</th><th scope=col>&lt;dbl&gt;</th></tr>\n",
       "</thead>\n",
       "<tbody>\n",
       "\t<tr><th scope=row>1</th><td>lassoSum</td><td>0.1202203</td><td>0.1422135</td><td>0.1642067</td></tr>\n",
       "\t<tr><th scope=row>2</th><td>test    </td><td>0.0234000</td><td>0.0632410</td><td>0.0876000</td></tr>\n",
       "</tbody>\n",
       "</table>\n"
      ],
      "text/latex": [
       "A data.frame: 2 × 4\n",
       "\\begin{tabular}{r|llll}\n",
       "  & tool & lower\\_95 & estimate & upper\\_95\\\\\n",
       "  & <chr> & <dbl> & <dbl> & <dbl>\\\\\n",
       "\\hline\n",
       "\t1 & lassoSum & 0.1202203 & 0.1422135 & 0.1642067\\\\\n",
       "\t2 & test     & 0.0234000 & 0.0632410 & 0.0876000\\\\\n",
       "\\end{tabular}\n"
      ],
      "text/markdown": [
       "\n",
       "A data.frame: 2 × 4\n",
       "\n",
       "| <!--/--> | tool &lt;chr&gt; | lower_95 &lt;dbl&gt; | estimate &lt;dbl&gt; | upper_95 &lt;dbl&gt; |\n",
       "|---|---|---|---|---|\n",
       "| 1 | lassoSum | 0.1202203 | 0.1422135 | 0.1642067 |\n",
       "| 2 | test     | 0.0234000 | 0.0632410 | 0.0876000 |\n",
       "\n"
      ],
      "text/plain": [
       "  tool     lower_95  estimate  upper_95 \n",
       "1 lassoSum 0.1202203 0.1422135 0.1642067\n",
       "2 test     0.0234000 0.0632410 0.0876000"
      ]
     },
     "metadata": {},
     "output_type": "display_data"
    }
   ],
   "source": [
    "#make the dataframe columns numeric\n",
    "performance_metrics_rsqr$lower_95 <- as.numeric(performance_metrics_rsqr$lower_95)\n",
    "performance_metrics_rsqr$estimate <- as.numeric(performance_metrics_rsqr$estimate)\n",
    "performance_metrics_rsqr$upper_95 <- as.numeric(performance_metrics_rsqr$upper_95)\n",
    "head(performance_metrics_rsqr)"
   ]
  },
  {
   "cell_type": "code",
   "execution_count": 266,
   "id": "a7f889ad",
   "metadata": {
    "scrolled": true
   },
   "outputs": [
    {
     "data": {
      "image/png": "[encoded data removed]",
      "text/plain": [
       "plot without title"
      ]
     },
     "metadata": {
      "image/png": {
       "height": 420,
       "width": 420
      }
     },
     "output_type": "display_data"
    }
   ],
   "source": [
    "#make the r-sqr plot\n",
    "ggplot(performance_metrics_rsqr, aes(y = estimate, x = tool, fill = tool)) + geom_bar(stat = \"identity\", width = 0.5, size =0.5, color = \"black\")+\n",
    "labs(title = bquote(\"Bootstrapped Estimation of\"~R^2~\"Value Across Tools\"), y = bquote(R^2~\"(Percentage of Explained Variation)\"), x = '', fill = 'Tool') +\n",
    "theme_bw() + geom_text(aes(label=scaleFUN(estimate)), vjust=0, size=3.5,y = -0.005) +\n",
    "theme(plot.title = element_text(size=15), axis.title.y = element_text(size=12), axis.text.x=element_blank(),\n",
    "      axis.ticks.x=element_blank())+\n",
    "geom_errorbar(aes(ymin = lower_95, ymax = upper_95), width = 0.05) "
   ]
  },
  {
   "cell_type": "code",
   "execution_count": null,
   "id": "f57cb2d9",
   "metadata": {},
   "outputs": [],
   "source": [
    "#END MAKING PLOTS"
   ]
  },
  {
   "cell_type": "markdown",
   "id": "f2d9af01",
   "metadata": {},
   "source": [
    "# END PLOTS!"
   ]
  },
  {
   "cell_type": "code",
   "execution_count": null,
   "id": "374cf3fb",
   "metadata": {},
   "outputs": [],
   "source": []
  },
  {
   "cell_type": "code",
   "execution_count": null,
   "id": "65e21fae",
   "metadata": {},
   "outputs": [],
   "source": []
  },
  {
   "cell_type": "code",
   "execution_count": null,
   "id": "11fd5d67",
   "metadata": {},
   "outputs": [],
   "source": []
  },
  {
   "cell_type": "code",
   "execution_count": null,
   "id": "bb234d74",
   "metadata": {},
   "outputs": [],
   "source": []
  },
  {
   "cell_type": "code",
   "execution_count": 39,
   "id": "9c9c5288",
   "metadata": {},
   "outputs": [],
   "source": [
    "#split data for test and training\n",
    "set.seed(0)\n",
    "\n",
    "df_case <- best_target %>% filter(pheno == 1)\n",
    "df_control <- best_target %>% filter(pheno == 0)\n",
    "\n",
    "index_case <- sample(1:nrow(df_case), size = .80 * nrow(df_case))\n",
    "index_control <- sample(1:nrow(df_control), size = 0.80 * nrow(df_control))\n",
    "\n",
    "train_control <- df_control[index_control,]\n",
    "train_case <- df_case[index_case,]\n",
    "\n",
    "test_control <- df_control[-index_control,]\n",
    "test_case <- df_case[-index_case, ]\n",
    "\n",
    "#merge the test and train sets and remove nas\n",
    "train_mrg <- rbind(train_case, train_control) %>% na.omit()\n",
    "test_mrg <- rbind(test_case, test_control) %>% na.omit()"
   ]
  },
  {
   "cell_type": "code",
   "execution_count": 40,
   "id": "d4305200",
   "metadata": {},
   "outputs": [
    {
     "data": {
      "text/html": [
       "3091"
      ],
      "text/latex": [
       "3091"
      ],
      "text/markdown": [
       "3091"
      ],
      "text/plain": [
       "[1] 3091"
      ]
     },
     "metadata": {},
     "output_type": "display_data"
    },
    {
     "data": {
      "text/html": [
       "773"
      ],
      "text/latex": [
       "773"
      ],
      "text/markdown": [
       "773"
      ],
      "text/plain": [
       "[1] 773"
      ]
     },
     "metadata": {},
     "output_type": "display_data"
    }
   ],
   "source": [
    "nrow(train_mrg)\n",
    "nrow(test_mrg)"
   ]
  },
  {
   "cell_type": "code",
   "execution_count": 41,
   "id": "b88ec4e4",
   "metadata": {},
   "outputs": [],
   "source": [
    "#make logisitic regression\n",
    "train.lasso.log <- glm(pheno ~ std_prs, data = train_mrg, family = binomial(link = \"logit\"))\n",
    "lasso.r_sqr <- with(summary(train.lasso.log), 1 - deviance/null.deviance)"
   ]
  },
  {
   "cell_type": "code",
   "execution_count": 42,
   "id": "c2fd272e",
   "metadata": {},
   "outputs": [
    {
     "data": {
      "image/png": "[encoded data removed]",
      "text/plain": [
       "plot without title"
      ]
     },
     "metadata": {
      "image/png": {
       "height": 420,
       "width": 420
      }
     },
     "output_type": "display_data"
    }
   ],
   "source": [
    "#determine the prediction for test\n",
    "lasso_pred <- predict(train.lasso.log, test_mrg, type = 'response')\n",
    "\n",
    "#make prediction\n",
    "lasso_pred <- prediction(lasso_pred, test_mrg$pheno)\n",
    "lasso_perf <- performance(lasso_pred, \"acc\")\n",
    "plot(lasso_perf)"
   ]
  },
  {
   "cell_type": "code",
   "execution_count": 54,
   "id": "7b7e8dfa",
   "metadata": {},
   "outputs": [
    {
     "data": {
      "image/png": "[encoded data removed]",
      "text/plain": [
       "plot without title"
      ]
     },
     "metadata": {
      "image/png": {
       "height": 420,
       "width": 420
      }
     },
     "output_type": "display_data"
    }
   ],
   "source": [
    "#do ROC analysis \n",
    "lasso_max_ind <- which.max(slot(lasso_perf, \"y.values\")[[1]] )\n",
    "lasso_acc <- slot(lasso_perf, \"y.values\")[[1]][lasso_max_ind]\n",
    "#lasso_cutoff = slot(perf, \"x.values\")[[1]][lasso_max_ind]\n",
    "#print(c(accuracy= acc, cutoff = cutoff))\n",
    "\n",
    "\n",
    "roc = performance(lasso_pred,\"tpr\",\"fpr\")\n",
    "plot(roc, colorize = F, lwd = 1, col = \"blue\", grid = T)\n",
    "abline(a = 0, b = 1)\n",
    "legend(\"bottomright\",legend=c(\"lassoSum\"),col=c(\"blue\"), lty = 1)"
   ]
  },
  {
   "cell_type": "code",
   "execution_count": 116,
   "id": "c93f1580",
   "metadata": {},
   "outputs": [
    {
     "data": {
      "text/html": [
       "'performance'"
      ],
      "text/latex": [
       "'performance'"
      ],
      "text/markdown": [
       "'performance'"
      ],
      "text/plain": [
       "[1] \"performance\"\n",
       "attr(,\"package\")\n",
       "[1] \"ROCR\""
      ]
     },
     "metadata": {},
     "output_type": "display_data"
    }
   ],
   "source": [
    "class(roc)"
   ]
  },
  {
   "cell_type": "code",
   "execution_count": 123,
   "id": "d22193c6",
   "metadata": {},
   "outputs": [
    {
     "ename": "ERROR",
     "evalue": "Error in UseMethod(\"ggroc\"): no applicable method for 'ggroc' applied to an object of class \"performance\"\n",
     "output_type": "error",
     "traceback": [
      "Error in UseMethod(\"ggroc\"): no applicable method for 'ggroc' applied to an object of class \"performance\"\nTraceback:\n",
      "1. ggroc(roc)"
     ]
    }
   ],
   "source": [
    "ggroc(roc)"
   ]
  },
  {
   "cell_type": "code",
   "execution_count": null,
   "id": "50a7ee0d",
   "metadata": {},
   "outputs": [],
   "source": []
  },
  {
   "cell_type": "code",
   "execution_count": 44,
   "id": "b52b5350",
   "metadata": {},
   "outputs": [],
   "source": [
    "#create a table data containing the r-sqred and the AUC\n",
    "performance_metrics <- data.frame(matrix(ncol = 3, nrow = 0))\n",
    "lasso_perform <- c(\"lassoSum\", lasso.r_sqr,  lasso_acc)\n",
    "test <- c('test', 0.0234, 0.9876)\n",
    "performance_metrics <- rbind(performance_metrics, lasso_perform, test)"
   ]
  },
  {
   "cell_type": "code",
   "execution_count": 45,
   "id": "45d961b2",
   "metadata": {},
   "outputs": [
    {
     "data": {
      "text/html": [
       "<table class=\"dataframe\">\n",
       "<caption>A data.frame: 2 × 3</caption>\n",
       "<thead>\n",
       "\t<tr><th></th><th scope=col>tool</th><th scope=col>r_sqr</th><th scope=col>auc</th></tr>\n",
       "\t<tr><th></th><th scope=col>&lt;chr&gt;</th><th scope=col>&lt;dbl&gt;</th><th scope=col>&lt;dbl&gt;</th></tr>\n",
       "</thead>\n",
       "<tbody>\n",
       "\t<tr><th scope=row>1</th><td>lassoSum</td><td>0.1381764</td><td>0.8163001</td></tr>\n",
       "\t<tr><th scope=row>2</th><td>test    </td><td>0.0234000</td><td>0.9876000</td></tr>\n",
       "</tbody>\n",
       "</table>\n"
      ],
      "text/latex": [
       "A data.frame: 2 × 3\n",
       "\\begin{tabular}{r|lll}\n",
       "  & tool & r\\_sqr & auc\\\\\n",
       "  & <chr> & <dbl> & <dbl>\\\\\n",
       "\\hline\n",
       "\t1 & lassoSum & 0.1381764 & 0.8163001\\\\\n",
       "\t2 & test     & 0.0234000 & 0.9876000\\\\\n",
       "\\end{tabular}\n"
      ],
      "text/markdown": [
       "\n",
       "A data.frame: 2 × 3\n",
       "\n",
       "| <!--/--> | tool &lt;chr&gt; | r_sqr &lt;dbl&gt; | auc &lt;dbl&gt; |\n",
       "|---|---|---|---|\n",
       "| 1 | lassoSum | 0.1381764 | 0.8163001 |\n",
       "| 2 | test     | 0.0234000 | 0.9876000 |\n",
       "\n"
      ],
      "text/plain": [
       "  tool     r_sqr     auc      \n",
       "1 lassoSum 0.1381764 0.8163001\n",
       "2 test     0.0234000 0.9876000"
      ]
     },
     "metadata": {},
     "output_type": "display_data"
    }
   ],
   "source": [
    "colnames(performance_metrics) <- c(\"tool\", \"r_sqr\", \"auc\")\n",
    "performance_metrics$r_sqr <- as.numeric(performance_metrics$r_sqr)\n",
    "performance_metrics$auc <- as.numeric(performance_metrics$auc)\n",
    "head(performance_metrics)"
   ]
  },
  {
   "cell_type": "code",
   "execution_count": 53,
   "id": "2ddae832",
   "metadata": {},
   "outputs": [
    {
     "data": {
      "image/png": "[encoded data removed]",
      "text/plain": [
       "plot without title"
      ]
     },
     "metadata": {
      "image/png": {
       "height": 420,
       "width": 420
      }
     },
     "output_type": "display_data"
    }
   ],
   "source": [
    "scaleFUN <- function(x) sprintf(\"%.3f\", x)\n",
    "\n",
    "ggplot(performance_metrics, aes(y = r_sqr, x = tool, fill = tool)) + geom_bar(stat = \"identity\", width = 0.5)+\n",
    "labs(title = bquote(\"Bar Plot of\"~R^2~\"Value Across Tools\"), y = bquote(R^2~\"(Percentage of Explained Variation)\"), x = '', fill = 'Tool') +\n",
    "theme_bw() + geom_text(aes(label=scaleFUN(r_sqr)), vjust=-0.3, size=3.5) +\n",
    "theme(plot.title = element_text(size=15), axis.title.y = element_text(size=12), axis.text.x=element_blank(),\n",
    "      axis.ticks.x=element_blank())"
   ]
  },
  {
   "cell_type": "code",
   "execution_count": 52,
   "id": "d45e7dc3",
   "metadata": {},
   "outputs": [
    {
     "data": {
      "image/png": "[encoded data removed]",
      "text/plain": [
       "plot without title"
      ]
     },
     "metadata": {
      "image/png": {
       "height": 420,
       "width": 420
      }
     },
     "output_type": "display_data"
    }
   ],
   "source": [
    "#now make the AUC plot\n",
    "ggplot(performance_metrics, aes(y = auc, x = tool, fill = tool)) + geom_bar(stat = \"identity\", width = 0.5)+\n",
    "labs(title = bquote(\"Bar Plot of AUC Value Across Tools\\nConsidering Constructed Logisitic Regression Models\"), y = bquote(\"AUC\"), x = '', fill = 'Tool') +\n",
    "theme_bw() + geom_text(aes(label=scaleFUN(auc)), vjust=-0.3, size=3.5) +\n",
    "theme(plot.title = element_text(size=15), axis.title.y = element_text(size=12), axis.text.x=element_blank(),\n",
    "      axis.ticks.x=element_blank())"
   ]
  },
  {
   "cell_type": "code",
   "execution_count": null,
   "id": "3c4a4836",
   "metadata": {},
   "outputs": [],
   "source": []
  },
  {
   "cell_type": "code",
   "execution_count": null,
   "id": "b78613fa",
   "metadata": {},
   "outputs": [],
   "source": []
  },
  {
   "cell_type": "code",
   "execution_count": null,
   "id": "6baa92a4",
   "metadata": {},
   "outputs": [],
   "source": []
  },
  {
   "cell_type": "code",
   "execution_count": null,
   "id": "ee6e8ae8",
   "metadata": {},
   "outputs": [],
   "source": []
  },
  {
   "cell_type": "code",
   "execution_count": null,
   "id": "c24c25d1",
   "metadata": {},
   "outputs": [],
   "source": []
  },
  {
   "cell_type": "code",
   "execution_count": null,
   "id": "935c0495",
   "metadata": {},
   "outputs": [],
   "source": []
  },
  {
   "cell_type": "code",
   "execution_count": null,
   "id": "c684a67e",
   "metadata": {},
   "outputs": [],
   "source": []
  },
  {
   "cell_type": "code",
   "execution_count": null,
   "id": "bd138240",
   "metadata": {},
   "outputs": [],
   "source": []
  },
  {
   "cell_type": "code",
   "execution_count": null,
   "id": "ee370d99",
   "metadata": {},
   "outputs": [],
   "source": []
  },
  {
   "cell_type": "code",
   "execution_count": null,
   "id": "c156f1ec",
   "metadata": {},
   "outputs": [],
   "source": []
  },
  {
   "cell_type": "code",
   "execution_count": null,
   "id": "3ab9e56d",
   "metadata": {},
   "outputs": [],
   "source": []
  },
  {
   "cell_type": "code",
   "execution_count": null,
   "id": "9721890b",
   "metadata": {},
   "outputs": [],
   "source": []
  },
  {
   "cell_type": "code",
   "execution_count": 119,
   "id": "c0364e7e",
   "metadata": {},
   "outputs": [
    {
     "name": "stdout",
     "output_type": "stream",
     "text": [
      "fitting null model for pseudo-r2\n"
     ]
    },
    {
     "data": {
      "text/html": [
       "0.114376697577811"
      ],
      "text/latex": [
       "0.114376697577811"
      ],
      "text/markdown": [
       "0.114376697577811"
      ],
      "text/plain": [
       "[1] 0.1143767"
      ]
     },
     "metadata": {},
     "output_type": "display_data"
    }
   ],
   "source": [
    "pR2(glm(best_target$pheno[bootstrap_cases] ~ best_target$std_prs[bootstrap_cases], family = binomial(\"logit\")))[[\"McFadden\"]]"
   ]
  },
  {
   "cell_type": "code",
   "execution_count": 111,
   "id": "1905e3bb",
   "metadata": {},
   "outputs": [],
   "source": [
    "bootstrap_cases <- sample(c(1:nrow(best_target)), nrow(best_target), TRUE)"
   ]
  },
  {
   "cell_type": "code",
   "execution_count": 114,
   "id": "fc29f39e",
   "metadata": {},
   "outputs": [
    {
     "ename": "ERROR",
     "evalue": "Error in `[.data.frame`(best_target, bootstrap_cases): undefined columns selected\n",
     "output_type": "error",
     "traceback": [
      "Error in `[.data.frame`(best_target, bootstrap_cases): undefined columns selected\nTraceback:\n",
      "1. best_target[bootstrap_cases]",
      "2. `[.data.frame`(best_target, bootstrap_cases)",
      "3. stop(\"undefined columns selected\")"
     ]
    }
   ],
   "source": [
    "best_target[bootstrap_cases]"
   ]
  },
  {
   "cell_type": "code",
   "execution_count": null,
   "id": "f3c432f3",
   "metadata": {},
   "outputs": [],
   "source": [
    "logistic_model <- function(dat, inds) { mod <- glm(pheno[inds] ~std_prs[inds], data = dat)}"
   ]
  },
  {
   "cell_type": "code",
   "execution_count": null,
   "id": "405b1d38",
   "metadata": {},
   "outputs": [],
   "source": []
  },
  {
   "cell_type": "code",
   "execution_count": null,
   "id": "d3fd34c7",
   "metadata": {},
   "outputs": [],
   "source": []
  },
  {
   "cell_type": "code",
   "execution_count": null,
   "id": "0be104f6",
   "metadata": {},
   "outputs": [],
   "source": []
  },
  {
   "cell_type": "code",
   "execution_count": null,
   "id": "23d064f6",
   "metadata": {},
   "outputs": [],
   "source": []
  },
  {
   "cell_type": "code",
   "execution_count": null,
   "id": "6142aa3c",
   "metadata": {},
   "outputs": [],
   "source": []
  },
  {
   "cell_type": "code",
   "execution_count": null,
   "id": "5cd1157c",
   "metadata": {},
   "outputs": [],
   "source": []
  },
  {
   "cell_type": "code",
   "execution_count": null,
   "id": "8e69b0e2",
   "metadata": {},
   "outputs": [],
   "source": []
  },
  {
   "cell_type": "code",
   "execution_count": null,
   "id": "147dfa53",
   "metadata": {},
   "outputs": [],
   "source": []
  },
  {
   "cell_type": "code",
   "execution_count": null,
   "id": "285928e4",
   "metadata": {},
   "outputs": [],
   "source": []
  },
  {
   "cell_type": "code",
   "execution_count": 48,
   "id": "de4ce050",
   "metadata": {},
   "outputs": [
    {
     "data": {
      "text/html": [
       "<table class=\"dataframe\">\n",
       "<caption>A data.frame: 6 × 5</caption>\n",
       "<thead>\n",
       "\t<tr><th></th><th scope=col>FID</th><th scope=col>IID</th><th scope=col>pheno</th><th scope=col>order</th><th scope=col>best.pgs</th></tr>\n",
       "\t<tr><th></th><th scope=col>&lt;chr&gt;</th><th scope=col>&lt;chr&gt;</th><th scope=col>&lt;dbl&gt;</th><th scope=col>&lt;int&gt;</th><th scope=col>&lt;dbl&gt;</th></tr>\n",
       "</thead>\n",
       "<tbody>\n",
       "\t<tr><th scope=row>1</th><td>HG00096</td><td>HG00096</td><td>169.1322</td><td>1</td><td>-2.0723897</td></tr>\n",
       "\t<tr><th scope=row>2</th><td>HG00097</td><td>HG00097</td><td>171.2563</td><td>2</td><td> 1.1949882</td></tr>\n",
       "\t<tr><th scope=row>3</th><td>HG00099</td><td>HG00099</td><td>171.5344</td><td>3</td><td>-0.7039950</td></tr>\n",
       "\t<tr><th scope=row>4</th><td>HG00101</td><td>HG00101</td><td>169.8502</td><td>4</td><td> 0.1714423</td></tr>\n",
       "\t<tr><th scope=row>5</th><td>HG00102</td><td>HG00102</td><td>172.7884</td><td>5</td><td> 0.2608572</td></tr>\n",
       "\t<tr><th scope=row>6</th><td>HG00103</td><td>HG00103</td><td>169.8630</td><td>6</td><td> 0.8392051</td></tr>\n",
       "</tbody>\n",
       "</table>\n"
      ],
      "text/latex": [
       "A data.frame: 6 × 5\n",
       "\\begin{tabular}{r|lllll}\n",
       "  & FID & IID & pheno & order & best.pgs\\\\\n",
       "  & <chr> & <chr> & <dbl> & <int> & <dbl>\\\\\n",
       "\\hline\n",
       "\t1 & HG00096 & HG00096 & 169.1322 & 1 & -2.0723897\\\\\n",
       "\t2 & HG00097 & HG00097 & 171.2563 & 2 &  1.1949882\\\\\n",
       "\t3 & HG00099 & HG00099 & 171.5344 & 3 & -0.7039950\\\\\n",
       "\t4 & HG00101 & HG00101 & 169.8502 & 4 &  0.1714423\\\\\n",
       "\t5 & HG00102 & HG00102 & 172.7884 & 5 &  0.2608572\\\\\n",
       "\t6 & HG00103 & HG00103 & 169.8630 & 6 &  0.8392051\\\\\n",
       "\\end{tabular}\n"
      ],
      "text/markdown": [
       "\n",
       "A data.frame: 6 × 5\n",
       "\n",
       "| <!--/--> | FID &lt;chr&gt; | IID &lt;chr&gt; | pheno &lt;dbl&gt; | order &lt;int&gt; | best.pgs &lt;dbl&gt; |\n",
       "|---|---|---|---|---|---|\n",
       "| 1 | HG00096 | HG00096 | 169.1322 | 1 | -2.0723897 |\n",
       "| 2 | HG00097 | HG00097 | 171.2563 | 2 |  1.1949882 |\n",
       "| 3 | HG00099 | HG00099 | 171.5344 | 3 | -0.7039950 |\n",
       "| 4 | HG00101 | HG00101 | 169.8502 | 4 |  0.1714423 |\n",
       "| 5 | HG00102 | HG00102 | 172.7884 | 5 |  0.2608572 |\n",
       "| 6 | HG00103 | HG00103 | 169.8630 | 6 |  0.8392051 |\n",
       "\n"
      ],
      "text/plain": [
       "  FID     IID     pheno    order best.pgs  \n",
       "1 HG00096 HG00096 169.1322 1     -2.0723897\n",
       "2 HG00097 HG00097 171.2563 2      1.1949882\n",
       "3 HG00099 HG00099 171.5344 3     -0.7039950\n",
       "4 HG00101 HG00101 169.8502 4      0.1714423\n",
       "5 HG00102 HG00102 172.7884 5      0.2608572\n",
       "6 HG00103 HG00103 169.8630 6      0.8392051"
      ]
     },
     "metadata": {},
     "output_type": "display_data"
    },
    {
     "data": {
      "text/html": [
       "475"
      ],
      "text/latex": [
       "475"
      ],
      "text/markdown": [
       "475"
      ],
      "text/plain": [
       "[1] 475"
      ]
     },
     "metadata": {},
     "output_type": "display_data"
    }
   ],
   "source": [
    "head(target.prs.1)\n",
    "nrow(target.prs.1)"
   ]
  },
  {
   "cell_type": "code",
   "execution_count": 113,
   "id": "aaff9ff4",
   "metadata": {},
   "outputs": [
    {
     "data": {
      "text/html": [
       "<table class=\"dataframe\">\n",
       "<caption>A data.frame: 6 × 5</caption>\n",
       "<thead>\n",
       "\t<tr><th></th><th scope=col>FID</th><th scope=col>IID</th><th scope=col>pheno</th><th scope=col>order</th><th scope=col>best.pgs</th></tr>\n",
       "\t<tr><th></th><th scope=col>&lt;int&gt;</th><th scope=col>&lt;int&gt;</th><th scope=col>&lt;int&gt;</th><th scope=col>&lt;int&gt;</th><th scope=col>&lt;dbl&gt;</th></tr>\n",
       "</thead>\n",
       "<tbody>\n",
       "\t<tr><th scope=row>1</th><td>9263</td><td>9263</td><td>1</td><td>1</td><td>-0.020725243</td></tr>\n",
       "\t<tr><th scope=row>2</th><td>9535</td><td>9535</td><td>2</td><td>2</td><td> 0.012936013</td></tr>\n",
       "\t<tr><th scope=row>3</th><td>5924</td><td>5924</td><td>2</td><td>3</td><td> 0.026746788</td></tr>\n",
       "\t<tr><th scope=row>4</th><td>2762</td><td>2762</td><td>2</td><td>4</td><td>-0.028418774</td></tr>\n",
       "\t<tr><th scope=row>5</th><td>9323</td><td>9323</td><td>1</td><td>5</td><td> 0.008072106</td></tr>\n",
       "\t<tr><th scope=row>6</th><td>7670</td><td>7670</td><td>2</td><td>6</td><td>-0.058116953</td></tr>\n",
       "</tbody>\n",
       "</table>\n"
      ],
      "text/latex": [
       "A data.frame: 6 × 5\n",
       "\\begin{tabular}{r|lllll}\n",
       "  & FID & IID & pheno & order & best.pgs\\\\\n",
       "  & <int> & <int> & <int> & <int> & <dbl>\\\\\n",
       "\\hline\n",
       "\t1 & 9263 & 9263 & 1 & 1 & -0.020725243\\\\\n",
       "\t2 & 9535 & 9535 & 2 & 2 &  0.012936013\\\\\n",
       "\t3 & 5924 & 5924 & 2 & 3 &  0.026746788\\\\\n",
       "\t4 & 2762 & 2762 & 2 & 4 & -0.028418774\\\\\n",
       "\t5 & 9323 & 9323 & 1 & 5 &  0.008072106\\\\\n",
       "\t6 & 7670 & 7670 & 2 & 6 & -0.058116953\\\\\n",
       "\\end{tabular}\n"
      ],
      "text/markdown": [
       "\n",
       "A data.frame: 6 × 5\n",
       "\n",
       "| <!--/--> | FID &lt;int&gt; | IID &lt;int&gt; | pheno &lt;int&gt; | order &lt;int&gt; | best.pgs &lt;dbl&gt; |\n",
       "|---|---|---|---|---|---|\n",
       "| 1 | 9263 | 9263 | 1 | 1 | -0.020725243 |\n",
       "| 2 | 9535 | 9535 | 2 | 2 |  0.012936013 |\n",
       "| 3 | 5924 | 5924 | 2 | 3 |  0.026746788 |\n",
       "| 4 | 2762 | 2762 | 2 | 4 | -0.028418774 |\n",
       "| 5 | 9323 | 9323 | 1 | 5 |  0.008072106 |\n",
       "| 6 | 7670 | 7670 | 2 | 6 | -0.058116953 |\n",
       "\n"
      ],
      "text/plain": [
       "  FID  IID  pheno order best.pgs    \n",
       "1 9263 9263 1     1     -0.020725243\n",
       "2 9535 9535 2     2      0.012936013\n",
       "3 5924 5924 2     3      0.026746788\n",
       "4 2762 2762 2     4     -0.028418774\n",
       "5 9323 9323 1     5      0.008072106\n",
       "6 7670 7670 2     6     -0.058116953"
      ]
     },
     "metadata": {},
     "output_type": "display_data"
    },
    {
     "data": {
      "text/html": [
       "3888"
      ],
      "text/latex": [
       "3888"
      ],
      "text/markdown": [
       "3888"
      ],
      "text/plain": [
       "[1] 3888"
      ]
     },
     "metadata": {},
     "output_type": "display_data"
    }
   ],
   "source": [
    "#best prs\n",
    "prs_best <- read.table(\"IBD_GSA_imp_updated_prs_results.txt\", header = T)\n",
    "head(prs_best)\n",
    "nrow(target.prs.1)"
   ]
  },
  {
   "cell_type": "code",
   "execution_count": 114,
   "id": "7bc7a330",
   "metadata": {},
   "outputs": [],
   "source": [
    "setwd(\"/lustre1/project/stg_00092/IBP_PRSproject/1_Intestinal_Bowel_Disease/data\")"
   ]
  },
  {
   "cell_type": "code",
   "execution_count": 115,
   "id": "32df5c3f",
   "metadata": {},
   "outputs": [
    {
     "data": {
      "text/html": [
       "<table class=\"dataframe\">\n",
       "<caption>A data.frame: 6 × 3</caption>\n",
       "<thead>\n",
       "\t<tr><th></th><th scope=col>FID</th><th scope=col>IID</th><th scope=col>pheno</th></tr>\n",
       "\t<tr><th></th><th scope=col>&lt;int&gt;</th><th scope=col>&lt;int&gt;</th><th scope=col>&lt;int&gt;</th></tr>\n",
       "</thead>\n",
       "<tbody>\n",
       "\t<tr><th scope=row>1</th><td>9263</td><td>9263</td><td>1</td></tr>\n",
       "\t<tr><th scope=row>2</th><td>9535</td><td>9535</td><td>2</td></tr>\n",
       "\t<tr><th scope=row>3</th><td>5924</td><td>5924</td><td>2</td></tr>\n",
       "\t<tr><th scope=row>4</th><td>2762</td><td>2762</td><td>2</td></tr>\n",
       "\t<tr><th scope=row>5</th><td>9323</td><td>9323</td><td>1</td></tr>\n",
       "\t<tr><th scope=row>6</th><td>7670</td><td>7670</td><td>2</td></tr>\n",
       "</tbody>\n",
       "</table>\n"
      ],
      "text/latex": [
       "A data.frame: 6 × 3\n",
       "\\begin{tabular}{r|lll}\n",
       "  & FID & IID & pheno\\\\\n",
       "  & <int> & <int> & <int>\\\\\n",
       "\\hline\n",
       "\t1 & 9263 & 9263 & 1\\\\\n",
       "\t2 & 9535 & 9535 & 2\\\\\n",
       "\t3 & 5924 & 5924 & 2\\\\\n",
       "\t4 & 2762 & 2762 & 2\\\\\n",
       "\t5 & 9323 & 9323 & 1\\\\\n",
       "\t6 & 7670 & 7670 & 2\\\\\n",
       "\\end{tabular}\n"
      ],
      "text/markdown": [
       "\n",
       "A data.frame: 6 × 3\n",
       "\n",
       "| <!--/--> | FID &lt;int&gt; | IID &lt;int&gt; | pheno &lt;int&gt; |\n",
       "|---|---|---|---|\n",
       "| 1 | 9263 | 9263 | 1 |\n",
       "| 2 | 9535 | 9535 | 2 |\n",
       "| 3 | 5924 | 5924 | 2 |\n",
       "| 4 | 2762 | 2762 | 2 |\n",
       "| 5 | 9323 | 9323 | 1 |\n",
       "| 6 | 7670 | 7670 | 2 |\n",
       "\n"
      ],
      "text/plain": [
       "  FID  IID  pheno\n",
       "1 9263 9263 1    \n",
       "2 9535 9535 2    \n",
       "3 5924 5924 2    \n",
       "4 2762 2762 2    \n",
       "5 9323 9323 1    \n",
       "6 7670 7670 2    "
      ]
     },
     "metadata": {},
     "output_type": "display_data"
    }
   ],
   "source": [
    "#read in fam file to obtain phenotypes\n",
    "target.fam <- read.table(\"IBD_GSA_imp_updated.fam\")\n",
    "colnames(target.fam) <- c(\"FID\", \"IID\", \"father_ID\", \"mother_ID\", \"sex\", \"pheno\")\n",
    "target.pheno <- read.table(\"final_phenotypes.txt\", header = T)\n",
    "colnames(target.pheno) <- c(\"FID\",\"IID\",\"pheno\")\n",
    "head(target.pheno)"
   ]
  },
  {
   "cell_type": "code",
   "execution_count": 21,
   "id": "098021a9",
   "metadata": {},
   "outputs": [],
   "source": [
    "setwd(\"/lustre1/project/stg_00092/IBP_PRSproject/1_Intestinal_Bowel_Disease/output_data/003_lassoSum/external_data\")"
   ]
  },
  {
   "cell_type": "code",
   "execution_count": 24,
   "id": "3f502407",
   "metadata": {},
   "outputs": [],
   "source": [
    "external_prs.1 <- read.table(\"IBD_GSA_imp_updated_prs_lasso1_external.txt\", header = TRUE)\n",
    "external_prs.1 <- external_prs.1[complete.cases(external_prs.1), ]\n",
    "external_prs.2 <- read.table(\"IBD_GSA_imp_updated_prs_lasso2_external.txt\", header = TRUE)\n",
    "external_prs.2 <- external_prs.2[complete.cases(external_prs.2), ]\n",
    "external_prs.3 <- read.table(\"IBD_GSA_imp_updated_prs_lasso3_external.txt\", header = TRUE)\n",
    "external_prs.3 <- external_prs.3[complete.cases(external_prs.3), ]\n",
    "external_prs.4 <- read.table(\"IBD_GSA_imp_updated_prs_lasso4_external.txt\", header = TRUE)\n",
    "external_prs.4 <- external_prs.4[complete.cases(external_prs.4), ]"
   ]
  },
  {
   "cell_type": "code",
   "execution_count": 25,
   "id": "a793ae98",
   "metadata": {},
   "outputs": [
    {
     "data": {
      "text/html": [
       "<table class=\"dataframe\">\n",
       "<caption>A data.frame: 6 × 4</caption>\n",
       "<thead>\n",
       "\t<tr><th></th><th scope=col>FID</th><th scope=col>IID</th><th scope=col>pheno</th><th scope=col>best.pgs</th></tr>\n",
       "\t<tr><th></th><th scope=col>&lt;chr&gt;</th><th scope=col>&lt;chr&gt;</th><th scope=col>&lt;int&gt;</th><th scope=col>&lt;dbl&gt;</th></tr>\n",
       "</thead>\n",
       "<tbody>\n",
       "\t<tr><th scope=row>1</th><td>NA12718</td><td>NA12718</td><td>-9</td><td> 0.032126041</td></tr>\n",
       "\t<tr><th scope=row>2</th><td>NA12748</td><td>NA12748</td><td>-9</td><td> 0.032168928</td></tr>\n",
       "\t<tr><th scope=row>3</th><td>NA12775</td><td>NA12775</td><td>-9</td><td> 0.017522501</td></tr>\n",
       "\t<tr><th scope=row>4</th><td>NA12777</td><td>NA12777</td><td>-9</td><td> 0.013511984</td></tr>\n",
       "\t<tr><th scope=row>5</th><td>NA12778</td><td>NA12778</td><td>-9</td><td>-0.005725379</td></tr>\n",
       "\t<tr><th scope=row>6</th><td>NA12827</td><td>NA12827</td><td>-9</td><td> 0.004605137</td></tr>\n",
       "</tbody>\n",
       "</table>\n"
      ],
      "text/latex": [
       "A data.frame: 6 × 4\n",
       "\\begin{tabular}{r|llll}\n",
       "  & FID & IID & pheno & best.pgs\\\\\n",
       "  & <chr> & <chr> & <int> & <dbl>\\\\\n",
       "\\hline\n",
       "\t1 & NA12718 & NA12718 & -9 &  0.032126041\\\\\n",
       "\t2 & NA12748 & NA12748 & -9 &  0.032168928\\\\\n",
       "\t3 & NA12775 & NA12775 & -9 &  0.017522501\\\\\n",
       "\t4 & NA12777 & NA12777 & -9 &  0.013511984\\\\\n",
       "\t5 & NA12778 & NA12778 & -9 & -0.005725379\\\\\n",
       "\t6 & NA12827 & NA12827 & -9 &  0.004605137\\\\\n",
       "\\end{tabular}\n"
      ],
      "text/markdown": [
       "\n",
       "A data.frame: 6 × 4\n",
       "\n",
       "| <!--/--> | FID &lt;chr&gt; | IID &lt;chr&gt; | pheno &lt;int&gt; | best.pgs &lt;dbl&gt; |\n",
       "|---|---|---|---|---|\n",
       "| 1 | NA12718 | NA12718 | -9 |  0.032126041 |\n",
       "| 2 | NA12748 | NA12748 | -9 |  0.032168928 |\n",
       "| 3 | NA12775 | NA12775 | -9 |  0.017522501 |\n",
       "| 4 | NA12777 | NA12777 | -9 |  0.013511984 |\n",
       "| 5 | NA12778 | NA12778 | -9 | -0.005725379 |\n",
       "| 6 | NA12827 | NA12827 | -9 |  0.004605137 |\n",
       "\n"
      ],
      "text/plain": [
       "  FID     IID     pheno best.pgs    \n",
       "1 NA12718 NA12718 -9     0.032126041\n",
       "2 NA12748 NA12748 -9     0.032168928\n",
       "3 NA12775 NA12775 -9     0.017522501\n",
       "4 NA12777 NA12777 -9     0.013511984\n",
       "5 NA12778 NA12778 -9    -0.005725379\n",
       "6 NA12827 NA12827 -9     0.004605137"
      ]
     },
     "metadata": {},
     "output_type": "display_data"
    }
   ],
   "source": [
    "head(external_prs.1)"
   ]
  },
  {
   "cell_type": "code",
   "execution_count": 30,
   "id": "99b210f7",
   "metadata": {},
   "outputs": [
    {
     "data": {
      "text/html": [
       "<table class=\"dataframe\">\n",
       "<caption>A data.frame: 6 × 5</caption>\n",
       "<thead>\n",
       "\t<tr><th></th><th scope=col>FID</th><th scope=col>IID</th><th scope=col>pheno</th><th scope=col>order</th><th scope=col>best.pgs</th></tr>\n",
       "\t<tr><th></th><th scope=col>&lt;int&gt;</th><th scope=col>&lt;int&gt;</th><th scope=col>&lt;dbl&gt;</th><th scope=col>&lt;int&gt;</th><th scope=col>&lt;dbl&gt;</th></tr>\n",
       "</thead>\n",
       "<tbody>\n",
       "\t<tr><th scope=row>1</th><td>9263</td><td>9263</td><td>0</td><td>1</td><td>-0.008510313</td></tr>\n",
       "\t<tr><th scope=row>2</th><td>9535</td><td>9535</td><td>1</td><td>2</td><td> 0.013978511</td></tr>\n",
       "\t<tr><th scope=row>3</th><td>5924</td><td>5924</td><td>1</td><td>3</td><td> 0.030674872</td></tr>\n",
       "\t<tr><th scope=row>4</th><td>2762</td><td>2762</td><td>1</td><td>4</td><td>-0.022176851</td></tr>\n",
       "\t<tr><th scope=row>5</th><td>9323</td><td>9323</td><td>0</td><td>5</td><td> 0.003137698</td></tr>\n",
       "\t<tr><th scope=row>6</th><td>7670</td><td>7670</td><td>1</td><td>6</td><td>-0.033195389</td></tr>\n",
       "</tbody>\n",
       "</table>\n"
      ],
      "text/latex": [
       "A data.frame: 6 × 5\n",
       "\\begin{tabular}{r|lllll}\n",
       "  & FID & IID & pheno & order & best.pgs\\\\\n",
       "  & <int> & <int> & <dbl> & <int> & <dbl>\\\\\n",
       "\\hline\n",
       "\t1 & 9263 & 9263 & 0 & 1 & -0.008510313\\\\\n",
       "\t2 & 9535 & 9535 & 1 & 2 &  0.013978511\\\\\n",
       "\t3 & 5924 & 5924 & 1 & 3 &  0.030674872\\\\\n",
       "\t4 & 2762 & 2762 & 1 & 4 & -0.022176851\\\\\n",
       "\t5 & 9323 & 9323 & 0 & 5 &  0.003137698\\\\\n",
       "\t6 & 7670 & 7670 & 1 & 6 & -0.033195389\\\\\n",
       "\\end{tabular}\n"
      ],
      "text/markdown": [
       "\n",
       "A data.frame: 6 × 5\n",
       "\n",
       "| <!--/--> | FID &lt;int&gt; | IID &lt;int&gt; | pheno &lt;dbl&gt; | order &lt;int&gt; | best.pgs &lt;dbl&gt; |\n",
       "|---|---|---|---|---|---|\n",
       "| 1 | 9263 | 9263 | 0 | 1 | -0.008510313 |\n",
       "| 2 | 9535 | 9535 | 1 | 2 |  0.013978511 |\n",
       "| 3 | 5924 | 5924 | 1 | 3 |  0.030674872 |\n",
       "| 4 | 2762 | 2762 | 1 | 4 | -0.022176851 |\n",
       "| 5 | 9323 | 9323 | 0 | 5 |  0.003137698 |\n",
       "| 6 | 7670 | 7670 | 1 | 6 | -0.033195389 |\n",
       "\n"
      ],
      "text/plain": [
       "  FID  IID  pheno order best.pgs    \n",
       "1 9263 9263 0     1     -0.008510313\n",
       "2 9535 9535 1     2      0.013978511\n",
       "3 5924 5924 1     3      0.030674872\n",
       "4 2762 2762 1     4     -0.022176851\n",
       "5 9323 9323 0     5      0.003137698\n",
       "6 7670 7670 1     6     -0.033195389"
      ]
     },
     "metadata": {},
     "output_type": "display_data"
    }
   ],
   "source": [
    "#make the target pheno be on a 0 to 1 scale\n",
    "target.prs.1$pheno <- target.prs.1$pheno - 1\n",
    "target.prs.2$pheno <- target.prs.2$pheno - 1\n",
    "target.prs.3$pheno <- target.prs.3$pheno - 1\n",
    "target.prs.4$pheno <- target.prs.4$pheno - 1\n",
    "head(target.prs.1)"
   ]
  },
  {
   "cell_type": "code",
   "execution_count": 31,
   "id": "5c8e743d",
   "metadata": {},
   "outputs": [],
   "source": [
    "ext_mean.1 <- mean(external_prs.1$best.pgs)\n",
    "ext_sd.1 <- sd(external_prs.1$best.pgs)\n",
    "ext_mean.2 <- mean(external_prs.2$best.pgs)\n",
    "ext_sd.2 <- sd(external_prs.2$best.pgs)\n",
    "ext_mean.3 <- mean(external_prs.3$best.pgs)\n",
    "ext_sd.3 <- sd(external_prs.3$best.pgs)\n",
    "ext_mean.4 <- mean(external_prs.4$best.pgs)\n",
    "ext_sd.4 <- sd(external_prs.4$best.pgs)"
   ]
  },
  {
   "cell_type": "code",
   "execution_count": 32,
   "id": "59e034c4",
   "metadata": {},
   "outputs": [
    {
     "data": {
      "text/html": [
       "0.00815542223786176"
      ],
      "text/latex": [
       "0.00815542223786176"
      ],
      "text/markdown": [
       "0.00815542223786176"
      ],
      "text/plain": [
       "[1] 0.008155422"
      ]
     },
     "metadata": {},
     "output_type": "display_data"
    },
    {
     "data": {
      "text/html": [
       "0.0175604014364434"
      ],
      "text/latex": [
       "0.0175604014364434"
      ],
      "text/markdown": [
       "0.0175604014364434"
      ],
      "text/plain": [
       "[1] 0.0175604"
      ]
     },
     "metadata": {},
     "output_type": "display_data"
    }
   ],
   "source": [
    "ext_mean.1\n",
    "ext_sd.1"
   ]
  },
  {
   "cell_type": "code",
   "execution_count": 33,
   "id": "4cdb4332",
   "metadata": {},
   "outputs": [],
   "source": [
    "#standardize target\n",
    "target.prs.1$std_prs <- (target.prs.1$best.pgs - ext_mean.1) / ext_sd.1\n",
    "target.prs.2$std_prs <- (target.prs.2$best.pgs - ext_mean.2) / ext_sd.2\n",
    "target.prs.3$std_prs <- (target.prs.3$best.pgs - ext_mean.3) / ext_sd.3\n",
    "target.prs.4$std_prs <- (target.prs.4$best.pgs - ext_mean.4) / ext_sd.4\n",
    "\n",
    "\n",
    "#target.prs.1$std_prs <- (target.prs.1$prs - mean(target.prs.1$prs)) / sd(target.prs.1$prs)\n",
    "#target.prs.2$std_prs <- (target.prs.2$prs - mean(target.prs.2$prs)) / sd(target.prs.2$prs)\n",
    "#target.prs.3$std_prs <- (target.prs.3$prs - mean(target.prs.3$prs)) / sd(target.prs.3$prs)\n",
    "#target.prs.4$std_prs <- (target.prs.4$prs - mean(target.prs.4$prs)) / sd(target.prs.4$prs)\n",
    "\n",
    "\n",
    "#prs_best$std_prs <- (prs_best$best.pgs - ext_mean.1) / ext_sd.1"
   ]
  },
  {
   "cell_type": "code",
   "execution_count": 34,
   "id": "224ccb40",
   "metadata": {},
   "outputs": [],
   "source": [
    "target.prs.1 <- target.prs.1[complete.cases(target.prs.1),]\n",
    "target.prs.2 <- target.prs.2[complete.cases(target.prs.2),]\n",
    "target.prs.3 <- target.prs.3[complete.cases(target.prs.3),]\n",
    "target.prs.4 <- target.prs.4[complete.cases(target.prs.4),]"
   ]
  },
  {
   "cell_type": "code",
   "execution_count": 35,
   "id": "f695b553",
   "metadata": {},
   "outputs": [
    {
     "data": {
      "text/html": [
       "<table class=\"dataframe\">\n",
       "<caption>A data.frame: 6 × 6</caption>\n",
       "<thead>\n",
       "\t<tr><th></th><th scope=col>FID</th><th scope=col>IID</th><th scope=col>pheno</th><th scope=col>order</th><th scope=col>best.pgs</th><th scope=col>std_prs</th></tr>\n",
       "\t<tr><th></th><th scope=col>&lt;int&gt;</th><th scope=col>&lt;int&gt;</th><th scope=col>&lt;dbl&gt;</th><th scope=col>&lt;int&gt;</th><th scope=col>&lt;dbl&gt;</th><th scope=col>&lt;dbl&gt;</th></tr>\n",
       "</thead>\n",
       "<tbody>\n",
       "\t<tr><th scope=row>1</th><td>9263</td><td>9263</td><td>0</td><td>1</td><td>-0.008510313</td><td>-0.9490521</td></tr>\n",
       "\t<tr><th scope=row>2</th><td>9535</td><td>9535</td><td>1</td><td>2</td><td> 0.013978511</td><td> 0.3316034</td></tr>\n",
       "\t<tr><th scope=row>3</th><td>5924</td><td>5924</td><td>1</td><td>3</td><td> 0.030674872</td><td> 1.2823995</td></tr>\n",
       "\t<tr><th scope=row>4</th><td>2762</td><td>2762</td><td>1</td><td>4</td><td>-0.022176851</td><td>-1.7273109</td></tr>\n",
       "\t<tr><th scope=row>5</th><td>9323</td><td>9323</td><td>0</td><td>5</td><td> 0.003137698</td><td>-0.2857409</td></tr>\n",
       "\t<tr><th scope=row>6</th><td>7670</td><td>7670</td><td>1</td><td>6</td><td>-0.033195389</td><td>-2.3547760</td></tr>\n",
       "</tbody>\n",
       "</table>\n"
      ],
      "text/latex": [
       "A data.frame: 6 × 6\n",
       "\\begin{tabular}{r|llllll}\n",
       "  & FID & IID & pheno & order & best.pgs & std\\_prs\\\\\n",
       "  & <int> & <int> & <dbl> & <int> & <dbl> & <dbl>\\\\\n",
       "\\hline\n",
       "\t1 & 9263 & 9263 & 0 & 1 & -0.008510313 & -0.9490521\\\\\n",
       "\t2 & 9535 & 9535 & 1 & 2 &  0.013978511 &  0.3316034\\\\\n",
       "\t3 & 5924 & 5924 & 1 & 3 &  0.030674872 &  1.2823995\\\\\n",
       "\t4 & 2762 & 2762 & 1 & 4 & -0.022176851 & -1.7273109\\\\\n",
       "\t5 & 9323 & 9323 & 0 & 5 &  0.003137698 & -0.2857409\\\\\n",
       "\t6 & 7670 & 7670 & 1 & 6 & -0.033195389 & -2.3547760\\\\\n",
       "\\end{tabular}\n"
      ],
      "text/markdown": [
       "\n",
       "A data.frame: 6 × 6\n",
       "\n",
       "| <!--/--> | FID &lt;int&gt; | IID &lt;int&gt; | pheno &lt;dbl&gt; | order &lt;int&gt; | best.pgs &lt;dbl&gt; | std_prs &lt;dbl&gt; |\n",
       "|---|---|---|---|---|---|---|\n",
       "| 1 | 9263 | 9263 | 0 | 1 | -0.008510313 | -0.9490521 |\n",
       "| 2 | 9535 | 9535 | 1 | 2 |  0.013978511 |  0.3316034 |\n",
       "| 3 | 5924 | 5924 | 1 | 3 |  0.030674872 |  1.2823995 |\n",
       "| 4 | 2762 | 2762 | 1 | 4 | -0.022176851 | -1.7273109 |\n",
       "| 5 | 9323 | 9323 | 0 | 5 |  0.003137698 | -0.2857409 |\n",
       "| 6 | 7670 | 7670 | 1 | 6 | -0.033195389 | -2.3547760 |\n",
       "\n"
      ],
      "text/plain": [
       "  FID  IID  pheno order best.pgs     std_prs   \n",
       "1 9263 9263 0     1     -0.008510313 -0.9490521\n",
       "2 9535 9535 1     2      0.013978511  0.3316034\n",
       "3 5924 5924 1     3      0.030674872  1.2823995\n",
       "4 2762 2762 1     4     -0.022176851 -1.7273109\n",
       "5 9323 9323 0     5      0.003137698 -0.2857409\n",
       "6 7670 7670 1     6     -0.033195389 -2.3547760"
      ]
     },
     "metadata": {},
     "output_type": "display_data"
    },
    {
     "data": {
      "text/html": [
       "3864"
      ],
      "text/latex": [
       "3864"
      ],
      "text/markdown": [
       "3864"
      ],
      "text/plain": [
       "[1] 3864"
      ]
     },
     "metadata": {},
     "output_type": "display_data"
    }
   ],
   "source": [
    "head(target.prs.1)\n",
    "nrow(target.prs.1)"
   ]
  },
  {
   "cell_type": "code",
   "execution_count": null,
   "id": "333d8193",
   "metadata": {},
   "outputs": [],
   "source": []
  },
  {
   "cell_type": "code",
   "execution_count": null,
   "id": "1ba06f8e",
   "metadata": {},
   "outputs": [],
   "source": []
  },
  {
   "cell_type": "code",
   "execution_count": 123,
   "id": "47256238",
   "metadata": {},
   "outputs": [],
   "source": [
    "prs_best <- prs_best[complete.cases(prs_best),]\n",
    "#prs_best1 <- prs_best[!prs_best$FID %in% outlrs, ]\n",
    "#external_prs.1 <- external_prs.1[complete.cases(external_prs.1), ]"
   ]
  },
  {
   "cell_type": "code",
   "execution_count": 124,
   "id": "7da4aaf6",
   "metadata": {},
   "outputs": [
    {
     "data": {
      "text/html": [
       "<table class=\"dataframe\">\n",
       "<caption>A data.frame: 6 × 5</caption>\n",
       "<thead>\n",
       "\t<tr><th></th><th scope=col>FID</th><th scope=col>IID</th><th scope=col>prs</th><th scope=col>std_prs</th><th scope=col>pheno</th></tr>\n",
       "\t<tr><th></th><th scope=col>&lt;chr&gt;</th><th scope=col>&lt;chr&gt;</th><th scope=col>&lt;dbl&gt;</th><th scope=col>&lt;dbl&gt;</th><th scope=col>&lt;int&gt;</th></tr>\n",
       "</thead>\n",
       "<tbody>\n",
       "\t<tr><th scope=row>1</th><td>1    </td><td>1    </td><td>-0.033802931</td><td>-1.49299392</td><td>2</td></tr>\n",
       "\t<tr><th scope=row>2</th><td>10003</td><td>10003</td><td> 0.005506062</td><td>-0.38479089</td><td>2</td></tr>\n",
       "\t<tr><th scope=row>3</th><td>10004</td><td>10004</td><td> 0.022309880</td><td> 0.08894403</td><td>2</td></tr>\n",
       "\t<tr><th scope=row>4</th><td>10006</td><td>10006</td><td>-0.025839556</td><td>-1.26848968</td><td>1</td></tr>\n",
       "\t<tr><th scope=row>5</th><td>10008</td><td>10008</td><td> 0.101026000</td><td> 2.30811672</td><td>1</td></tr>\n",
       "\t<tr><th scope=row>6</th><td>10013</td><td>10013</td><td>-0.027796555</td><td>-1.32366158</td><td>2</td></tr>\n",
       "</tbody>\n",
       "</table>\n"
      ],
      "text/latex": [
       "A data.frame: 6 × 5\n",
       "\\begin{tabular}{r|lllll}\n",
       "  & FID & IID & prs & std\\_prs & pheno\\\\\n",
       "  & <chr> & <chr> & <dbl> & <dbl> & <int>\\\\\n",
       "\\hline\n",
       "\t1 & 1     & 1     & -0.033802931 & -1.49299392 & 2\\\\\n",
       "\t2 & 10003 & 10003 &  0.005506062 & -0.38479089 & 2\\\\\n",
       "\t3 & 10004 & 10004 &  0.022309880 &  0.08894403 & 2\\\\\n",
       "\t4 & 10006 & 10006 & -0.025839556 & -1.26848968 & 1\\\\\n",
       "\t5 & 10008 & 10008 &  0.101026000 &  2.30811672 & 1\\\\\n",
       "\t6 & 10013 & 10013 & -0.027796555 & -1.32366158 & 2\\\\\n",
       "\\end{tabular}\n"
      ],
      "text/markdown": [
       "\n",
       "A data.frame: 6 × 5\n",
       "\n",
       "| <!--/--> | FID &lt;chr&gt; | IID &lt;chr&gt; | prs &lt;dbl&gt; | std_prs &lt;dbl&gt; | pheno &lt;int&gt; |\n",
       "|---|---|---|---|---|---|\n",
       "| 1 | 1     | 1     | -0.033802931 | -1.49299392 | 2 |\n",
       "| 2 | 10003 | 10003 |  0.005506062 | -0.38479089 | 2 |\n",
       "| 3 | 10004 | 10004 |  0.022309880 |  0.08894403 | 2 |\n",
       "| 4 | 10006 | 10006 | -0.025839556 | -1.26848968 | 1 |\n",
       "| 5 | 10008 | 10008 |  0.101026000 |  2.30811672 | 1 |\n",
       "| 6 | 10013 | 10013 | -0.027796555 | -1.32366158 | 2 |\n",
       "\n"
      ],
      "text/plain": [
       "  FID   IID   prs          std_prs     pheno\n",
       "1 1     1     -0.033802931 -1.49299392 2    \n",
       "2 10003 10003  0.005506062 -0.38479089 2    \n",
       "3 10004 10004  0.022309880  0.08894403 2    \n",
       "4 10006 10006 -0.025839556 -1.26848968 1    \n",
       "5 10008 10008  0.101026000  2.30811672 1    \n",
       "6 10013 10013 -0.027796555 -1.32366158 2    "
      ]
     },
     "metadata": {},
     "output_type": "display_data"
    }
   ],
   "source": [
    "target.prs.1.merge <- merge(x=target.prs.1, y= target.pheno,by=c(\"FID\",\"IID\"), all.x=TRUE)\n",
    "head(target.prs.1.merge)\n",
    "target.prs.1.merge <- target.prs.1.merge[complete.cases(target.prs.1.merge), ]"
   ]
  },
  {
   "cell_type": "code",
   "execution_count": 125,
   "id": "24832eac",
   "metadata": {},
   "outputs": [
    {
     "data": {
      "text/html": [
       "3864"
      ],
      "text/latex": [
       "3864"
      ],
      "text/markdown": [
       "3864"
      ],
      "text/plain": [
       "[1] 3864"
      ]
     },
     "metadata": {},
     "output_type": "display_data"
    }
   ],
   "source": [
    "nrow(target.prs.1.merge)"
   ]
  },
  {
   "cell_type": "code",
   "execution_count": null,
   "id": "3f6abfa7",
   "metadata": {},
   "outputs": [],
   "source": []
  },
  {
   "cell_type": "code",
   "execution_count": null,
   "id": "3505616a",
   "metadata": {},
   "outputs": [],
   "source": []
  },
  {
   "cell_type": "code",
   "execution_count": null,
   "id": "2399b3f6",
   "metadata": {},
   "outputs": [],
   "source": []
  },
  {
   "cell_type": "code",
   "execution_count": 15,
   "id": "797e4939",
   "metadata": {},
   "outputs": [],
   "source": [
    "#need to standardize within external dataset first\n",
    "#obtain external dataset mean and sd\n",
    "ext_mean.1 <- mean(external_prs.1)\n",
    "ext_sd.1 <- sd(external_prs.1)\n",
    "ext_mean.2 <- mean(external_prs.2)\n",
    "ext_sd.2 <- sd(external_prs.2)\n",
    "ext_mean.3 <- mean(external_prs.3)\n",
    "ext_sd.3 <- sd(external_prs.3)\n",
    "ext_mean.4 <- mean(external_prs.4)\n",
    "ext_sd.4 <- sd(external_prs.4)"
   ]
  },
  {
   "cell_type": "code",
   "execution_count": 16,
   "id": "fc933bac",
   "metadata": {},
   "outputs": [],
   "source": [
    "#now standardize external\n",
    "external_prs.1 <- (external_prs.1 - ext_mean.1) / ext_sd.1\n",
    "external_prs.2 <- (external_prs.2 - ext_mean.2) / ext_sd.2\n",
    "external_prs.3 <- (external_prs.3 - ext_mean.3) / ext_sd.3\n",
    "external_prs.4 <- (external_prs.4 - ext_mean.4) / ext_sd.4"
   ]
  },
  {
   "cell_type": "code",
   "execution_count": 20,
   "id": "a02ea8ef",
   "metadata": {},
   "outputs": [
    {
     "data": {
      "text/html": [
       "0.0155319401919609"
      ],
      "text/latex": [
       "0.0155319401919609"
      ],
      "text/markdown": [
       "0.0155319401919609"
      ],
      "text/plain": [
       "[1] 0.01553194"
      ]
     },
     "metadata": {},
     "output_type": "display_data"
    }
   ],
   "source": [
    "#recalculate their mean and SD\n",
    "targ_mean.1 <- mean(target.prs.1$prs)\n",
    "targ_sd.1 <- sd(target.prs.1$prs)\n",
    "targ_mean.2 <- mean(target.prs.2$prs)\n",
    "targ_sd.2 <- sd(target.prs.2$prs)\n",
    "targ_mean.3 <- mean(target.prs.3$prs)\n",
    "targ_sd.3 <- sd(target.prs.3$prs)\n",
    "targ_mean.4 <- mean(target.prs.4$prs)\n",
    "targ_sd.4 <- sd(target.prs.4$prs)"
   ]
  },
  {
   "cell_type": "code",
   "execution_count": 22,
   "id": "9beae206",
   "metadata": {},
   "outputs": [],
   "source": [
    "external_prs.1 <- (external_prs.1 - targ_mean.1) / targ_sd.1\n",
    "external_prs.2 <- (external_prs.2 - targ_mean.2) / targ_sd.2\n",
    "external_prs.3 <- (external_prs.3 - targ_mean.3) / targ_sd.3\n",
    "external_prs.4 <- (external_prs.4 - targ_mean.4) / targ_sd.4"
   ]
  },
  {
   "cell_type": "code",
   "execution_count": 25,
   "id": "94ad2123",
   "metadata": {},
   "outputs": [],
   "source": [
    "ext_mean.1 <- mean(external_prs.1)\n",
    "ext_sd.1 <- sd(external_prs.1)\n",
    "ext_mean.2 <- mean(external_prs.2)\n",
    "ext_sd.2 <- sd(external_prs.2)\n",
    "ext_mean.3 <- mean(external_prs.3)\n",
    "ext_sd.3 <- sd(external_prs.3)\n",
    "ext_mean.4 <- mean(external_prs.4)\n",
    "ext_sd.4 <- sd(external_prs.4)"
   ]
  },
  {
   "cell_type": "code",
   "execution_count": 26,
   "id": "c4d15614",
   "metadata": {},
   "outputs": [
    {
     "data": {
      "text/html": [
       "0.30908300269855"
      ],
      "text/latex": [
       "0.30908300269855"
      ],
      "text/markdown": [
       "0.30908300269855"
      ],
      "text/plain": [
       "[1] 0.309083"
      ]
     },
     "metadata": {},
     "output_type": "display_data"
    }
   ],
   "source": [
    "ext_mean.4"
   ]
  },
  {
   "cell_type": "code",
   "execution_count": null,
   "id": "b1df4429",
   "metadata": {},
   "outputs": [],
   "source": []
  },
  {
   "cell_type": "code",
   "execution_count": 34,
   "id": "e9754c64",
   "metadata": {},
   "outputs": [],
   "source": [
    "#standardize target\n",
    "target.prs.1$std_prs <- (target.prs.1$prs - ext_mean.1) / ext_sd.1\n",
    "target.prs.2$std_prs <- (target.prs.2$prs - ext_mean.2) / ext_sd.2\n",
    "target.prs.3$std_prs <- (target.prs.3$prs - ext_mean.3) / ext_sd.3\n",
    "target.prs.4$std_prs <- (target.prs.4$prs - ext_mean.4) / ext_sd.4"
   ]
  },
  {
   "cell_type": "code",
   "execution_count": 77,
   "id": "b6a9daa1",
   "metadata": {},
   "outputs": [
    {
     "data": {
      "image/png": "[encoded data removed]",
      "text/plain": [
       "plot without title"
      ]
     },
     "metadata": {
      "image/png": {
       "height": 420,
       "width": 420
      }
     },
     "output_type": "display_data"
    }
   ],
   "source": [
    "prs_best$pheno <- as.factor(prs_best$pheno)\n",
    "\n",
    "ggplot(prs_best, aes(y = std_prs, group = pheno, fill = pheno)) +\n",
    "geom_boxplot() +  facet_wrap(~pheno)"
   ]
  },
  {
   "cell_type": "code",
   "execution_count": 126,
   "id": "3d6e46bf",
   "metadata": {},
   "outputs": [
    {
     "data": {
      "image/png": "[encoded data removed]",
      "text/plain": [
       "plot without title"
      ]
     },
     "metadata": {
      "image/png": {
       "height": 420,
       "width": 420
      }
     },
     "output_type": "display_data"
    }
   ],
   "source": [
    "target.prs.1.merge$pheno <- as.factor(target.prs.1.merge$pheno)\n",
    "\n",
    "ggplot(target.prs.1.merge, aes(y = std_prs, group = pheno, fill = pheno)) +\n",
    "geom_boxplot() +  facet_wrap(~pheno)"
   ]
  },
  {
   "cell_type": "code",
   "execution_count": 51,
   "id": "acce749c",
   "metadata": {},
   "outputs": [],
   "source": [
    "#calculate the logisitic regression models\n",
    "#log_best <- glm(pheno ~ std_prs, data = prs_best1, family = binomial(link = \"logit\"))\n",
    "log_model1 <- glm(pheno ~ best.pgs, data = target.prs.1)#, family = binomial(link = \"logit\"))\n",
    "#log_model2 <- glm(pheno ~ std_prs, data = target.prs.2, family = binomial(link = \"logit\"))\n",
    "#log_model3 <- glm(pheno ~ std_prs, data = target.prs.3, family = binomial(link = \"logit\"))\n",
    "#log_model4 <- glm(pheno ~ std_prs, data = target.prs.4, family = binomial(link = \"logit\"))"
   ]
  },
  {
   "cell_type": "code",
   "execution_count": 52,
   "id": "f9c08678",
   "metadata": {},
   "outputs": [
    {
     "data": {
      "text/html": [
       "0.192312155716942"
      ],
      "text/latex": [
       "0.192312155716942"
      ],
      "text/markdown": [
       "0.192312155716942"
      ],
      "text/plain": [
       "[1] 0.1923122"
      ]
     },
     "metadata": {},
     "output_type": "display_data"
    }
   ],
   "source": [
    "#in logisitic regression we must use a pseuod-rsqred value\n",
    "#this is McFadden's r-sqred\n",
    "#with(summary(log_best), 1 - deviance/null.deviance)\n",
    "with(summary(log_model1), 1 - deviance/null.deviance)\n",
    "#with(summary(log_model2), 1 - deviance/null.deviance)\n",
    "#with(summary(log_model3), 1 - deviance/null.deviance)\n",
    "#with(summary(log_model4), 1 - deviance/null.deviance)"
   ]
  },
  {
   "cell_type": "code",
   "execution_count": 25,
   "id": "0d3ae170",
   "metadata": {},
   "outputs": [
    {
     "data": {
      "text/html": [
       "<table class=\"dataframe\">\n",
       "<caption>A data.frame: 6 × 3</caption>\n",
       "<thead>\n",
       "\t<tr><th></th><th scope=col>prs</th><th scope=col>pheno</th><th scope=col>std_prs</th></tr>\n",
       "\t<tr><th></th><th scope=col>&lt;dbl&gt;</th><th scope=col>&lt;dbl&gt;</th><th scope=col>&lt;dbl&gt;</th></tr>\n",
       "</thead>\n",
       "<tbody>\n",
       "\t<tr><th scope=row>1</th><td> 0.002218194</td><td>0</td><td>-0.5252879</td></tr>\n",
       "\t<tr><th scope=row>2</th><td> 0.026598959</td><td>1</td><td> 0.3809489</td></tr>\n",
       "\t<tr><th scope=row>3</th><td> 0.046141772</td><td>1</td><td> 1.1073583</td></tr>\n",
       "\t<tr><th scope=row>4</th><td>-0.007926663</td><td>1</td><td>-0.9023739</td></tr>\n",
       "\t<tr><th scope=row>5</th><td> 0.006892979</td><td>0</td><td>-0.3515254</td></tr>\n",
       "\t<tr><th scope=row>6</th><td>-0.031057992</td><td>1</td><td>-1.7621690</td></tr>\n",
       "</tbody>\n",
       "</table>\n"
      ],
      "text/latex": [
       "A data.frame: 6 × 3\n",
       "\\begin{tabular}{r|lll}\n",
       "  & prs & pheno & std\\_prs\\\\\n",
       "  & <dbl> & <dbl> & <dbl>\\\\\n",
       "\\hline\n",
       "\t1 &  0.002218194 & 0 & -0.5252879\\\\\n",
       "\t2 &  0.026598959 & 1 &  0.3809489\\\\\n",
       "\t3 &  0.046141772 & 1 &  1.1073583\\\\\n",
       "\t4 & -0.007926663 & 1 & -0.9023739\\\\\n",
       "\t5 &  0.006892979 & 0 & -0.3515254\\\\\n",
       "\t6 & -0.031057992 & 1 & -1.7621690\\\\\n",
       "\\end{tabular}\n"
      ],
      "text/markdown": [
       "\n",
       "A data.frame: 6 × 3\n",
       "\n",
       "| <!--/--> | prs &lt;dbl&gt; | pheno &lt;dbl&gt; | std_prs &lt;dbl&gt; |\n",
       "|---|---|---|---|\n",
       "| 1 |  0.002218194 | 0 | -0.5252879 |\n",
       "| 2 |  0.026598959 | 1 |  0.3809489 |\n",
       "| 3 |  0.046141772 | 1 |  1.1073583 |\n",
       "| 4 | -0.007926663 | 1 | -0.9023739 |\n",
       "| 5 |  0.006892979 | 0 | -0.3515254 |\n",
       "| 6 | -0.031057992 | 1 | -1.7621690 |\n",
       "\n"
      ],
      "text/plain": [
       "  prs          pheno std_prs   \n",
       "1  0.002218194 0     -0.5252879\n",
       "2  0.026598959 1      0.3809489\n",
       "3  0.046141772 1      1.1073583\n",
       "4 -0.007926663 1     -0.9023739\n",
       "5  0.006892979 0     -0.3515254\n",
       "6 -0.031057992 1     -1.7621690"
      ]
     },
     "metadata": {},
     "output_type": "display_data"
    }
   ],
   "source": [
    "head(target.prs.1)"
   ]
  },
  {
   "cell_type": "code",
   "execution_count": 21,
   "id": "2dc75589",
   "metadata": {},
   "outputs": [
    {
     "data": {
      "text/html": [
       "0.00206057796484882"
      ],
      "text/latex": [
       "0.00206057796484882"
      ],
      "text/markdown": [
       "0.00206057796484882"
      ],
      "text/plain": [
       "[1] 0.002060578"
      ]
     },
     "metadata": {},
     "output_type": "display_data"
    }
   ],
   "source": [
    "log_best <- glm(pheno ~ std_prs, data = prs_best, family = binomial(link = \"logit\"))\n",
    "with(summary(log_best), 1 - deviance/null.deviance)"
   ]
  },
  {
   "cell_type": "code",
   "execution_count": 43,
   "id": "558630fa",
   "metadata": {},
   "outputs": [
    {
     "data": {
      "text/plain": [
       "\n",
       "Call:\n",
       "glm(formula = pheno ~ std_prs, family = binomial(link = \"logit\"), \n",
       "    data = target.prs.1)\n",
       "\n",
       "Deviance Residuals: \n",
       "    Min       1Q   Median       3Q      Max  \n",
       "-1.8793   0.6344   0.6727   0.6991   0.7443  \n",
       "\n",
       "Coefficients:\n",
       "            Estimate Std. Error z value Pr(>|z|)    \n",
       "(Intercept)  1.37875    0.04467  30.868   <2e-16 ***\n",
       "std_prs      0.08647    0.04006   2.159   0.0309 *  \n",
       "---\n",
       "Signif. codes:  0 ‘***’ 0.001 ‘**’ 0.01 ‘*’ 0.05 ‘.’ 0.1 ‘ ’ 1\n",
       "\n",
       "(Dispersion parameter for binomial family taken to be 1)\n",
       "\n",
       "    Null deviance: 3952.1  on 3863  degrees of freedom\n",
       "Residual deviance: 3947.4  on 3862  degrees of freedom\n",
       "AIC: 3951.4\n",
       "\n",
       "Number of Fisher Scoring iterations: 4\n"
      ]
     },
     "metadata": {},
     "output_type": "display_data"
    }
   ],
   "source": [
    "summary(log_model1)"
   ]
  },
  {
   "cell_type": "code",
   "execution_count": null,
   "id": "1962f67d",
   "metadata": {},
   "outputs": [],
   "source": []
  },
  {
   "cell_type": "code",
   "execution_count": 41,
   "id": "c330f0f7",
   "metadata": {},
   "outputs": [],
   "source": [
    "setwd(\"/lustre1/project/stg_00092/IBP_PRSproject/1_Intestinal_Bowel_Disease/data\")\n",
    "eig <- read.table(\"IBD_GSA_fin2.eigenvec\")"
   ]
  },
  {
   "cell_type": "code",
   "execution_count": 42,
   "id": "a575938f",
   "metadata": {},
   "outputs": [
    {
     "data": {
      "text/html": [
       "3859"
      ],
      "text/latex": [
       "3859"
      ],
      "text/markdown": [
       "3859"
      ],
      "text/plain": [
       "[1] 3859"
      ]
     },
     "metadata": {},
     "output_type": "display_data"
    }
   ],
   "source": [
    "nrow(eig)"
   ]
  },
  {
   "cell_type": "code",
   "execution_count": 44,
   "id": "cb9cdd21",
   "metadata": {},
   "outputs": [
    {
     "data": {
      "image/png": "[encoded data removed]",
      "text/plain": [
       "plot without title"
      ]
     },
     "metadata": {
      "image/png": {
       "height": 420,
       "width": 420
      }
     },
     "output_type": "display_data"
    }
   ],
   "source": [
    "#main PC against disease status \n",
    "colnames(eig) <- c(\"FID\", \"IID\", \"PC1\",\"PC2\",\"PC3\",\"PC4\",\"PC5\",\"PC6\")\n",
    "df2 <- merge(x=eig,y=target.fam, \n",
    "             by=\"IID\", all.x=TRUE)\n",
    "#head(df2)\n",
    "plot(df2$PC1, df2$pheno)#, xlim = c(0,0.01))#, xlim = c(-0.1,0.1), ylim = c(-0.1,0.1))"
   ]
  },
  {
   "cell_type": "code",
   "execution_count": 29,
   "id": "d6ba1235",
   "metadata": {},
   "outputs": [
    {
     "data": {
      "text/html": [
       "<table class=\"dataframe\">\n",
       "<caption>A data.frame: 6 × 13</caption>\n",
       "<thead>\n",
       "\t<tr><th></th><th scope=col>IID</th><th scope=col>FID.x</th><th scope=col>PC1</th><th scope=col>PC2</th><th scope=col>PC3</th><th scope=col>PC4</th><th scope=col>PC5</th><th scope=col>PC6</th><th scope=col>FID.y</th><th scope=col>father_ID</th><th scope=col>mother_ID</th><th scope=col>sex</th><th scope=col>pheno</th></tr>\n",
       "\t<tr><th></th><th scope=col>&lt;int&gt;</th><th scope=col>&lt;int&gt;</th><th scope=col>&lt;dbl&gt;</th><th scope=col>&lt;dbl&gt;</th><th scope=col>&lt;dbl&gt;</th><th scope=col>&lt;dbl&gt;</th><th scope=col>&lt;dbl&gt;</th><th scope=col>&lt;dbl&gt;</th><th scope=col>&lt;int&gt;</th><th scope=col>&lt;int&gt;</th><th scope=col>&lt;int&gt;</th><th scope=col>&lt;int&gt;</th><th scope=col>&lt;int&gt;</th></tr>\n",
       "</thead>\n",
       "<tbody>\n",
       "\t<tr><th scope=row>1</th><td>1</td><td>1</td><td>-0.001399920</td><td>-0.000642696</td><td> 7.67090e-05</td><td> 2.89442e-06</td><td>-0.000503030</td><td> 2.74591e-05</td><td>1</td><td>0</td><td>0</td><td>0</td><td>2</td></tr>\n",
       "\t<tr><th scope=row>2</th><td>2</td><td>2</td><td>-0.001381080</td><td>-0.000513670</td><td>-9.97031e-05</td><td>-7.24527e-05</td><td> 0.000315943</td><td>-1.04560e-03</td><td>2</td><td>0</td><td>0</td><td>0</td><td>2</td></tr>\n",
       "\t<tr><th scope=row>3</th><td>3</td><td>3</td><td>-0.001259730</td><td>-0.000294166</td><td> 6.86185e-05</td><td>-4.37865e-05</td><td>-0.000127320</td><td>-2.00997e-04</td><td>3</td><td>0</td><td>0</td><td>0</td><td>2</td></tr>\n",
       "\t<tr><th scope=row>4</th><td>5</td><td>5</td><td>-0.000776475</td><td>-0.001080980</td><td> 1.42510e-04</td><td>-1.52990e-04</td><td> 0.000371125</td><td>-7.05362e-04</td><td>5</td><td>0</td><td>0</td><td>0</td><td>2</td></tr>\n",
       "\t<tr><th scope=row>5</th><td>7</td><td>7</td><td>-0.001241960</td><td>-0.000377039</td><td> 3.25405e-04</td><td>-2.29435e-04</td><td> 0.000121253</td><td>-5.45645e-04</td><td>7</td><td>0</td><td>0</td><td>0</td><td>2</td></tr>\n",
       "\t<tr><th scope=row>6</th><td>8</td><td>8</td><td>-0.000804543</td><td>-0.000707440</td><td> 2.57467e-04</td><td>-2.31081e-04</td><td>-0.000036798</td><td>-5.29470e-04</td><td>8</td><td>0</td><td>0</td><td>0</td><td>2</td></tr>\n",
       "</tbody>\n",
       "</table>\n"
      ],
      "text/latex": [
       "A data.frame: 6 × 13\n",
       "\\begin{tabular}{r|lllllllllllll}\n",
       "  & IID & FID.x & PC1 & PC2 & PC3 & PC4 & PC5 & PC6 & FID.y & father\\_ID & mother\\_ID & sex & pheno\\\\\n",
       "  & <int> & <int> & <dbl> & <dbl> & <dbl> & <dbl> & <dbl> & <dbl> & <int> & <int> & <int> & <int> & <int>\\\\\n",
       "\\hline\n",
       "\t1 & 1 & 1 & -0.001399920 & -0.000642696 &  7.67090e-05 &  2.89442e-06 & -0.000503030 &  2.74591e-05 & 1 & 0 & 0 & 0 & 2\\\\\n",
       "\t2 & 2 & 2 & -0.001381080 & -0.000513670 & -9.97031e-05 & -7.24527e-05 &  0.000315943 & -1.04560e-03 & 2 & 0 & 0 & 0 & 2\\\\\n",
       "\t3 & 3 & 3 & -0.001259730 & -0.000294166 &  6.86185e-05 & -4.37865e-05 & -0.000127320 & -2.00997e-04 & 3 & 0 & 0 & 0 & 2\\\\\n",
       "\t4 & 5 & 5 & -0.000776475 & -0.001080980 &  1.42510e-04 & -1.52990e-04 &  0.000371125 & -7.05362e-04 & 5 & 0 & 0 & 0 & 2\\\\\n",
       "\t5 & 7 & 7 & -0.001241960 & -0.000377039 &  3.25405e-04 & -2.29435e-04 &  0.000121253 & -5.45645e-04 & 7 & 0 & 0 & 0 & 2\\\\\n",
       "\t6 & 8 & 8 & -0.000804543 & -0.000707440 &  2.57467e-04 & -2.31081e-04 & -0.000036798 & -5.29470e-04 & 8 & 0 & 0 & 0 & 2\\\\\n",
       "\\end{tabular}\n"
      ],
      "text/markdown": [
       "\n",
       "A data.frame: 6 × 13\n",
       "\n",
       "| <!--/--> | IID &lt;int&gt; | FID.x &lt;int&gt; | PC1 &lt;dbl&gt; | PC2 &lt;dbl&gt; | PC3 &lt;dbl&gt; | PC4 &lt;dbl&gt; | PC5 &lt;dbl&gt; | PC6 &lt;dbl&gt; | FID.y &lt;int&gt; | father_ID &lt;int&gt; | mother_ID &lt;int&gt; | sex &lt;int&gt; | pheno &lt;int&gt; |\n",
       "|---|---|---|---|---|---|---|---|---|---|---|---|---|---|\n",
       "| 1 | 1 | 1 | -0.001399920 | -0.000642696 |  7.67090e-05 |  2.89442e-06 | -0.000503030 |  2.74591e-05 | 1 | 0 | 0 | 0 | 2 |\n",
       "| 2 | 2 | 2 | -0.001381080 | -0.000513670 | -9.97031e-05 | -7.24527e-05 |  0.000315943 | -1.04560e-03 | 2 | 0 | 0 | 0 | 2 |\n",
       "| 3 | 3 | 3 | -0.001259730 | -0.000294166 |  6.86185e-05 | -4.37865e-05 | -0.000127320 | -2.00997e-04 | 3 | 0 | 0 | 0 | 2 |\n",
       "| 4 | 5 | 5 | -0.000776475 | -0.001080980 |  1.42510e-04 | -1.52990e-04 |  0.000371125 | -7.05362e-04 | 5 | 0 | 0 | 0 | 2 |\n",
       "| 5 | 7 | 7 | -0.001241960 | -0.000377039 |  3.25405e-04 | -2.29435e-04 |  0.000121253 | -5.45645e-04 | 7 | 0 | 0 | 0 | 2 |\n",
       "| 6 | 8 | 8 | -0.000804543 | -0.000707440 |  2.57467e-04 | -2.31081e-04 | -0.000036798 | -5.29470e-04 | 8 | 0 | 0 | 0 | 2 |\n",
       "\n"
      ],
      "text/plain": [
       "  IID FID.x PC1          PC2          PC3          PC4          PC5         \n",
       "1 1   1     -0.001399920 -0.000642696  7.67090e-05  2.89442e-06 -0.000503030\n",
       "2 2   2     -0.001381080 -0.000513670 -9.97031e-05 -7.24527e-05  0.000315943\n",
       "3 3   3     -0.001259730 -0.000294166  6.86185e-05 -4.37865e-05 -0.000127320\n",
       "4 5   5     -0.000776475 -0.001080980  1.42510e-04 -1.52990e-04  0.000371125\n",
       "5 7   7     -0.001241960 -0.000377039  3.25405e-04 -2.29435e-04  0.000121253\n",
       "6 8   8     -0.000804543 -0.000707440  2.57467e-04 -2.31081e-04 -0.000036798\n",
       "  PC6          FID.y father_ID mother_ID sex pheno\n",
       "1  2.74591e-05 1     0         0         0   2    \n",
       "2 -1.04560e-03 2     0         0         0   2    \n",
       "3 -2.00997e-04 3     0         0         0   2    \n",
       "4 -7.05362e-04 5     0         0         0   2    \n",
       "5 -5.45645e-04 7     0         0         0   2    \n",
       "6 -5.29470e-04 8     0         0         0   2    "
      ]
     },
     "metadata": {},
     "output_type": "display_data"
    }
   ],
   "source": [
    "head(df2)"
   ]
  },
  {
   "cell_type": "code",
   "execution_count": 50,
   "id": "7fbd6a06",
   "metadata": {},
   "outputs": [
    {
     "data": {
      "image/png": "[encoded data removed]",
      "text/plain": [
       "plot without title"
      ]
     },
     "metadata": {
      "image/png": {
       "height": 420,
       "width": 420
      }
     },
     "output_type": "display_data"
    }
   ],
   "source": [
    "#PC1 vs PC2 \n",
    "plot(df2$PC1, df2$PC2)#, xlim = c(0,0.1), ylim = c (-0.1,0.2))"
   ]
  },
  {
   "cell_type": "code",
   "execution_count": 51,
   "id": "7656d16e",
   "metadata": {},
   "outputs": [
    {
     "data": {
      "text/html": [
       "<style>\n",
       ".list-inline {list-style: none; margin:0; padding: 0}\n",
       ".list-inline>li {display: inline-block}\n",
       ".list-inline>li:not(:last-child)::after {content: \"\\00b7\"; padding: 0 .5ex}\n",
       "</style>\n",
       "<ol class=list-inline><li>9751</li><li>11049</li><li>13259</li><li>11357</li></ol>\n"
      ],
      "text/latex": [
       "\\begin{enumerate*}\n",
       "\\item 9751\n",
       "\\item 11049\n",
       "\\item 13259\n",
       "\\item 11357\n",
       "\\end{enumerate*}\n"
      ],
      "text/markdown": [
       "1. 9751\n",
       "2. 11049\n",
       "3. 13259\n",
       "4. 11357\n",
       "\n",
       "\n"
      ],
      "text/plain": [
       "[1]  9751 11049 13259 11357"
      ]
     },
     "metadata": {},
     "output_type": "display_data"
    },
    {
     "data": {
      "text/html": [
       "3859"
      ],
      "text/latex": [
       "3859"
      ],
      "text/markdown": [
       "3859"
      ],
      "text/plain": [
       "[1] 3859"
      ]
     },
     "metadata": {},
     "output_type": "display_data"
    },
    {
     "data": {
      "text/html": [
       "3855"
      ],
      "text/latex": [
       "3855"
      ],
      "text/markdown": [
       "3855"
      ],
      "text/plain": [
       "[1] 3855"
      ]
     },
     "metadata": {},
     "output_type": "display_data"
    }
   ],
   "source": [
    "outlrs <- c(filter(eig, PC1 > 0.1)[,2])\n",
    "outlrs\n",
    "nrow(eig)\n",
    "eig1 <- eig[!eig$FID %in% outlrs, ]\n",
    "nrow(eig1)"
   ]
  },
  {
   "cell_type": "code",
   "execution_count": 72,
   "id": "e8266ee5",
   "metadata": {},
   "outputs": [
    {
     "data": {
      "image/png": "[encoded data removed]",
      "text/plain": [
       "plot without title"
      ]
     },
     "metadata": {
      "image/png": {
       "height": 420,
       "width": 420
      }
     },
     "output_type": "display_data"
    }
   ],
   "source": [
    "#plot(eig1$PC1, eig1$pc1)#, xlim = c(0,0.15))\n",
    "plot(eig1$PC1,eig1$PC2)"
   ]
  },
  {
   "cell_type": "code",
   "execution_count": 32,
   "id": "6ee88361",
   "metadata": {},
   "outputs": [
    {
     "data": {
      "text/html": [
       "<table class=\"dataframe\">\n",
       "<caption>A data.frame: 4 × 8</caption>\n",
       "<thead>\n",
       "\t<tr><th scope=col>V1</th><th scope=col>V2</th><th scope=col>V3</th><th scope=col>V4</th><th scope=col>V5</th><th scope=col>V6</th><th scope=col>V7</th><th scope=col>V8</th></tr>\n",
       "\t<tr><th scope=col>&lt;int&gt;</th><th scope=col>&lt;int&gt;</th><th scope=col>&lt;dbl&gt;</th><th scope=col>&lt;dbl&gt;</th><th scope=col>&lt;dbl&gt;</th><th scope=col>&lt;dbl&gt;</th><th scope=col>&lt;dbl&gt;</th><th scope=col>&lt;dbl&gt;</th></tr>\n",
       "</thead>\n",
       "<tbody>\n",
       "\t<tr><td>10172</td><td>10172</td><td>0.508189</td><td> 0.663691</td><td>-0.320219</td><td> 0.408829</td><td>-0.1523980</td><td>-0.0675570</td></tr>\n",
       "\t<tr><td> 9718</td><td> 9718</td><td>0.304951</td><td> 0.179227</td><td> 0.148848</td><td>-0.271401</td><td> 0.8612010</td><td>-0.1814750</td></tr>\n",
       "\t<tr><td>12831</td><td>12831</td><td>0.328598</td><td> 0.197323</td><td> 0.270430</td><td>-0.727507</td><td>-0.4709890</td><td>-0.1551640</td></tr>\n",
       "\t<tr><td> 8914</td><td> 8914</td><td>0.694108</td><td>-0.691413</td><td>-0.104714</td><td> 0.140178</td><td>-0.0557011</td><td>-0.0592261</td></tr>\n",
       "</tbody>\n",
       "</table>\n"
      ],
      "text/latex": [
       "A data.frame: 4 × 8\n",
       "\\begin{tabular}{llllllll}\n",
       " V1 & V2 & V3 & V4 & V5 & V6 & V7 & V8\\\\\n",
       " <int> & <int> & <dbl> & <dbl> & <dbl> & <dbl> & <dbl> & <dbl>\\\\\n",
       "\\hline\n",
       "\t 10172 & 10172 & 0.508189 &  0.663691 & -0.320219 &  0.408829 & -0.1523980 & -0.0675570\\\\\n",
       "\t  9718 &  9718 & 0.304951 &  0.179227 &  0.148848 & -0.271401 &  0.8612010 & -0.1814750\\\\\n",
       "\t 12831 & 12831 & 0.328598 &  0.197323 &  0.270430 & -0.727507 & -0.4709890 & -0.1551640\\\\\n",
       "\t  8914 &  8914 & 0.694108 & -0.691413 & -0.104714 &  0.140178 & -0.0557011 & -0.0592261\\\\\n",
       "\\end{tabular}\n"
      ],
      "text/markdown": [
       "\n",
       "A data.frame: 4 × 8\n",
       "\n",
       "| V1 &lt;int&gt; | V2 &lt;int&gt; | V3 &lt;dbl&gt; | V4 &lt;dbl&gt; | V5 &lt;dbl&gt; | V6 &lt;dbl&gt; | V7 &lt;dbl&gt; | V8 &lt;dbl&gt; |\n",
       "|---|---|---|---|---|---|---|---|\n",
       "| 10172 | 10172 | 0.508189 |  0.663691 | -0.320219 |  0.408829 | -0.1523980 | -0.0675570 |\n",
       "|  9718 |  9718 | 0.304951 |  0.179227 |  0.148848 | -0.271401 |  0.8612010 | -0.1814750 |\n",
       "| 12831 | 12831 | 0.328598 |  0.197323 |  0.270430 | -0.727507 | -0.4709890 | -0.1551640 |\n",
       "|  8914 |  8914 | 0.694108 | -0.691413 | -0.104714 |  0.140178 | -0.0557011 | -0.0592261 |\n",
       "\n"
      ],
      "text/plain": [
       "  V1    V2    V3       V4        V5        V6        V7         V8        \n",
       "1 10172 10172 0.508189  0.663691 -0.320219  0.408829 -0.1523980 -0.0675570\n",
       "2  9718  9718 0.304951  0.179227  0.148848 -0.271401  0.8612010 -0.1814750\n",
       "3 12831 12831 0.328598  0.197323  0.270430 -0.727507 -0.4709890 -0.1551640\n",
       "4  8914  8914 0.694108 -0.691413 -0.104714  0.140178 -0.0557011 -0.0592261"
      ]
     },
     "metadata": {},
     "output_type": "display_data"
    }
   ],
   "source": [
    "(filter(eig, V3 > 0.222))"
   ]
  },
  {
   "cell_type": "code",
   "execution_count": 41,
   "id": "b8459a1b",
   "metadata": {},
   "outputs": [],
   "source": [
    "#this is from the tutorial \n",
    "setwd(\"/lustre1/project/stg_00092/IBP_PRSproject/1_Intestinal_Bowel_Disease/\")\n",
    "tut_eig <- read.table(\"EUR.eigenvec\")"
   ]
  },
  {
   "cell_type": "code",
   "execution_count": 42,
   "id": "2d57aa7e",
   "metadata": {},
   "outputs": [
    {
     "data": {
      "image/png": "[encoded data removed]",
      "text/plain": [
       "plot without title"
      ]
     },
     "metadata": {
      "image/png": {
       "height": 420,
       "width": 420
      }
     },
     "output_type": "display_data"
    }
   ],
   "source": [
    "plot(tut_eig$V3, tut_eig$V4)"
   ]
  },
  {
   "cell_type": "code",
   "execution_count": null,
   "id": "f8f0b5b4",
   "metadata": {},
   "outputs": [],
   "source": []
  },
  {
   "cell_type": "code",
   "execution_count": 59,
   "id": "7b5f8fd3",
   "metadata": {},
   "outputs": [
    {
     "data": {
      "text/html": [
       "<table class=\"dataframe\">\n",
       "<caption>A data.frame: 6 × 5</caption>\n",
       "<thead>\n",
       "\t<tr><th></th><th scope=col>FID</th><th scope=col>IID</th><th scope=col>pheno</th><th scope=col>order</th><th scope=col>best.pgs</th></tr>\n",
       "\t<tr><th></th><th scope=col>&lt;int&gt;</th><th scope=col>&lt;int&gt;</th><th scope=col>&lt;int&gt;</th><th scope=col>&lt;int&gt;</th><th scope=col>&lt;dbl&gt;</th></tr>\n",
       "</thead>\n",
       "<tbody>\n",
       "\t<tr><th scope=row>1</th><td>9263</td><td>9263</td><td>1</td><td>1</td><td>-0.011708551</td></tr>\n",
       "\t<tr><th scope=row>2</th><td>9535</td><td>9535</td><td>2</td><td>2</td><td> 0.012681093</td></tr>\n",
       "\t<tr><th scope=row>3</th><td>5924</td><td>5924</td><td>2</td><td>3</td><td> 0.032238759</td></tr>\n",
       "\t<tr><th scope=row>4</th><td>2762</td><td>2762</td><td>2</td><td>4</td><td>-0.021857755</td></tr>\n",
       "\t<tr><th scope=row>5</th><td>9323</td><td>9323</td><td>1</td><td>5</td><td>-0.007023028</td></tr>\n",
       "\t<tr><th scope=row>6</th><td>7670</td><td>7670</td><td>2</td><td>6</td><td>-0.044992200</td></tr>\n",
       "</tbody>\n",
       "</table>\n"
      ],
      "text/latex": [
       "A data.frame: 6 × 5\n",
       "\\begin{tabular}{r|lllll}\n",
       "  & FID & IID & pheno & order & best.pgs\\\\\n",
       "  & <int> & <int> & <int> & <int> & <dbl>\\\\\n",
       "\\hline\n",
       "\t1 & 9263 & 9263 & 1 & 1 & -0.011708551\\\\\n",
       "\t2 & 9535 & 9535 & 2 & 2 &  0.012681093\\\\\n",
       "\t3 & 5924 & 5924 & 2 & 3 &  0.032238759\\\\\n",
       "\t4 & 2762 & 2762 & 2 & 4 & -0.021857755\\\\\n",
       "\t5 & 9323 & 9323 & 1 & 5 & -0.007023028\\\\\n",
       "\t6 & 7670 & 7670 & 2 & 6 & -0.044992200\\\\\n",
       "\\end{tabular}\n"
      ],
      "text/markdown": [
       "\n",
       "A data.frame: 6 × 5\n",
       "\n",
       "| <!--/--> | FID &lt;int&gt; | IID &lt;int&gt; | pheno &lt;int&gt; | order &lt;int&gt; | best.pgs &lt;dbl&gt; |\n",
       "|---|---|---|---|---|---|\n",
       "| 1 | 9263 | 9263 | 1 | 1 | -0.011708551 |\n",
       "| 2 | 9535 | 9535 | 2 | 2 |  0.012681093 |\n",
       "| 3 | 5924 | 5924 | 2 | 3 |  0.032238759 |\n",
       "| 4 | 2762 | 2762 | 2 | 4 | -0.021857755 |\n",
       "| 5 | 9323 | 9323 | 1 | 5 | -0.007023028 |\n",
       "| 6 | 7670 | 7670 | 2 | 6 | -0.044992200 |\n",
       "\n"
      ],
      "text/plain": [
       "  FID  IID  pheno order best.pgs    \n",
       "1 9263 9263 1     1     -0.011708551\n",
       "2 9535 9535 2     2      0.012681093\n",
       "3 5924 5924 2     3      0.032238759\n",
       "4 2762 2762 2     4     -0.021857755\n",
       "5 9323 9323 1     5     -0.007023028\n",
       "6 7670 7670 2     6     -0.044992200"
      ]
     },
     "metadata": {},
     "output_type": "display_data"
    }
   ],
   "source": [
    "head(prs_best)"
   ]
  },
  {
   "cell_type": "code",
   "execution_count": 60,
   "id": "4b73c145",
   "metadata": {},
   "outputs": [
    {
     "data": {
      "text/plain": [
       "\n",
       "Call:  glm(formula = pheno ~ best.pgs, data = prs_best)\n",
       "\n",
       "Coefficients:\n",
       "(Intercept)     best.pgs  \n",
       "     1.7919       0.4768  \n",
       "\n",
       "Degrees of Freedom: 3863 Total (i.e. Null);  3862 Residual\n",
       "  (246 observations deleted due to missingness)\n",
       "Null Deviance:\t    636.7 \n",
       "Residual Deviance: 635.9 \tAIC: 4000"
      ]
     },
     "metadata": {},
     "output_type": "display_data"
    }
   ],
   "source": [
    "glm(pheno ~ best.pgs, data = prs_best)"
   ]
  },
  {
   "cell_type": "code",
   "execution_count": 71,
   "id": "1f163a47",
   "metadata": {},
   "outputs": [],
   "source": [
    "prs_best$pheno <- prs_best$pheno-1\n",
    "prs_best$std_prs <- (prs_best$best.pgs - mean(prs_best$best.pgs)) / sd(prs_best$best.pgs)\n"
   ]
  },
  {
   "cell_type": "code",
   "execution_count": 72,
   "id": "efbdc736",
   "metadata": {},
   "outputs": [
    {
     "data": {
      "text/html": [
       "<table class=\"dataframe\">\n",
       "<caption>A data.frame: 6 × 6</caption>\n",
       "<thead>\n",
       "\t<tr><th></th><th scope=col>FID</th><th scope=col>IID</th><th scope=col>pheno</th><th scope=col>order</th><th scope=col>best.pgs</th><th scope=col>std_prs</th></tr>\n",
       "\t<tr><th></th><th scope=col>&lt;int&gt;</th><th scope=col>&lt;int&gt;</th><th scope=col>&lt;dbl&gt;</th><th scope=col>&lt;int&gt;</th><th scope=col>&lt;dbl&gt;</th><th scope=col>&lt;dbl&gt;</th></tr>\n",
       "</thead>\n",
       "<tbody>\n",
       "\t<tr><th scope=row>1</th><td>9263</td><td>9263</td><td>0</td><td>1</td><td>-0.011708551</td><td>-0.3973776</td></tr>\n",
       "\t<tr><th scope=row>2</th><td>9535</td><td>9535</td><td>1</td><td>2</td><td> 0.012681093</td><td> 0.4303848</td></tr>\n",
       "\t<tr><th scope=row>3</th><td>5924</td><td>5924</td><td>1</td><td>3</td><td> 0.032238759</td><td> 1.0941543</td></tr>\n",
       "\t<tr><th scope=row>4</th><td>2762</td><td>2762</td><td>1</td><td>4</td><td>-0.021857755</td><td>-0.7418324</td></tr>\n",
       "\t<tr><th scope=row>5</th><td>9323</td><td>9323</td><td>0</td><td>5</td><td>-0.007023028</td><td>-0.2383552</td></tr>\n",
       "\t<tr><th scope=row>6</th><td>7670</td><td>7670</td><td>1</td><td>6</td><td>-0.044992200</td><td>-1.5269945</td></tr>\n",
       "</tbody>\n",
       "</table>\n"
      ],
      "text/latex": [
       "A data.frame: 6 × 6\n",
       "\\begin{tabular}{r|llllll}\n",
       "  & FID & IID & pheno & order & best.pgs & std\\_prs\\\\\n",
       "  & <int> & <int> & <dbl> & <int> & <dbl> & <dbl>\\\\\n",
       "\\hline\n",
       "\t1 & 9263 & 9263 & 0 & 1 & -0.011708551 & -0.3973776\\\\\n",
       "\t2 & 9535 & 9535 & 1 & 2 &  0.012681093 &  0.4303848\\\\\n",
       "\t3 & 5924 & 5924 & 1 & 3 &  0.032238759 &  1.0941543\\\\\n",
       "\t4 & 2762 & 2762 & 1 & 4 & -0.021857755 & -0.7418324\\\\\n",
       "\t5 & 9323 & 9323 & 0 & 5 & -0.007023028 & -0.2383552\\\\\n",
       "\t6 & 7670 & 7670 & 1 & 6 & -0.044992200 & -1.5269945\\\\\n",
       "\\end{tabular}\n"
      ],
      "text/markdown": [
       "\n",
       "A data.frame: 6 × 6\n",
       "\n",
       "| <!--/--> | FID &lt;int&gt; | IID &lt;int&gt; | pheno &lt;dbl&gt; | order &lt;int&gt; | best.pgs &lt;dbl&gt; | std_prs &lt;dbl&gt; |\n",
       "|---|---|---|---|---|---|---|\n",
       "| 1 | 9263 | 9263 | 0 | 1 | -0.011708551 | -0.3973776 |\n",
       "| 2 | 9535 | 9535 | 1 | 2 |  0.012681093 |  0.4303848 |\n",
       "| 3 | 5924 | 5924 | 1 | 3 |  0.032238759 |  1.0941543 |\n",
       "| 4 | 2762 | 2762 | 1 | 4 | -0.021857755 | -0.7418324 |\n",
       "| 5 | 9323 | 9323 | 0 | 5 | -0.007023028 | -0.2383552 |\n",
       "| 6 | 7670 | 7670 | 1 | 6 | -0.044992200 | -1.5269945 |\n",
       "\n"
      ],
      "text/plain": [
       "  FID  IID  pheno order best.pgs     std_prs   \n",
       "1 9263 9263 0     1     -0.011708551 -0.3973776\n",
       "2 9535 9535 1     2      0.012681093  0.4303848\n",
       "3 5924 5924 1     3      0.032238759  1.0941543\n",
       "4 2762 2762 1     4     -0.021857755 -0.7418324\n",
       "5 9323 9323 0     5     -0.007023028 -0.2383552\n",
       "6 7670 7670 1     6     -0.044992200 -1.5269945"
      ]
     },
     "metadata": {},
     "output_type": "display_data"
    }
   ],
   "source": [
    "head(prs_best)"
   ]
  },
  {
   "cell_type": "code",
   "execution_count": 73,
   "id": "a0d98246",
   "metadata": {},
   "outputs": [
    {
     "data": {
      "text/plain": [
       "\n",
       "Call:  glm(formula = pheno ~ best.pgs, family = binomial(link = \"logit\"), \n",
       "    data = prs_best)\n",
       "\n",
       "Coefficients:\n",
       "(Intercept)     best.pgs  \n",
       "      1.339        2.952  \n",
       "\n",
       "Degrees of Freedom: 3863 Total (i.e. Null);  3862 Residual\n",
       "Null Deviance:\t    3952 \n",
       "Residual Deviance: 3947 \tAIC: 3951"
      ]
     },
     "metadata": {},
     "output_type": "display_data"
    }
   ],
   "source": [
    "glm(pheno ~ best.pgs, data = prs_best, family = binomial(link = \"logit\"))"
   ]
  },
  {
   "cell_type": "code",
   "execution_count": null,
   "id": "2266e1db",
   "metadata": {},
   "outputs": [],
   "source": []
  }
 ],
 "metadata": {
  "kernelspec": {
   "display_name": "r-env",
   "language": "R",
   "name": "r"
  },
  "language_info": {
   "codemirror_mode": "r",
   "file_extension": ".r",
   "mimetype": "text/x-r-source",
   "name": "R",
   "pygments_lexer": "r",
   "version": "4.2.1"
  }
 },
 "nbformat": 4,
 "nbformat_minor": 5
}
