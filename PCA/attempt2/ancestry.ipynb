{
 "cells": [
  {
   "cell_type": "code",
   "execution_count": 44,
   "id": "dec76f9c",
   "metadata": {},
   "outputs": [
    {
     "name": "stdout",
     "output_type": "stream",
     "text": [
      "PLINK v1.90b6.21 64-bit (19 Oct 2020)          www.cog-genomics.org/plink/1.9/\n",
      "(C) 2005-2020 Shaun Purcell, Christopher Chang   GNU General Public License v3\n",
      "Logging to 1kG_5.log.\n",
      "Options in effect:\n",
      "  --allow-no-sex\n",
      "  --bfile ../1kG_4\n",
      "  --maf 0.05\n",
      "  --make-bed\n",
      "  --out 1kG_5\n",
      "\n",
      "193099 MB RAM detected; reserving 96549 MB for main workspace.\n",
      "8240745 variants loaded from .bim file.\n",
      "629 people (0 males, 0 females, 629 ambiguous) loaded from .fam.\n",
      "Ambiguous sex IDs written to 1kG_5.nosex .\n",
      "Using 1 thread (no multithreaded calculations invoked).\n",
      "Before main variant filters, 629 founders and 0 nonfounders present.\n",
      "Calculating allele frequencies... 10111213141516171819202122232425262728293031323334353637383940414243444546474849505152535455565758596061626364656667686970717273747576777879808182838485868788899091929394959697989 done.\n",
      "Total genotyping rate is 0.999477.\n",
      "2432435 variants removed due to minor allele threshold(s)\n",
      "(--maf/--max-maf/--mac/--max-mac).\n",
      "5808310 variants and 629 people pass filters and QC.\n",
      "Note: No phenotypes present.\n",
      "--make-bed to 1kG_5.bed + 1kG_5.bim + 1kG_5.fam ... 101112131415161718192021222324252627282930313233343536373839404142434445464748495051525354555657585960616263646566676869707172737475767778798081828384858687888990919293949596979899done.\n"
     ]
    }
   ],
   "source": [
    "plink --bfile ../1kG_4 --maf 0.05 --allow-no-sex --make-bed --out 1kG_5"
   ]
  },
  {
   "cell_type": "code",
   "execution_count": 2,
   "id": "94b4f7fe",
   "metadata": {},
   "outputs": [],
   "source": [
    "cat 1kG_5.bim | \\\n",
    "awk '!(($5==\"A\" && $6==\"T\") || \\\n",
    "     ($5==\"T\" && $6==\"A\") || \\\n",
    "     ($5==\"G\" && $6==\"C\") || \\\n",
    "     ($5==\"C\" && $6==\"G\")) {print $2}' > non_ambiguous_snps.txt "
   ]
  },
  {
   "cell_type": "code",
   "execution_count": 3,
   "id": "4a59c42f",
   "metadata": {},
   "outputs": [
    {
     "name": "stdout",
     "output_type": "stream",
     "text": [
      "rs58108140\n",
      "1:11508[b37]A,G\n",
      "1:15820[b37]G,T\n",
      "1:16378[b37]C,T\n",
      "1:30923[b37]G,T\n",
      "1:40261[b37]A,C\n",
      "1:49298[b37]C,T\n",
      "rs62637812\n",
      "1:52238[b37]G,T\n",
      "1:54421[b37]A,G\n"
     ]
    }
   ],
   "source": [
    "head non_ambiguous_snps.txt"
   ]
  },
  {
   "cell_type": "code",
   "execution_count": null,
   "id": "c2fe0f9a",
   "metadata": {},
   "outputs": [],
   "source": []
  },
  {
   "cell_type": "code",
   "execution_count": 4,
   "id": "d5801ac9",
   "metadata": {},
   "outputs": [
    {
     "name": "stdout",
     "output_type": "stream",
     "text": [
      "PLINK v1.90b6.21 64-bit (19 Oct 2020)          www.cog-genomics.org/plink/1.9/\n",
      "(C) 2005-2020 Shaun Purcell, Christopher Chang   GNU General Public License v3\n",
      "Logging to 1kG_6.log.\n",
      "Options in effect:\n",
      "  --allow-no-sex\n",
      "  --bfile 1kG_5\n",
      "  --extract non_ambiguous_snps.txt\n",
      "  --make-bed\n",
      "  --out 1kG_6\n",
      "\n",
      "193099 MB RAM detected; reserving 96549 MB for main workspace.\n",
      "5808310 variants loaded from .bim file.\n",
      "629 people (0 males, 0 females, 629 ambiguous) loaded from .fam.\n",
      "Ambiguous sex IDs written to 1kG_6.nosex .\n",
      "--extract: 4938714 variants remaining.\n",
      "Using 1 thread (no multithreaded calculations invoked).\n",
      "Before main variant filters, 629 founders and 0 nonfounders present.\n",
      "Calculating allele frequencies... 10111213141516171819202122232425262728293031323334353637383940414243444546474849505152535455565758596061626364656667686970717273747576777879808182838485868788899091929394959697989 done.\n",
      "Total genotyping rate is 0.999561.\n",
      "4938714 variants and 629 people pass filters and QC.\n",
      "Note: No phenotypes present.\n",
      "--make-bed to 1kG_6.bed + 1kG_6.bim + 1kG_6.fam ... 101112131415161718192021222324252627282930313233343536373839404142434445464748495051525354555657585960616263646566676869707172737475767778798081828384858687888990919293949596979899done.\n"
     ]
    }
   ],
   "source": [
    "plink --bfile 1kG_5 --extract non_ambiguous_snps.txt --allow-no-sex --make-bed --out 1kG_6"
   ]
  },
  {
   "cell_type": "code",
   "execution_count": 6,
   "id": "37c45e0f",
   "metadata": {},
   "outputs": [
    {
     "name": "stdout",
     "output_type": "stream",
     "text": [
      "0\n"
     ]
    }
   ],
   "source": [
    "awk 'length($5)>1 || length($6)>1 {print $2}' 1kG_6.bim | wc -l"
   ]
  },
  {
   "cell_type": "code",
   "execution_count": 49,
   "id": "31bfc190",
   "metadata": {},
   "outputs": [
    {
     "name": "stdout",
     "output_type": "stream",
     "text": [
      "PLINK v1.90b6.21 64-bit (19 Oct 2020)          www.cog-genomics.org/plink/1.9/\n",
      "(C) 2005-2020 Shaun Purcell, Christopher Chang   GNU General Public License v3\n",
      "Logging to 1kG_6.log.\n",
      "Options in effect:\n",
      "  --allow-no-sex\n",
      "  --bfile 1kG_6\n",
      "  --out 1kG_6\n",
      "  --recode\n",
      "\n",
      "193099 MB RAM detected; reserving 96549 MB for main workspace.\n",
      "4938714 variants loaded from .bim file.\n",
      "629 people (0 males, 0 females, 629 ambiguous) loaded from .fam.\n",
      "Ambiguous sex IDs written to 1kG_6.nosex .\n",
      "Using 1 thread (no multithreaded calculations invoked).\n",
      "Before main variant filters, 629 founders and 0 nonfounders present.\n",
      "Calculating allele frequencies... 10111213141516171819202122232425262728293031323334353637383940414243444546474849505152535455565758596061626364656667686970717273747576777879808182838485868788899091929394959697989 done.\n",
      "Total genotyping rate is 0.999561.\n",
      "4938714 variants and 629 people pass filters and QC.\n",
      "Note: No phenotypes present.\n",
      "--recode ped to 1kG_6.ped + 1kG_6.map ... 101112131415161718192021222324252627282930313233343536373839404142434445464748495051525354555657585960616263646566676869707172737475767778798081828384858687888990919293949596979899done.\n"
     ]
    }
   ],
   "source": [
    "plink --bfile 1kG_6 --recode --allow-no-sex --out 1kG_6"
   ]
  },
  {
   "cell_type": "code",
   "execution_count": 7,
   "id": "991e2bfb",
   "metadata": {},
   "outputs": [
    {
     "name": "stdout",
     "output_type": "stream",
     "text": [
      "chr1 \t 10583 \t 10584 \trs58108140 \t 1\n",
      "chr1 \t 11508 \t 11509 \t1:11508[b37]A,G \t 1\n",
      "chr1 \t 15820 \t 15821 \t1:15820[b37]G,T \t 1\n",
      "chr1 \t 16378 \t 16379 \t1:16378[b37]C,T \t 1\n",
      "chr1 \t 30923 \t 30924 \t1:30923[b37]G,T \t 1\n",
      "chr1 \t 40261 \t 40262 \t1:40261[b37]A,C \t 1\n",
      "chr1 \t 49298 \t 49299 \t1:49298[b37]C,T \t 1\n",
      "chr1 \t 51803 \t 51804 \trs62637812 \t 1\n",
      "chr1 \t 52238 \t 52239 \t1:52238[b37]G,T \t 1\n",
      "chr1 \t 54421 \t 54422 \t1:54421[b37]A,G \t 1\n"
     ]
    }
   ],
   "source": [
    "#life over!\n",
    "awk '{print \"chr\"$1,\"\\t\",$4,\"\\t\",$4+1,\"\\t\"$2,\"\\t\",$1}' 1kG_6.bim > 1kG_liftOver.bed\n",
    "head 1kG_liftOver.bed"
   ]
  },
  {
   "cell_type": "code",
   "execution_count": 8,
   "id": "cb959dc2",
   "metadata": {
    "scrolled": true
   },
   "outputs": [
    {
     "name": "stdout",
     "output_type": "stream",
     "text": [
      "--2022-11-18 10:12:23--  https://hgdownload.soe.ucsc.edu/goldenPath/hg18/liftOver/hg18ToHg38.over.chain.gz\n",
      "Resolving hgdownload.soe.ucsc.edu (hgdownload.soe.ucsc.edu)... 128.114.119.163\n",
      "Connecting to hgdownload.soe.ucsc.edu (hgdownload.soe.ucsc.edu)|128.114.119.163|:443... connected.\n",
      "HTTP request sent, awaiting response... 200 OK\n",
      "Length: 343575 (336K) [application/x-gzip]\n",
      "Saving to: ‘hg18ToHg38.over.chain.gz’\n",
      "\n",
      "100%[======================================>] 343,575      530KB/s   in 0.6s   \n",
      "\n",
      "2022-11-18 10:12:24 (530 KB/s) - ‘hg18ToHg38.over.chain.gz’ saved [343575/343575]\n",
      "\n"
     ]
    }
   ],
   "source": [
    "#maybe do with hg18??\n",
    "wget https://hgdownload.soe.ucsc.edu/goldenPath/hg18/liftOver/hg18ToHg38.over.chain.gz"
   ]
  },
  {
   "cell_type": "code",
   "execution_count": 45,
   "id": "77eb356a",
   "metadata": {},
   "outputs": [
    {
     "name": "stdout",
     "output_type": "stream",
     "text": [
      "Reading liftover chains\n",
      "Mapping coordinates\n"
     ]
    }
   ],
   "source": [
    "liftOver 1kG_liftOver.bed hg19ToHg38.over.chain.gz 1kG_lifted.bed 1kG_unlifted.bed"
   ]
  },
  {
   "cell_type": "code",
   "execution_count": 57,
   "id": "f6b41249",
   "metadata": {},
   "outputs": [
    {
     "name": "stdout",
     "output_type": "stream",
     "text": [
      "3066 1kG_unlifted.bed\n"
     ]
    }
   ],
   "source": [
    "wc -l 1kG_unlifted.bed"
   ]
  },
  {
   "cell_type": "code",
   "execution_count": 62,
   "id": "a5cde774",
   "metadata": {},
   "outputs": [
    {
     "name": "stdout",
     "output_type": "stream",
     "text": [
      "3066 unlifted.txt\n"
     ]
    }
   ],
   "source": [
    "cat 1kG_unlifted.bed > unlifted.txt\n",
    "wc -l unlifted.txt"
   ]
  },
  {
   "cell_type": "code",
   "execution_count": 50,
   "id": "3d88c15f",
   "metadata": {},
   "outputs": [
    {
     "name": "stdout",
     "output_type": "stream",
     "text": [
      "chr1\t10583\t10584\trs58108140\t1\n",
      "chr1\t11508\t11509\t1:11508[b37]A,G\t1\n",
      "chr1\t15820\t15821\t1:15820[b37]G,T\t1\n",
      "chr1\t16378\t16379\t1:16378[b37]C,T\t1\n",
      "chr1\t30923\t30924\t1:30923[b37]G,T\t1\n",
      "chr1\t40261\t40262\t1:40261[b37]A,C\t1\n",
      "chr1\t49298\t49299\t1:49298[b37]C,T\t1\n",
      "chr1\t51803\t51804\trs62637812\t1\n",
      "chr1\t52238\t52239\t1:52238[b37]G,T\t1\n",
      "chr1\t54421\t54422\t1:54421[b37]A,G\t1\n",
      "1\trs58108140\t0\t10583\n",
      "1\t1:11508[b37]A,G\t0\t11508\n",
      "1\t1:15820[b37]G,T\t0\t15820\n",
      "1\t1:16378[b37]C,T\t0\t16378\n",
      "1\t1:30923[b37]G,T\t0\t30923\n",
      "1\t1:40261[b37]A,C\t0\t40261\n",
      "1\t1:49298[b37]C,T\t0\t49298\n",
      "1\trs62637812\t0\t51803\n",
      "1\t1:52238[b37]G,T\t0\t52238\n",
      "1\t1:54421[b37]A,G\t0\t54421\n"
     ]
    }
   ],
   "source": [
    "head 1kG_lifted.bed\n",
    "head 1kG_6.map"
   ]
  },
  {
   "cell_type": "code",
   "execution_count": 51,
   "id": "3302e29d",
   "metadata": {},
   "outputs": [],
   "source": [
    "awk '{print $5,$4,0,$2}' 1kG_lifted.bed > updated.map"
   ]
  },
  {
   "cell_type": "code",
   "execution_count": 67,
   "id": "585fb69b",
   "metadata": {},
   "outputs": [
    {
     "name": "stdout",
     "output_type": "stream",
     "text": [
      "PLINK v1.90b6.21 64-bit (19 Oct 2020)          www.cog-genomics.org/plink/1.9/\n",
      "(C) 2005-2020 Shaun Purcell, Christopher Chang   GNU General Public License v3\n",
      "Logging to updated_lift.log.\n",
      "Options in effect:\n",
      "  --exclude 1kG_unlifted.bed\n",
      "  --file 1kG_6\n",
      "  --out updated_lift\n",
      "  --recode\n",
      "\n",
      "193099 MB RAM detected; reserving 96549 MB for main workspace.\n",
      ".ped scan complete (for binary autoconversion).112121212121213131313131313141414141414151515151515161616161616171717171717171818181818181919191919192020202020202021212121212122222222222223232323232324242424242424252525252525262626262626272727272727272828282828282929292929293030303030303131313131313132323232323233333333333334343434343434353535353535363636363636373737373737373838383838383939393939394040404040404141414141414142424242424243434343434344444444444444454545454545464646464646474747474747484848484848484949494949495050505050505151515151515152525252525253535353535354545454545455555555555555565656565656575757575757585858585858585959595959596060606060606161616161616262626262626263636363636364646464646465656565656565666666666666676767676767686868686868686969696969697070707070707171717171717272727272727273737373737374747474747475757575757575767676767676777777777777787878787878797979797979798080808080808181818181818282828282828283838383838384848484848485858585858586868686868686878787878787888888888888898989898989899090909090909191919191919292929292929393939393939394949494949495959595959596969696969696979797979797989898989898999999999999100%\n",
      "Performing single-pass .bed write (4938714 variants, 629 people).\n",
      "--file: updated_lift-temporary.bed + updated_lift-temporary.bim +243444546474849505152535455565758596061626364656667686970717273747576777879808182838485868788899091929394%\n",
      "updated_lift-temporary.fam written.\n",
      "4938714 variants loaded from .bim file.\n",
      "629 people (0 males, 0 females, 629 ambiguous) loaded from .fam.\n",
      "Ambiguous sex IDs written to updated_lift.nosex .\n",
      "--exclude: 4937181 variants remaining.\n",
      "Using 1 thread (no multithreaded calculations invoked).\n",
      "Before main variant filters, 629 founders and 0 nonfounders present.\n",
      "Calculating allele frequencies... 10111213141516171819202122232425262728293031323334353637383940414243444546474849505152535455565758596061626364656667686970717273747576777879808182838485868788899091929394959697989 done.\n",
      "Total genotyping rate is 0.999561.\n",
      "4937181 variants and 629 people pass filters and QC.\n",
      "Note: No phenotypes present.\n",
      "--recode ped to updated_lift.ped + updated_lift.map ... 101112131415161718192021222324252627282930313233343536373839404142434445464748495051525354555657585960616263646566676869707172737475767778798081828384858687888990919293949596979899done.\n"
     ]
    }
   ],
   "source": [
    "plink --file 1kG_6 --exclude 1kG_unlifted.bed --recode --out updated_lift"
   ]
  },
  {
   "cell_type": "code",
   "execution_count": null,
   "id": "a1f754fd",
   "metadata": {},
   "outputs": [],
   "source": []
  },
  {
   "cell_type": "code",
   "execution_count": 68,
   "id": "2cfa4cbe",
   "metadata": {
    "scrolled": true
   },
   "outputs": [
    {
     "name": "stdout",
     "output_type": "stream",
     "text": [
      "PLINK v1.90b6.21 64-bit (19 Oct 2020)          www.cog-genomics.org/plink/1.9/\n",
      "(C) 2005-2020 Shaun Purcell, Christopher Chang   GNU General Public License v3\n",
      "Logging to 1kG_7.log.\n",
      "Options in effect:\n",
      "  --allow-no-sex\n",
      "  --make-bed\n",
      "  --map updated.map\n",
      "  --out 1kG_7\n",
      "  --ped updated_lift.ped\n",
      "\n",
      "193099 MB RAM detected; reserving 96549 MB for main workspace.\n",
      ".ped scan complete (for binary autoconversion).112121212121213131313131313141414141414151515151515161616161616171717171717171818181818181919191919192020202020202021212121212122222222222223232323232324242424242424252525252525262626262626272727272727272828282828282929292929293030303030303131313131313132323232323233333333333334343434343434353535353535363636363636373737373737373838383838383939393939394040404040404141414141414142424242424243434343434344444444444444454545454545464646464646474747474747484848484848484949494949495050505050505151515151515152525252525253535353535354545454545455555555555555565656565656575757575757585858585858585959595959596060606060606161616161616262626262626263636363636364646464646465656565656565666666666666676767676767686868686868686969696969697070707070707171717171717272727272727273737373737374747474747475757575757575767676767676777777777777787878787878797979797979798080808080808181818181818282828282828283838383838384848484848485858585858586868686868686878787878787888888888888898989898989899090909090909191919191919292929292929393939393939394949494949495959595959596969696969696979797979797989898989898999999999999100%\n",
      "Performing single-pass .bed write (4937181 variants, 629 people).\n",
      "--file: 1kG_7-temporary.bed + 1kG_7-temporary.bim + 1kG_7-temporary.fam546474849505152535455565758596061626364656667686970717273747576777879808182838485868788899091929394%\n",
      "written.\n",
      "4937181 variants loaded from .bim file.\n",
      "629 people (0 males, 0 females, 629 ambiguous) loaded from .fam.\n",
      "Ambiguous sex IDs written to 1kG_7.nosex .\n",
      "Using 1 thread (no multithreaded calculations invoked).\n",
      "Before main variant filters, 629 founders and 0 nonfounders present.\n",
      "Calculating allele frequencies... 10111213141516171819202122232425262728293031323334353637383940414243444546474849505152535455565758596061626364656667686970717273747576777879808182838485868788899091929394959697989 done.\n",
      "Total genotyping rate is 0.999561.\n",
      "4937181 variants and 629 people pass filters and QC.\n",
      "Note: No phenotypes present.\n",
      "--make-bed to 1kG_7.bed + 1kG_7.bim + 1kG_7.fam ... 101112131415161718192021222324252627282930313233343536373839404142434445464748495051525354555657585960616263646566676869707172737475767778798081828384858687888990919293949596979899done.\n"
     ]
    }
   ],
   "source": [
    "plink --map updated.map --ped updated_lift.ped --allow-no-sex --make-bed --out 1kG_7"
   ]
  },
  {
   "cell_type": "code",
   "execution_count": 12,
   "id": "2b61306c",
   "metadata": {},
   "outputs": [
    {
     "name": "stdout",
     "output_type": "stream",
     "text": [
      "PLINK v1.90b6.21 64-bit (19 Oct 2020)          www.cog-genomics.org/plink/1.9/\n",
      "(C) 2005-2020 Shaun Purcell, Christopher Chang   GNU General Public License v3\n",
      "Logging to 1kG_7.log.\n",
      "Options in effect:\n",
      "  --allow-no-sex\n",
      "  --bfile 1kG_6\n",
      "  --exclude 1kG_unlifted.bed\n",
      "  --make-bed\n",
      "  --out 1kG_7\n",
      "\n",
      "193099 MB RAM detected; reserving 96549 MB for main workspace.\n",
      "4938714 variants loaded from .bim file.\n",
      "629 people (0 males, 0 females, 629 ambiguous) loaded from .fam.\n",
      "Ambiguous sex IDs written to 1kG_7.nosex .\n",
      "--exclude: 4852871 variants remaining.\n",
      "Using 1 thread (no multithreaded calculations invoked).\n",
      "Before main variant filters, 629 founders and 0 nonfounders present.\n",
      "Calculating allele frequencies... 10111213141516171819202122232425262728293031323334353637383940414243444546474849505152535455565758596061626364656667686970717273747576777879808182838485868788899091929394959697989 done.\n",
      "Total genotyping rate is 0.999554.\n",
      "4852871 variants and 629 people pass filters and QC.\n",
      "Note: No phenotypes present.\n",
      "--make-bed to 1kG_7.bed + 1kG_7.bim + 1kG_7.fam ... 101112131415161718192021222324252627282930313233343536373839404142434445464748495051525354555657585960616263646566676869707172737475767778798081828384858687888990919293949596979899done.\n"
     ]
    }
   ],
   "source": [
    "#plink --bfile 1kG_6 --exclude 1kG_unlifted.bed --allow-no-sex --make-bed --out 1kG_7"
   ]
  },
  {
   "cell_type": "code",
   "execution_count": 69,
   "id": "5eeccb21",
   "metadata": {},
   "outputs": [
    {
     "name": "stdout",
     "output_type": "stream",
     "text": [
      "  4938714 1kG_6.bim\n",
      "  4937181 1kG_7.bim\n",
      "     3066 1kG_unlifted.bed\n",
      "  9878961 total\n"
     ]
    }
   ],
   "source": [
    "wc --l 1kG_6.bim 1kG_7.bim 1kG_unlifted.bed"
   ]
  },
  {
   "cell_type": "code",
   "execution_count": 70,
   "id": "2366129d",
   "metadata": {},
   "outputs": [
    {
     "name": "stdout",
     "output_type": "stream",
     "text": [
      "rs79199347 1:461\n",
      "1:142781490[b37]C,T 1:468\n",
      "rs4118572 1:561\n",
      "rs61815889 1:795\n",
      "1:13122834[b37]C,T 1:905\n",
      "1:13122962[b37]A,C 1:1033\n",
      "1:13123447[b37]A,G 1:1518\n",
      "rs61815892 1:1636\n",
      "rs61815893 1:1647\n",
      "rs61815899 1:2278\n"
     ]
    }
   ],
   "source": [
    "#rename the snps\n",
    "awk '{print $2,$1\":\"$4}' 1kG_7.bim > 1kG_updated_names.bim\n",
    "head 1kG_updated_names.bim"
   ]
  },
  {
   "cell_type": "code",
   "execution_count": 71,
   "id": "8b2276f6",
   "metadata": {},
   "outputs": [
    {
     "name": "stdout",
     "output_type": "stream",
     "text": [
      "PLINK v1.90b6.21 64-bit (19 Oct 2020)          www.cog-genomics.org/plink/1.9/\n",
      "(C) 2005-2020 Shaun Purcell, Christopher Chang   GNU General Public License v3\n",
      "Logging to 1kG_8.log.\n",
      "Options in effect:\n",
      "  --bfile 1kG_7\n",
      "  --make-bed\n",
      "  --out 1kG_8\n",
      "  --update-name 1kG_updated_names.bim\n",
      "\n",
      "193099 MB RAM detected; reserving 96549 MB for main workspace.\n",
      "4937181 variants loaded from .bim file.\n",
      "629 people (0 males, 0 females, 629 ambiguous) loaded from .fam.\n",
      "Ambiguous sex IDs written to 1kG_8.nosex .\n",
      "--update-name: 4937181 values updated.\n",
      "Using 1 thread (no multithreaded calculations invoked).\n",
      "Before main variant filters, 629 founders and 0 nonfounders present.\n",
      "Calculating allele frequencies... 10111213141516171819202122232425262728293031323334353637383940414243444546474849505152535455565758596061626364656667686970717273747576777879808182838485868788899091929394959697989 done.\n",
      "Total genotyping rate is 0.999561.\n",
      "4937181 variants and 629 people pass filters and QC.\n",
      "Note: No phenotypes present.\n",
      "--make-bed to 1kG_8.bed + 1kG_8.bim + 1kG_8.fam ... 101112131415161718192021222324252627282930313233343536373839404142434445464748495051525354555657585960616263646566676869707172737475767778798081828384858687888990919293949596979899done.\n",
      "1\t1:461\t0\t461\tC\tT\n",
      "1\t1:468\t0\t468\tC\tT\n",
      "1\t1:561\t0\t561\tT\tC\n",
      "1\t1:795\t0\t795\tG\tA\n",
      "1\t1:905\t0\t905\tT\tC\n",
      "1\t1:1033\t0\t1033\tC\tA\n",
      "1\t1:1518\t0\t1518\tA\tG\n",
      "1\t1:1636\t0\t1636\tG\tT\n",
      "1\t1:1647\t0\t1647\tA\tG\n",
      "1\t1:2278\t0\t2278\tA\tC\n"
     ]
    }
   ],
   "source": [
    "plink --bfile 1kG_7 --update-name 1kG_updated_names.bim --make-bed --out 1kG_8\n",
    "head 1kG_8.bim"
   ]
  },
  {
   "cell_type": "code",
   "execution_count": 72,
   "id": "83a6edd3",
   "metadata": {},
   "outputs": [],
   "source": [
    "#verify there are only biallelic SNPs\n",
    "awk 'length($5)>1 || length($6)>1 {print $2}' final_IBP.bim > non_biallelic.txt"
   ]
  },
  {
   "cell_type": "code",
   "execution_count": 1,
   "id": "a0c002c8",
   "metadata": {},
   "outputs": [
    {
     "name": "stdout",
     "output_type": "stream",
     "text": [
      "hi\n"
     ]
    }
   ],
   "source": [
    "###########3\n",
    "#######33\n",
    "########\n",
    "######continue HERE\n"
   ]
  },
  {
   "cell_type": "code",
   "execution_count": 73,
   "id": "4222ed62",
   "metadata": {},
   "outputs": [
    {
     "name": "stdout",
     "output_type": "stream",
     "text": [
      "PLINK v1.90b6.21 64-bit (19 Oct 2020)          www.cog-genomics.org/plink/1.9/\n",
      "(C) 2005-2020 Shaun Purcell, Christopher Chang   GNU General Public License v3\n",
      "Logging to final_IBP_2.log.\n",
      "Options in effect:\n",
      "  --allow-no-sex\n",
      "  --bfile final_IBP\n",
      "  --exclude non_biallelic.txt\n",
      "  --make-bed\n",
      "  --out final_IBP_2\n",
      "\n",
      "193099 MB RAM detected; reserving 96549 MB for main workspace.\n",
      "29070215 variants loaded from .bim file.\n",
      "3864 people (0 males, 0 females, 3864 ambiguous) loaded from .fam.\n",
      "Ambiguous sex IDs written to final_IBP_2.nosex .\n",
      "3864 phenotype values loaded from .fam.\n",
      "--exclude: 27063465 variants remaining.\n",
      "Using 1 thread (no multithreaded calculations invoked).\n",
      "Before main variant filters, 3864 founders and 0 nonfounders present.\n",
      "Calculating allele frequencies... 10111213141516171819202122232425262728293031323334353637383940414243444546474849505152535455565758596061626364656667686970717273747576777879808182838485868788899091929394959697989 done.\n",
      "27063465 variants and 3864 people pass filters and QC.\n",
      "Among remaining phenotypes, 3060 are cases and 804 are controls.\n",
      "--make-bed to final_IBP_2.bed + final_IBP_2.bim + final_IBP_2.fam ... 101112131415161718192021222324252627282930313233343536373839404142434445464748495051525354555657585960616263646566676869707172737475767778798081828384858687888990919293949596979899done.\n"
     ]
    }
   ],
   "source": [
    "plink --bfile final_IBP --exclude non_biallelic.txt --allow-no-sex --make-bed --out final_IBP_2"
   ]
  },
  {
   "cell_type": "code",
   "execution_count": null,
   "id": "4571b7c1",
   "metadata": {},
   "outputs": [],
   "source": [
    "#remove duplicates from 1kG_8"
   ]
  },
  {
   "cell_type": "code",
   "execution_count": 80,
   "id": "19215260",
   "metadata": {},
   "outputs": [
    {
     "name": "stdout",
     "output_type": "stream",
     "text": [
      "PLINK v1.90b6.21 64-bit (19 Oct 2020)          www.cog-genomics.org/plink/1.9/\n",
      "(C) 2005-2020 Shaun Purcell, Christopher Chang   GNU General Public License v3\n",
      "Logging to all_snps.log.\n",
      "Options in effect:\n",
      "  --bfile 1kG_8\n",
      "  --out all_snps\n",
      "  --write-snplist\n",
      "\n",
      "193099 MB RAM detected; reserving 96549 MB for main workspace.\n",
      "4937181 variants loaded from .bim file.\n",
      "629 people (0 males, 0 females, 629 ambiguous) loaded from .fam.\n",
      "Ambiguous sex IDs written to all_snps.nosex .\n",
      "Using 1 thread (no multithreaded calculations invoked).\n",
      "Before main variant filters, 629 founders and 0 nonfounders present.\n",
      "Calculating allele frequencies... 10111213141516171819202122232425262728293031323334353637383940414243444546474849505152535455565758596061626364656667686970717273747576777879808182838485868788899091929394959697989 done.\n",
      "Total genotyping rate is 0.999561.\n",
      "4937181 variants and 629 people pass filters and QC.\n",
      "Note: No phenotypes present.\n",
      "List of variant IDs written to all_snps.snplist .\n"
     ]
    }
   ],
   "source": [
    "plink --bfile 1kG_8 --write-snplist --out all_snps"
   ]
  },
  {
   "cell_type": "code",
   "execution_count": 81,
   "id": "cd89098a",
   "metadata": {},
   "outputs": [
    {
     "name": "stdout",
     "output_type": "stream",
     "text": [
      "1:461\n",
      "1:468\n",
      "1:561\n",
      "1:795\n",
      "1:905\n",
      "1:1033\n",
      "1:1518\n",
      "1:1636\n",
      "1:1647\n",
      "1:2278\n"
     ]
    }
   ],
   "source": [
    "head all_snps.snplist"
   ]
  },
  {
   "cell_type": "code",
   "execution_count": 82,
   "id": "a684809d",
   "metadata": {},
   "outputs": [],
   "source": [
    "cat all_snps.snplist | sort | uniq -d > duplicated_snps.snplist"
   ]
  },
  {
   "cell_type": "code",
   "execution_count": 83,
   "id": "698e9214",
   "metadata": {},
   "outputs": [
    {
     "name": "stdout",
     "output_type": "stream",
     "text": [
      "PLINK v1.90b6.21 64-bit (19 Oct 2020)          www.cog-genomics.org/plink/1.9/\n",
      "(C) 2005-2020 Shaun Purcell, Christopher Chang   GNU General Public License v3\n",
      "Logging to 1kG_9.log.\n",
      "Options in effect:\n",
      "  --bfile 1kG_8\n",
      "  --exclude duplicated_snps.snplist\n",
      "  --make-bed\n",
      "  --out 1kG_9\n",
      "\n",
      "193099 MB RAM detected; reserving 96549 MB for main workspace.\n",
      "4937181 variants loaded from .bim file.\n",
      "629 people (0 males, 0 females, 629 ambiguous) loaded from .fam.\n",
      "Ambiguous sex IDs written to 1kG_9.nosex .\n",
      "--exclude: 4937135 variants remaining.\n",
      "Using 1 thread (no multithreaded calculations invoked).\n",
      "Before main variant filters, 629 founders and 0 nonfounders present.\n",
      "Calculating allele frequencies... 10111213141516171819202122232425262728293031323334353637383940414243444546474849505152535455565758596061626364656667686970717273747576777879808182838485868788899091929394959697989 done.\n",
      "Total genotyping rate is 0.999561.\n",
      "4937135 variants and 629 people pass filters and QC.\n",
      "Note: No phenotypes present.\n",
      "--make-bed to 1kG_9.bed + 1kG_9.bim + 1kG_9.fam ... 101112131415161718192021222324252627282930313233343536373839404142434445464748495051525354555657585960616263646566676869707172737475767778798081828384858687888990919293949596979899done.\n"
     ]
    }
   ],
   "source": [
    "plink --bfile 1kG_8 --exclude duplicated_snps.snplist --make-bed --out 1kG_9"
   ]
  },
  {
   "cell_type": "code",
   "execution_count": null,
   "id": "4468472d",
   "metadata": {},
   "outputs": [],
   "source": []
  },
  {
   "cell_type": "code",
   "execution_count": null,
   "id": "1d265995",
   "metadata": {},
   "outputs": [],
   "source": []
  },
  {
   "cell_type": "code",
   "execution_count": null,
   "id": "773a9774",
   "metadata": {},
   "outputs": [],
   "source": [
    "#extract so they have the same SNPs"
   ]
  },
  {
   "cell_type": "code",
   "execution_count": 84,
   "id": "7080c82f",
   "metadata": {},
   "outputs": [
    {
     "name": "stdout",
     "output_type": "stream",
     "text": [
      "PLINK v1.90b6.21 64-bit (19 Oct 2020)          www.cog-genomics.org/plink/1.9/\n",
      "(C) 2005-2020 Shaun Purcell, Christopher Chang   GNU General Public License v3\n",
      "Logging to 1kG_10.log.\n",
      "Options in effect:\n",
      "  --bfile 1kG_9\n",
      "  --extract IBP_SNPs.txt\n",
      "  --make-bed\n",
      "  --out 1kG_10\n",
      "\n",
      "193099 MB RAM detected; reserving 96549 MB for main workspace.\n",
      "4937135 variants loaded from .bim file.\n",
      "629 people (0 males, 0 females, 629 ambiguous) loaded from .fam.\n",
      "Ambiguous sex IDs written to 1kG_10.nosex .\n",
      "--extract: 1151842 variants remaining.\n",
      "Using 1 thread (no multithreaded calculations invoked).\n",
      "Before main variant filters, 629 founders and 0 nonfounders present.\n",
      "Calculating allele frequencies... 10111213141516171819202122232425262728293031323334353637383940414243444546474849505152535455565758596061626364656667686970717273747576777879808182838485868788899091929394959697989 done.\n",
      "Total genotyping rate is 0.999579.\n",
      "1151842 variants and 629 people pass filters and QC.\n",
      "Note: No phenotypes present.\n",
      "--make-bed to 1kG_10.bed + 1kG_10.bim + 1kG_10.fam ... 101112131415161718192021222324252627282930313233343536373839404142434445464748495051525354555657585960616263646566676869707172737475767778798081828384858687888990919293949596979899done.\n"
     ]
    }
   ],
   "source": [
    "awk '{print$2}' final_IBP_2.bim > IBP_SNPs.txt\n",
    "plink --bfile 1kG_9 --extract IBP_SNPs.txt --make-bed --out 1kG_10"
   ]
  },
  {
   "cell_type": "code",
   "execution_count": 85,
   "id": "65954078",
   "metadata": {
    "scrolled": true
   },
   "outputs": [
    {
     "name": "stdout",
     "output_type": "stream",
     "text": [
      "PLINK v1.90b6.21 64-bit (19 Oct 2020)          www.cog-genomics.org/plink/1.9/\n",
      "(C) 2005-2020 Shaun Purcell, Christopher Chang   GNU General Public License v3\n",
      "Logging to final_IBP_3.log.\n",
      "Options in effect:\n",
      "  --allow-no-sex\n",
      "  --bfile final_IBP_2\n",
      "  --extract 1kG_10_SNPs.txt\n",
      "  --make-bed\n",
      "  --out final_IBP_3\n",
      "  --recode\n",
      "\n",
      "193099 MB RAM detected; reserving 96549 MB for main workspace.\n",
      "27063465 variants loaded from .bim file.\n",
      "3864 people (0 males, 0 females, 3864 ambiguous) loaded from .fam.\n",
      "Ambiguous sex IDs written to final_IBP_3.nosex .\n",
      "3864 phenotype values loaded from .fam.\n",
      "--extract: 1151842 variants remaining.\n",
      "Using 1 thread (no multithreaded calculations invoked).\n",
      "Before main variant filters, 3864 founders and 0 nonfounders present.\n",
      "Calculating allele frequencies... 10111213141516171819202122232425262728293031323334353637383940414243444546474849505152535455565758596061626364656667686970717273747576777879808182838485868788899091929394959697989 done.\n",
      "1151842 variants and 3864 people pass filters and QC.\n",
      "Among remaining phenotypes, 3060 are cases and 804 are controls.\n",
      "--make-bed to final_IBP_3.bed + final_IBP_3.bim + final_IBP_3.fam ... 101112131415161718192021222324252627282930313233343536373839404142434445464748495051525354555657585960616263646566676869707172737475767778798081828384858687888990919293949596979899done.\n",
      "--recode ped to final_IBP_3.ped + final_IBP_3.map ... 101112131415161718192021222324252627282930313233343536373839404142434445464748495051525354555657585960616263646566676869707172737475767778798081828384858687888990919293949596979899done.\n"
     ]
    }
   ],
   "source": [
    "awk '{print$2}' 1kG_10.bim > 1kG_10_SNPs.txt\n",
    "plink --bfile final_IBP_2 --extract 1kG_10_SNPs.txt --allow-no-sex --recode --make-bed --out final_IBP_3\n",
    "#now datasets contain same variants!"
   ]
  },
  {
   "cell_type": "code",
   "execution_count": 86,
   "id": "d2cb69b6",
   "metadata": {},
   "outputs": [
    {
     "name": "stdout",
     "output_type": "stream",
     "text": [
      "0\n"
     ]
    }
   ],
   "source": [
    "#verify there are only biallelic SNPs\n",
    "awk 'length($5)>1 || length($6)>1 {print $2}' final_IBP_3.bim | wc -l"
   ]
  },
  {
   "cell_type": "code",
   "execution_count": 87,
   "id": "ca4f2065",
   "metadata": {},
   "outputs": [
    {
     "name": "stdout",
     "output_type": "stream",
     "text": [
      "0\n"
     ]
    }
   ],
   "source": [
    "#verify there are only biallelic SNPs\n",
    "awk 'length($5)>1 || length($6)>1 {print $2}' 1kG_10.bim | wc -l"
   ]
  },
  {
   "cell_type": "code",
   "execution_count": 88,
   "id": "33cda656",
   "metadata": {},
   "outputs": [
    {
     "name": "stdout",
     "output_type": "stream",
     "text": [
      "PLINK v1.90b6.21 64-bit (19 Oct 2020)          www.cog-genomics.org/plink/1.9/\n",
      "(C) 2005-2020 Shaun Purcell, Christopher Chang   GNU General Public License v3\n",
      "Logging to 1kG_11.log.\n",
      "Options in effect:\n",
      "  --bfile 1kG_10\n",
      "  --make-bed\n",
      "  --out 1kG_11\n",
      "  --update-map IBP_SNPs.txt\n",
      "\n",
      "193099 MB RAM detected; reserving 96549 MB for main workspace.\n",
      "1151842 variants loaded from .bim file.\n",
      "629 people (0 males, 0 females, 629 ambiguous) loaded from .fam.\n",
      "Ambiguous sex IDs written to 1kG_11.nosex .\n",
      "--update-map: 1151842 values updated.\n",
      "Using 1 thread (no multithreaded calculations invoked).\n",
      "Before main variant filters, 629 founders and 0 nonfounders present.\n",
      "Calculating allele frequencies... 10111213141516171819202122232425262728293031323334353637383940414243444546474849505152535455565758596061626364656667686970717273747576777879808182838485868788899091929394959697989 done.\n",
      "Total genotyping rate is 0.999579.\n",
      "1151842 variants and 629 people pass filters and QC.\n",
      "Note: No phenotypes present.\n",
      "--make-bed to 1kG_11.bed + 1kG_11.bim + 1kG_11.fam ... 101112131415161718192021222324252627282930313233343536373839404142434445464748495051525354555657585960616263646566676869707172737475767778798081828384858687888990919293949596979899done.\n"
     ]
    }
   ],
   "source": [
    "#make them have the same build \n",
    "awk '{print $2,$4}' final_IBP_3.map > IBP_SNPs.txt\n",
    "plink --bfile 1kG_10 --update-map IBP_SNPs.txt --make-bed --out 1kG_11"
   ]
  },
  {
   "cell_type": "code",
   "execution_count": 89,
   "id": "e5b7151f",
   "metadata": {},
   "outputs": [
    {
     "name": "stdout",
     "output_type": "stream",
     "text": [
      "PLINK v1.90b6.21 64-bit (19 Oct 2020)          www.cog-genomics.org/plink/1.9/\n",
      "(C) 2005-2020 Shaun Purcell, Christopher Chang   GNU General Public License v3\n",
      "Logging to final_IBP_4.log.\n",
      "Options in effect:\n",
      "  --a1-allele 1kG_ref_list.txt\n",
      "  --bfile final_IBP_3\n",
      "  --make-bed\n",
      "  --out final_IBP_4\n",
      "\n",
      "193099 MB RAM detected; reserving 96549 MB for main workspace.\n",
      "1151842 variants loaded from .bim file.\n",
      "3864 people (0 males, 0 females, 3864 ambiguous) loaded from .fam.\n",
      "Ambiguous sex IDs written to final_IBP_4.nosex .\n",
      "3864 phenotype values loaded from .fam.\n",
      "Warning: Ignoring phenotypes of missing-sex samples.  If you don't want those\n",
      "phenotypes to be ignored, use the --allow-no-sex flag.\n",
      "Using 1 thread (no multithreaded calculations invoked).\n",
      "Before main variant filters, 3864 founders and 0 nonfounders present.\n",
      "Calculating allele frequencies... 10111213141516171819202122232425262728293031323334353637383940414243444546474849505152535455565758596061626364656667686970717273747576777879808182838485868788899091929394959697989 done.\n",
      "Warning: Impossible A1 allele assignment for variant 1:5471089.\n",
      "Warning: Impossible A1 allele assignment for variant 1:8835914.\n",
      "Warning: Impossible A1 allele assignment for variant 1:10107170.\n",
      "Warning: Impossible A1 allele assignment for variant 1:11083727.\n",
      "Warning: Impossible A1 allele assignment for variant 1:12829962.\n",
      "Warning: Impossible A1 allele assignment for variant 1:12833767.\n",
      "Warning: Impossible A1 allele assignment for variant 1:12862252.\n",
      "Warning: Impossible A1 allele assignment for variant 1:12879912.\n",
      "Warning: Impossible A1 allele assignment for variant 1:21454888.\n",
      "Warning: Impossible A1 allele assignment for variant 1:21995941.\n",
      "Warning: Impossible A1 allele assignment for variant 1:33835561.\n",
      "Warning: Impossible A1 allele assignment for variant 1:72434731.\n",
      "Warning: Impossible A1 allele assignment for variant 1:83357442.\n",
      "Warning: Impossible A1 allele assignment for variant 1:110394948.\n",
      "Warning: Impossible A1 allele assignment for variant 1:143721204.\n",
      "Warning: Impossible A1 allele assignment for variant 1:145875423.\n",
      "Warning: Impossible A1 allele assignment for variant 1:145972039.\n",
      "Warning: Impossible A1 allele assignment for variant 1:146035765.\n",
      "Warning: Impossible A1 allele assignment for variant 1:149110881.\n",
      "Warning: Impossible A1 allele assignment for variant 1:149757784.\n",
      "Warning: Impossible A1 allele assignment for variant 1:155763466.\n",
      "Warning: Impossible A1 allele assignment for variant 1:187296273.\n",
      "Warning: Impossible A1 allele assignment for variant 1:206048250.\n",
      "Warning: Impossible A1 allele assignment for variant 1:206110950.\n",
      "Warning: Impossible A1 allele assignment for variant 1:206124073.\n",
      "Warning: Impossible A1 allele assignment for variant 1:207102389.\n",
      "Warning: Impossible A1 allele assignment for variant 1:228542699.\n",
      "Warning: Impossible A1 allele assignment for variant 1:234802996.\n",
      "Warning: Impossible A1 allele assignment for variant 1:242318499.\n",
      "Warning: Impossible A1 allele assignment for variant 1:242322364.\n",
      "Warning: Impossible A1 allele assignment for variant 1:245196803.\n",
      "Warning: Impossible A1 allele assignment for variant 1:248436787.\n",
      "Warning: Impossible A1 allele assignment for variant 2:11213582.\n",
      "Warning: Impossible A1 allele assignment for variant 2:35291415.\n",
      "Warning: Impossible A1 allele assignment for variant 2:37736691.\n",
      "Warning: Impossible A1 allele assignment for variant 2:37746879.\n",
      "Warning: Impossible A1 allele assignment for variant 2:37759249.\n",
      "Warning: Impossible A1 allele assignment for variant 2:37767908.\n",
      "Warning: Impossible A1 allele assignment for variant 2:37770277.\n",
      "Warning: Impossible A1 allele assignment for variant 2:38713534.\n",
      "Warning: Impossible A1 allele assignment for variant 2:55788479.\n",
      "Warning: Impossible A1 allele assignment for variant 2:71182137.\n",
      "Warning: Impossible A1 allele assignment for variant 2:88999254.\n",
      "Warning: Impossible A1 allele assignment for variant 2:91885770.\n",
      "Warning: Impossible A1 allele assignment for variant 2:91952894.\n",
      "Warning: Impossible A1 allele assignment for variant 2:92074692.\n",
      "Warning: Impossible A1 allele assignment for variant 2:97144036.\n",
      "Warning: Impossible A1 allele assignment for variant 2:107100473.\n",
      "Warning: Impossible A1 allele assignment for variant 2:108659643.\n",
      "Warning: Impossible A1 allele assignment for variant 2:111275332.\n",
      "Warning: Impossible A1 allele assignment for variant 2:113416050.\n",
      "Warning: Impossible A1 allele assignment for variant 2:113510310.\n",
      "Warning: Impossible A1 allele assignment for variant 2:131191851.\n",
      "Warning: Impossible A1 allele assignment for variant 2:131335275.\n",
      "Warning: Impossible A1 allele assignment for variant 2:131773685.\n",
      "Warning: Impossible A1 allele assignment for variant 2:155893776.\n",
      "Warning: Impossible A1 allele assignment for variant 2:225077727.\n",
      "Warning: Impossible A1 allele assignment for variant 2:233899255.\n",
      "Warning: Impossible A1 allele assignment for variant 3:584552.\n",
      "Warning: Impossible A1 allele assignment for variant 3:593570.\n",
      "Warning: Impossible A1 allele assignment for variant 3:24281419.\n",
      "Warning: Impossible A1 allele assignment for variant 3:41770710.\n",
      "Warning: Impossible A1 allele assignment for variant 3:70286866.\n",
      "Warning: Impossible A1 allele assignment for variant 3:72007372.\n",
      "Warning: Impossible A1 allele assignment for variant 3:75447636.\n",
      "Warning: Impossible A1 allele assignment for variant 3:75715888.\n",
      "Warning: Impossible A1 allele assignment for variant 3:75733394.\n",
      "Warning: Impossible A1 allele assignment for variant 3:75788780.\n",
      "Warning: Impossible A1 allele assignment for variant 3:75811679.\n",
      "Warning: Impossible A1 allele assignment for variant 3:75856933.\n",
      "Warning: Impossible A1 allele assignment for variant 3:75857032.\n",
      "Warning: Impossible A1 allele assignment for variant 3:75860893.\n",
      "Warning: Impossible A1 allele assignment for variant 3:75862734.\n",
      "Warning: Impossible A1 allele assignment for variant 3:75942956.\n",
      "Warning: Impossible A1 allele assignment for variant 3:75943847.\n",
      "Warning: Impossible A1 allele assignment for variant 3:77780461.\n",
      "Warning: Impossible A1 allele assignment for variant 3:94110281.\n",
      "Warning: Impossible A1 allele assignment for variant 3:125698455.\n",
      "Warning: Impossible A1 allele assignment for variant 3:146721334.\n",
      "Warning: Impossible A1 allele assignment for variant 3:153048563.\n",
      "Warning: Impossible A1 allele assignment for variant 3:195730385.\n",
      "Warning: Impossible A1 allele assignment for variant 3:195959315.\n",
      "Warning: Impossible A1 allele assignment for variant 3:197385783.\n",
      "Warning: Impossible A1 allele assignment for variant 4:3630338.\n",
      "Warning: Impossible A1 allele assignment for variant 4:3633487.\n",
      "Warning: Impossible A1 allele assignment for variant 4:3803329.\n",
      "Warning: Impossible A1 allele assignment for variant 4:4019280.\n",
      "Warning: Impossible A1 allele assignment for variant 4:9430726.\n",
      "Warning: Impossible A1 allele assignment for variant 4:9531473.\n",
      "Warning: Impossible A1 allele assignment for variant 4:26851331.\n",
      "Warning: Impossible A1 allele assignment for variant 4:30326652.\n",
      "Warning: Impossible A1 allele assignment for variant 4:33847070.\n",
      "Warning: Impossible A1 allele assignment for variant 4:45028752.\n",
      "Warning: Impossible A1 allele assignment for variant 4:48675733.\n",
      "Warning: Impossible A1 allele assignment for variant 4:49624083.\n",
      "Warning: Impossible A1 allele assignment for variant 4:78114855.\n",
      "Warning: Impossible A1 allele assignment for variant 4:83046529.\n",
      "Warning: Impossible A1 allele assignment for variant 4:118510627.\n",
      "Warning: Impossible A1 allele assignment for variant 4:143855109.\n",
      "Warning: Impossible A1 allele assignment for variant 4:143872231.\n",
      "Warning: Impossible A1 allele assignment for variant 4:163311637.\n",
      "Warning: Impossible A1 allele assignment for variant 4:189880893.\n",
      "Warning: Impossible A1 allele assignment for variant 4:189921773.\n",
      "Warning: Impossible A1 allele assignment for variant 4:189973250.\n",
      "Warning: Impossible A1 allele assignment for variant 4:189973272.\n",
      "Warning: Impossible A1 allele assignment for variant 5:455022.\n",
      "Warning: Impossible A1 allele assignment for variant 5:1331579.\n",
      "Warning: Impossible A1 allele assignment for variant 5:29425572.\n",
      "Warning: Impossible A1 allele assignment for variant 5:50219851.\n",
      "Warning: Impossible A1 allele assignment for variant 5:52279950.\n"
     ]
    },
    {
     "name": "stdout",
     "output_type": "stream",
     "text": [
      "Warning: Impossible A1 allele assignment for variant 5:62216834.\n",
      "Warning: Impossible A1 allele assignment for variant 5:76434011.\n",
      "Warning: Impossible A1 allele assignment for variant 5:95214116.\n",
      "Warning: Impossible A1 allele assignment for variant 5:120062172.\n",
      "Warning: Impossible A1 allele assignment for variant 5:133630393.\n",
      "Warning: Impossible A1 allele assignment for variant 5:144516801.\n",
      "Warning: Impossible A1 allele assignment for variant 5:165476176.\n",
      "Warning: Impossible A1 allele assignment for variant 5:176172447.\n",
      "Warning: Impossible A1 allele assignment for variant 5:177662843.\n",
      "Warning: Impossible A1 allele assignment for variant 5:180674290.\n",
      "Warning: Impossible A1 allele assignment for variant 6:57354265.\n",
      "Warning: Impossible A1 allele assignment for variant 6:60362085.\n",
      "Warning: Impossible A1 allele assignment for variant 6:60637171.\n",
      "Warning: Impossible A1 allele assignment for variant 6:60888613.\n",
      "Warning: Impossible A1 allele assignment for variant 6:61228166.\n",
      "Warning: Impossible A1 allele assignment for variant 6:61237700.\n",
      "Warning: Impossible A1 allele assignment for variant 6:61302768.\n",
      "Warning: Impossible A1 allele assignment for variant 6:63111562.\n",
      "Warning: Impossible A1 allele assignment for variant 6:80592258.\n",
      "Warning: Impossible A1 allele assignment for variant 7:355075.\n",
      "Warning: Impossible A1 allele assignment for variant 7:366130.\n",
      "Warning: Impossible A1 allele assignment for variant 7:374853.\n",
      "Warning: Impossible A1 allele assignment for variant 7:4481749.\n",
      "Warning: Impossible A1 allele assignment for variant 7:22841855.\n",
      "Warning: Impossible A1 allele assignment for variant 7:53162704.\n",
      "Warning: Impossible A1 allele assignment for variant 7:56126128.\n",
      "Warning: Impossible A1 allele assignment for variant 7:56494332.\n",
      "Warning: Impossible A1 allele assignment for variant 7:57481276.\n",
      "Warning: Impossible A1 allele assignment for variant 7:57559846.\n",
      "Warning: Impossible A1 allele assignment for variant 7:57570008.\n",
      "Warning: Impossible A1 allele assignment for variant 7:57593983.\n",
      "Warning: Impossible A1 allele assignment for variant 7:57605612.\n",
      "Warning: Impossible A1 allele assignment for variant 7:57638209.\n",
      "Warning: Impossible A1 allele assignment for variant 7:57646746.\n",
      "Warning: Impossible A1 allele assignment for variant 7:57654104.\n",
      "Warning: Impossible A1 allele assignment for variant 7:57668295.\n",
      "Warning: Impossible A1 allele assignment for variant 7:62268906.\n",
      "Warning: Impossible A1 allele assignment for variant 7:62294526.\n",
      "Warning: Impossible A1 allele assignment for variant 7:62321255.\n",
      "Warning: Impossible A1 allele assignment for variant 7:63775328.\n",
      "Warning: Impossible A1 allele assignment for variant 7:65795240.\n",
      "Warning: Impossible A1 allele assignment for variant 7:65817886.\n",
      "Warning: Impossible A1 allele assignment for variant 7:72681246.\n",
      "Warning: Impossible A1 allele assignment for variant 7:75517311.\n",
      "Warning: Impossible A1 allele assignment for variant 7:142345082.\n",
      "Warning: Impossible A1 allele assignment for variant 7:142760111.\n",
      "Warning: Impossible A1 allele assignment for variant 7:150193627.\n",
      "Warning: Impossible A1 allele assignment for variant 7:152377651.\n",
      "Warning: Impossible A1 allele assignment for variant 7:152378245.\n",
      "Warning: Impossible A1 allele assignment for variant 7:152394516.\n",
      "Warning: Impossible A1 allele assignment for variant 7:153798227.\n",
      "Warning: Impossible A1 allele assignment for variant 7:158163890.\n",
      "Warning: Impossible A1 allele assignment for variant 8:12670314.\n",
      "Warning: Impossible A1 allele assignment for variant 8:24400495.\n",
      "Warning: Impossible A1 allele assignment for variant 9:6378943.\n",
      "Warning: Impossible A1 allele assignment for variant 9:6379182.\n",
      "Warning: Impossible A1 allele assignment for variant 9:27343083.\n",
      "Warning: Impossible A1 allele assignment for variant 9:31136234.\n",
      "Warning: Impossible A1 allele assignment for variant 9:33386813.\n",
      "Warning: Impossible A1 allele assignment for variant 9:33394915.\n",
      "Warning: Impossible A1 allele assignment for variant 9:38541607.\n",
      "Warning: Impossible A1 allele assignment for variant 9:61690047.\n",
      "Warning: Impossible A1 allele assignment for variant 9:63755488.\n",
      "Warning: Impossible A1 allele assignment for variant 9:63763056.\n",
      "Warning: Impossible A1 allele assignment for variant 9:63874310.\n",
      "Warning: Impossible A1 allele assignment for variant 9:66868565.\n",
      "Warning: Impossible A1 allele assignment for variant 9:67142864.\n",
      "Warning: Impossible A1 allele assignment for variant 9:73191992.\n",
      "Warning: Impossible A1 allele assignment for variant 9:89617193.\n",
      "Warning: Impossible A1 allele assignment for variant 9:90224837.\n",
      "Warning: Impossible A1 allele assignment for variant 9:90746363.\n",
      "Warning: Impossible A1 allele assignment for variant 9:112395709.\n",
      "Warning: Impossible A1 allele assignment for variant 9:138160252.\n",
      "Warning: Impossible A1 allele assignment for variant 10:63482.\n",
      "Warning: Impossible A1 allele assignment for variant 10:2048640.\n",
      "Warning: Impossible A1 allele assignment for variant 10:6633111.\n",
      "Warning: Impossible A1 allele assignment for variant 10:9505044.\n",
      "Warning: Impossible A1 allele assignment for variant 10:14630622.\n",
      "Warning: Impossible A1 allele assignment for variant 10:22807199.\n",
      "Warning: Impossible A1 allele assignment for variant 10:26626585.\n",
      "Warning: Impossible A1 allele assignment for variant 10:38275652.\n",
      "Warning: Impossible A1 allele assignment for variant 10:38287146.\n",
      "Warning: Impossible A1 allele assignment for variant 10:42450793.\n",
      "Warning: Impossible A1 allele assignment for variant 10:46021214.\n",
      "Warning: Impossible A1 allele assignment for variant 10:46085059.\n",
      "Warning: Impossible A1 allele assignment for variant 10:46636981.\n",
      "Warning: Impossible A1 allele assignment for variant 10:47209678.\n",
      "Warning: Impossible A1 allele assignment for variant 10:47248998.\n",
      "Warning: Impossible A1 allele assignment for variant 10:47314893.\n",
      "Warning: Impossible A1 allele assignment for variant 10:117097264.\n",
      "Warning: Impossible A1 allele assignment for variant 10:125887390.\n",
      "Warning: Impossible A1 allele assignment for variant 11:48318694.\n",
      "Warning: Impossible A1 allele assignment for variant 11:48334200.\n",
      "Warning: Impossible A1 allele assignment for variant 11:48358824.\n",
      "Warning: Impossible A1 allele assignment for variant 11:48366342.\n",
      "Warning: Impossible A1 allele assignment for variant 11:48754438.\n",
      "Warning: Impossible A1 allele assignment for variant 11:54839244.\n",
      "Warning: Impossible A1 allele assignment for variant 11:54855287.\n",
      "Warning: Impossible A1 allele assignment for variant 11:54918458.\n",
      "Warning: Impossible A1 allele assignment for variant 11:54945847.\n",
      "Warning: Impossible A1 allele assignment for variant 11:59069971.\n",
      "Warning: Impossible A1 allele assignment for variant 11:69086869.\n",
      "Warning: Impossible A1 allele assignment for variant 11:71561392.\n",
      "Warning: Impossible A1 allele assignment for variant 11:71789725.\n",
      "Warning: Impossible A1 allele assignment for variant 11:71910059.\n",
      "Warning: Impossible A1 allele assignment for variant 11:86070592.\n",
      "Warning: Impossible A1 allele assignment for variant 11:114553495.\n",
      "Warning: Impossible A1 allele assignment for variant 11:129422743.\n",
      "Warning: Impossible A1 allele assignment for variant 12:3153888.\n",
      "Warning: Impossible A1 allele assignment for variant 12:8359112.\n",
      "Warning: Impossible A1 allele assignment for variant 12:8359162.\n",
      "Warning: Impossible A1 allele assignment for variant 12:9412182.\n",
      "Warning: Impossible A1 allele assignment for variant 12:9709363.\n",
      "Warning: Impossible A1 allele assignment for variant 12:11059731.\n",
      "Warning: Impossible A1 allele assignment for variant 12:12653340.\n",
      "Warning: Impossible A1 allele assignment for variant 12:25804106.\n",
      "Warning: Impossible A1 allele assignment for variant 12:31015020.\n",
      "Warning: Impossible A1 allele assignment for variant 12:34190357.\n",
      "Warning: Impossible A1 allele assignment for variant 12:37466202.\n",
      "Warning: Impossible A1 allele assignment for variant 12:37523556.\n",
      "Warning: Impossible A1 allele assignment for variant 12:37526792.\n",
      "Warning: Impossible A1 allele assignment for variant 12:37891247.\n",
      "Warning: Impossible A1 allele assignment for variant 12:38103215.\n",
      "Warning: Impossible A1 allele assignment for variant 12:90479454.\n",
      "Warning: Impossible A1 allele assignment for variant 12:96357529.\n",
      "Warning: Impossible A1 allele assignment for variant 12:100072177.\n"
     ]
    },
    {
     "name": "stdout",
     "output_type": "stream",
     "text": [
      "Warning: Impossible A1 allele assignment for variant 12:122764366.\n",
      "Warning: Impossible A1 allele assignment for variant 12:131070270.\n",
      "Warning: Impossible A1 allele assignment for variant 13:19071545.\n",
      "Warning: Impossible A1 allele assignment for variant 13:19073213.\n",
      "Warning: Impossible A1 allele assignment for variant 13:19074186.\n",
      "Warning: Impossible A1 allele assignment for variant 13:23941749.\n",
      "Warning: Impossible A1 allele assignment for variant 13:51467760.\n",
      "Warning: Impossible A1 allele assignment for variant 13:62321161.\n",
      "Warning: Impossible A1 allele assignment for variant 13:63038915.\n",
      "Warning: Impossible A1 allele assignment for variant 13:63044510.\n",
      "Warning: Impossible A1 allele assignment for variant 13:63053024.\n",
      "Warning: Impossible A1 allele assignment for variant 13:63073398.\n",
      "Warning: Impossible A1 allele assignment for variant 13:78004777.\n",
      "Warning: Impossible A1 allele assignment for variant 14:27828451.\n",
      "Warning: Impossible A1 allele assignment for variant 14:27847697.\n",
      "Warning: Impossible A1 allele assignment for variant 14:27874226.\n",
      "Warning: Impossible A1 allele assignment for variant 14:55199359.\n",
      "Warning: Impossible A1 allele assignment for variant 14:79197637.\n",
      "Warning: Impossible A1 allele assignment for variant 14:106276997.\n",
      "Warning: Impossible A1 allele assignment for variant 14:106419670.\n",
      "Warning: Impossible A1 allele assignment for variant 15:23095191.\n",
      "Warning: Impossible A1 allele assignment for variant 15:24189576.\n",
      "Warning: Impossible A1 allele assignment for variant 15:24231125.\n",
      "Warning: Impossible A1 allele assignment for variant 15:24419762.\n",
      "Warning: Impossible A1 allele assignment for variant 15:28294065.\n",
      "Warning: Impossible A1 allele assignment for variant 15:28846390.\n",
      "Warning: Impossible A1 allele assignment for variant 15:57715168.\n",
      "Warning: Impossible A1 allele assignment for variant 15:73491291.\n",
      "Warning: Impossible A1 allele assignment for variant 15:81949427.\n",
      "Warning: Impossible A1 allele assignment for variant 15:89556274.\n",
      "Warning: Impossible A1 allele assignment for variant 16:1429166.\n",
      "Warning: Impossible A1 allele assignment for variant 16:15228907.\n",
      "Warning: Impossible A1 allele assignment for variant 16:20559580.\n",
      "Warning: Impossible A1 allele assignment for variant 16:32121478.\n",
      "Warning: Impossible A1 allele assignment for variant 16:32522991.\n",
      "Warning: Impossible A1 allele assignment for variant 16:33631975.\n",
      "Warning: Impossible A1 allele assignment for variant 16:33668119.\n",
      "Warning: Impossible A1 allele assignment for variant 16:33993520.\n",
      "Warning: Impossible A1 allele assignment for variant 16:58777046.\n",
      "Warning: Impossible A1 allele assignment for variant 16:64433405.\n",
      "Warning: Impossible A1 allele assignment for variant 16:71011711.\n",
      "Warning: Impossible A1 allele assignment for variant 16:75532458.\n",
      "Warning: Impossible A1 allele assignment for variant 16:77713717.\n",
      "Warning: Impossible A1 allele assignment for variant 16:88088780.\n",
      "Warning: Impossible A1 allele assignment for variant 16:88099611.\n",
      "Warning: Impossible A1 allele assignment for variant 16:89885989.\n",
      "Warning: Impossible A1 allele assignment for variant 17:915812.\n",
      "Warning: Impossible A1 allele assignment for variant 17:13322827.\n",
      "Warning: Impossible A1 allele assignment for variant 17:15561708.\n",
      "Warning: Impossible A1 allele assignment for variant 17:15605038.\n",
      "Warning: Impossible A1 allele assignment for variant 17:15698238.\n",
      "Warning: Impossible A1 allele assignment for variant 17:15739710.\n",
      "Warning: Impossible A1 allele assignment for variant 17:20867095.\n",
      "Warning: Impossible A1 allele assignment for variant 17:20868539.\n",
      "Warning: Impossible A1 allele assignment for variant 17:21323488.\n",
      "Warning: Impossible A1 allele assignment for variant 17:21405091.\n",
      "Warning: Impossible A1 allele assignment for variant 17:21434035.\n",
      "Warning: Impossible A1 allele assignment for variant 17:21447392.\n",
      "Warning: Impossible A1 allele assignment for variant 17:21612925.\n",
      "Warning: Impossible A1 allele assignment for variant 17:22058840.\n",
      "Warning: Impossible A1 allele assignment for variant 17:22067494.\n",
      "Warning: Impossible A1 allele assignment for variant 17:22365283.\n",
      "Warning: Impossible A1 allele assignment for variant 17:26992447.\n",
      "Warning: Impossible A1 allele assignment for variant 17:27002594.\n",
      "Warning: Impossible A1 allele assignment for variant 17:30711627.\n",
      "Warning: Impossible A1 allele assignment for variant 17:55247144.\n",
      "Warning: Impossible A1 allele assignment for variant 17:64922482.\n",
      "Warning: Impossible A1 allele assignment for variant 18:10845907.\n",
      "Warning: Impossible A1 allele assignment for variant 18:12226563.\n",
      "Warning: Impossible A1 allele assignment for variant 18:14598891.\n",
      "Warning: Impossible A1 allele assignment for variant 18:15306618.\n",
      "Warning: Impossible A1 allele assignment for variant 18:15385477.\n",
      "Warning: Impossible A1 allele assignment for variant 18:52961521.\n",
      "Warning: Impossible A1 allele assignment for variant 19:8898452.\n",
      "Warning: Impossible A1 allele assignment for variant 19:15009218.\n",
      "Warning: Impossible A1 allele assignment for variant 19:20336822.\n",
      "Warning: Impossible A1 allele assignment for variant 19:21569407.\n",
      "Warning: Impossible A1 allele assignment for variant 19:21580047.\n",
      "Warning: Impossible A1 allele assignment for variant 19:24317359.\n",
      "Warning: Impossible A1 allele assignment for variant 19:24372163.\n",
      "Warning: Impossible A1 allele assignment for variant 19:27346539.\n",
      "Warning: Impossible A1 allele assignment for variant 19:34749303.\n",
      "Warning: Impossible A1 allele assignment for variant 19:40977538.\n",
      "Warning: Impossible A1 allele assignment for variant 19:43273324.\n",
      "Warning: Impossible A1 allele assignment for variant 19:43276653.\n",
      "Warning: Impossible A1 allele assignment for variant 19:44380039.\n",
      "Warning: Impossible A1 allele assignment for variant 20:25759369.\n",
      "Warning: Impossible A1 allele assignment for variant 20:25763547.\n",
      "Warning: Impossible A1 allele assignment for variant 20:25911146.\n",
      "Warning: Impossible A1 allele assignment for variant 20:25914302.\n",
      "Warning: Impossible A1 allele assignment for variant 20:25957953.\n",
      "Warning: Impossible A1 allele assignment for variant 20:25958372.\n",
      "Warning: Impossible A1 allele assignment for variant 20:26108778.\n",
      "Warning: Impossible A1 allele assignment for variant 20:26123289.\n",
      "Warning: Impossible A1 allele assignment for variant 20:26141361.\n",
      "Warning: Impossible A1 allele assignment for variant 20:26149018.\n",
      "Warning: Impossible A1 allele assignment for variant 20:26229020.\n",
      "Warning: Impossible A1 allele assignment for variant 20:26231555.\n",
      "Warning: Impossible A1 allele assignment for variant 20:26233606.\n",
      "Warning: Impossible A1 allele assignment for variant 20:26239987.\n",
      "Warning: Impossible A1 allele assignment for variant 20:26261425.\n",
      "Warning: Impossible A1 allele assignment for variant 20:30327759.\n",
      "Warning: Impossible A1 allele assignment for variant 20:34060269.\n",
      "Warning: Impossible A1 allele assignment for variant 20:50463747.\n",
      "Warning: Impossible A1 allele assignment for variant 20:53860682.\n",
      "Warning: Impossible A1 allele assignment for variant 20:53863134.\n",
      "Warning: Impossible A1 allele assignment for variant 20:63608992.\n",
      "Warning: Impossible A1 allele assignment for variant 21:13844621.\n",
      "Warning: Impossible A1 allele assignment for variant 21:24273014.\n",
      "Warning: Impossible A1 allele assignment for variant 21:25779166.\n",
      "Warning: Impossible A1 allele assignment for variant 22:15915963.\n",
      "Warning: Impossible A1 allele assignment for variant 22:16402323.\n",
      "Warning: Impossible A1 allele assignment for variant 22:16432413.\n",
      "Warning: Impossible A1 allele assignment for variant 22:16451471.\n",
      "Warning: Impossible A1 allele assignment for variant 22:16461682.\n",
      "Warning: Impossible A1 allele assignment for variant 22:16464462.\n",
      "Warning: Impossible A1 allele assignment for variant 22:16558226.\n",
      "Warning: Impossible A1 allele assignment for variant 22:16749514.\n",
      "Warning: Impossible A1 allele assignment for variant 22:16752378.\n",
      "Warning: Impossible A1 allele assignment for variant 22:16886655.\n",
      "Warning: Impossible A1 allele assignment for variant 22:18997393.\n",
      "Warning: Impossible A1 allele assignment for variant 22:24613372.\n",
      "Warning: Impossible A1 allele assignment for variant 22:24900409.\n",
      "Warning: Impossible A1 allele assignment for variant 22:25587932.\n",
      "Warning: Impossible A1 allele assignment for variant 22:49382524.\n"
     ]
    },
    {
     "name": "stdout",
     "output_type": "stream",
     "text": [
      "Warning: Impossible A1 allele assignment for variant 22:50043142.\n",
      "Warning: Impossible A1 allele assignment for variant 22:50764588.\n",
      "--a1-allele: 1151842 assignments made.\n",
      "1151842 variants and 3864 people pass filters and QC.\n",
      "Among remaining phenotypes, 3060 are cases and 804 are controls.\n",
      "--make-bed to final_IBP_4.bed + final_IBP_4.bim + final_IBP_4.fam ... 101112131415161718192021222324252627282930313233343536373839404142434445464748495051525354555657585960616263646566676869707172737475767778798081828384858687888990919293949596979899done.\n"
     ]
    }
   ],
   "source": [
    "awk '{print $2, $5}' 1kG_11.bim > 1kG_ref_list.txt\n",
    "plink --bfile final_IBP_3 --reference-allele 1kG_ref_list.txt --make-bed --out final_IBP_4"
   ]
  },
  {
   "cell_type": "code",
   "execution_count": 90,
   "id": "80a03476",
   "metadata": {},
   "outputs": [],
   "source": [
    "awk '{print $2,$5,$6}' 1kG_11.bim > 1kG_11_tmp\n",
    "awk '{print $2,$5,$6}' final_IBP_4.bim > final_IBP_4_tmp\n",
    "sort 1kG_11_tmp final_IBP_4_tmp | uniq -u > all_differences.txt"
   ]
  },
  {
   "cell_type": "code",
   "execution_count": 91,
   "id": "f3107228",
   "metadata": {},
   "outputs": [
    {
     "name": "stdout",
     "output_type": "stream",
     "text": [
      "758 all_differences.txt\n"
     ]
    }
   ],
   "source": [
    "wc -l all_differences.txt"
   ]
  },
  {
   "cell_type": "code",
   "execution_count": 92,
   "id": "1aab7431",
   "metadata": {},
   "outputs": [],
   "source": [
    "awk '{print $1}' all_differences.txt | sort -u > flip_list.txt "
   ]
  },
  {
   "cell_type": "code",
   "execution_count": 93,
   "id": "dceeb23c",
   "metadata": {},
   "outputs": [
    {
     "name": "stdout",
     "output_type": "stream",
     "text": [
      "379 flip_list.txt\n"
     ]
    }
   ],
   "source": [
    "wc -l  flip_list.txt"
   ]
  },
  {
   "cell_type": "code",
   "execution_count": 94,
   "id": "c41ed279",
   "metadata": {},
   "outputs": [
    {
     "name": "stdout",
     "output_type": "stream",
     "text": [
      "PLINK v1.90b6.21 64-bit (19 Oct 2020)          www.cog-genomics.org/plink/1.9/\n",
      "(C) 2005-2020 Shaun Purcell, Christopher Chang   GNU General Public License v3\n",
      "Logging to final_IBP_5.log.\n",
      "Options in effect:\n",
      "  --a1-allele 1kG_ref_list.txt\n",
      "  --bfile final_IBP_4\n",
      "  --flip flip_list.txt\n",
      "  --make-bed\n",
      "  --out final_IBP_5\n",
      "\n",
      "193099 MB RAM detected; reserving 96549 MB for main workspace.\n",
      "1151842 variants loaded from .bim file.\n",
      "3864 people (0 males, 0 females, 3864 ambiguous) loaded from .fam.\n",
      "Ambiguous sex IDs written to final_IBP_5.nosex .\n",
      "3864 phenotype values loaded from .fam.\n",
      "--flip: 379 SNPs flipped.\n",
      "Warning: Ignoring phenotypes of missing-sex samples.  If you don't want those\n",
      "phenotypes to be ignored, use the --allow-no-sex flag.\n",
      "Using 1 thread (no multithreaded calculations invoked).\n",
      "Before main variant filters, 3864 founders and 0 nonfounders present.\n",
      "Calculating allele frequencies... 10111213141516171819202122232425262728293031323334353637383940414243444546474849505152535455565758596061626364656667686970717273747576777879808182838485868788899091929394959697989 done.\n",
      "Warning: Impossible A1 allele assignment for variant 1:5471089.\n",
      "Warning: Impossible A1 allele assignment for variant 1:10107170.\n",
      "Warning: Impossible A1 allele assignment for variant 1:11083727.\n",
      "Warning: Impossible A1 allele assignment for variant 1:12829962.\n",
      "Warning: Impossible A1 allele assignment for variant 1:12879912.\n",
      "Warning: Impossible A1 allele assignment for variant 1:72434731.\n",
      "Warning: Impossible A1 allele assignment for variant 1:120317659.\n",
      "Warning: Impossible A1 allele assignment for variant 1:145582286.\n",
      "Warning: Impossible A1 allele assignment for variant 1:146035765.\n",
      "Warning: Impossible A1 allele assignment for variant 1:149110881.\n",
      "Warning: Impossible A1 allele assignment for variant 1:242322364.\n",
      "Warning: Impossible A1 allele assignment for variant 1:245196803.\n",
      "Warning: Impossible A1 allele assignment for variant 2:35291415.\n",
      "Warning: Impossible A1 allele assignment for variant 2:71182137.\n",
      "Warning: Impossible A1 allele assignment for variant 2:88999254.\n",
      "Warning: Impossible A1 allele assignment for variant 2:111275332.\n",
      "Warning: Impossible A1 allele assignment for variant 2:113510310.\n",
      "Warning: Impossible A1 allele assignment for variant 2:131335275.\n",
      "Warning: Impossible A1 allele assignment for variant 2:225077727.\n",
      "Warning: Impossible A1 allele assignment for variant 2:233899255.\n",
      "Warning: Impossible A1 allele assignment for variant 3:593570.\n",
      "Warning: Impossible A1 allele assignment for variant 3:24281419.\n",
      "Warning: Impossible A1 allele assignment for variant 3:41770710.\n",
      "Warning: Impossible A1 allele assignment for variant 3:75715888.\n",
      "Warning: Impossible A1 allele assignment for variant 3:75811679.\n",
      "Warning: Impossible A1 allele assignment for variant 3:75856933.\n",
      "Warning: Impossible A1 allele assignment for variant 3:195959315.\n",
      "Warning: Impossible A1 allele assignment for variant 4:3803329.\n",
      "Warning: Impossible A1 allele assignment for variant 4:4019280.\n",
      "Warning: Impossible A1 allele assignment for variant 4:9430726.\n",
      "Warning: Impossible A1 allele assignment for variant 4:9531473.\n",
      "Warning: Impossible A1 allele assignment for variant 4:26851331.\n",
      "Warning: Impossible A1 allele assignment for variant 4:30326652.\n",
      "Warning: Impossible A1 allele assignment for variant 4:78114855.\n",
      "Warning: Impossible A1 allele assignment for variant 4:143872231.\n",
      "Warning: Impossible A1 allele assignment for variant 4:163311637.\n",
      "Warning: Impossible A1 allele assignment for variant 4:189921773.\n",
      "Warning: Impossible A1 allele assignment for variant 4:189973250.\n",
      "Warning: Impossible A1 allele assignment for variant 5:52279950.\n",
      "Warning: Impossible A1 allele assignment for variant 5:133630393.\n",
      "Warning: Impossible A1 allele assignment for variant 5:177662843.\n",
      "Warning: Impossible A1 allele assignment for variant 5:180674290.\n",
      "Warning: Impossible A1 allele assignment for variant 6:60362808.\n",
      "Warning: Impossible A1 allele assignment for variant 6:60888613.\n",
      "Warning: Impossible A1 allele assignment for variant 6:61228166.\n",
      "Warning: Impossible A1 allele assignment for variant 6:80592258.\n",
      "Warning: Impossible A1 allele assignment for variant 7:369320.\n",
      "Warning: Impossible A1 allele assignment for variant 7:445637.\n",
      "Warning: Impossible A1 allele assignment for variant 7:57646746.\n",
      "Warning: Impossible A1 allele assignment for variant 7:57654104.\n",
      "Warning: Impossible A1 allele assignment for variant 7:152394516.\n",
      "Warning: Impossible A1 allele assignment for variant 7:158163890.\n",
      "Warning: Impossible A1 allele assignment for variant 8:552155.\n",
      "Warning: Impossible A1 allele assignment for variant 8:2343142.\n",
      "Warning: Impossible A1 allele assignment for variant 9:6378943.\n",
      "Warning: Impossible A1 allele assignment for variant 9:61690047.\n",
      "Warning: Impossible A1 allele assignment for variant 9:63874310.\n",
      "Warning: Impossible A1 allele assignment for variant 9:89617193.\n",
      "Warning: Impossible A1 allele assignment for variant 9:90224837.\n",
      "Warning: Impossible A1 allele assignment for variant 10:63482.\n",
      "Warning: Impossible A1 allele assignment for variant 10:2048640.\n",
      "Warning: Impossible A1 allele assignment for variant 10:14630622.\n",
      "Warning: Impossible A1 allele assignment for variant 10:46085059.\n",
      "Warning: Impossible A1 allele assignment for variant 10:47256874.\n",
      "Warning: Impossible A1 allele assignment for variant 10:47283184.\n",
      "Warning: Impossible A1 allele assignment for variant 10:117097264.\n",
      "Warning: Impossible A1 allele assignment for variant 11:59069971.\n",
      "Warning: Impossible A1 allele assignment for variant 11:69086869.\n",
      "Warning: Impossible A1 allele assignment for variant 11:71910059.\n",
      "Warning: Impossible A1 allele assignment for variant 11:86070592.\n",
      "Warning: Impossible A1 allele assignment for variant 12:3153888.\n",
      "Warning: Impossible A1 allele assignment for variant 12:8359162.\n",
      "Warning: Impossible A1 allele assignment for variant 12:9412182.\n",
      "Warning: Impossible A1 allele assignment for variant 12:37526792.\n",
      "Warning: Impossible A1 allele assignment for variant 12:90479454.\n",
      "Warning: Impossible A1 allele assignment for variant 12:100072177.\n",
      "Warning: Impossible A1 allele assignment for variant 13:63038915.\n",
      "Warning: Impossible A1 allele assignment for variant 14:27828451.\n",
      "Warning: Impossible A1 allele assignment for variant 14:79197637.\n",
      "Warning: Impossible A1 allele assignment for variant 14:106419670.\n",
      "Warning: Impossible A1 allele assignment for variant 15:24189576.\n",
      "Warning: Impossible A1 allele assignment for variant 15:24231125.\n",
      "Warning: Impossible A1 allele assignment for variant 15:57715168.\n",
      "Warning: Impossible A1 allele assignment for variant 16:20559580.\n",
      "Warning: Impossible A1 allele assignment for variant 16:32121478.\n",
      "Warning: Impossible A1 allele assignment for variant 16:33668119.\n",
      "Warning: Impossible A1 allele assignment for variant 16:58777046.\n",
      "Warning: Impossible A1 allele assignment for variant 16:75532458.\n",
      "Warning: Impossible A1 allele assignment for variant 16:88099611.\n",
      "Warning: Impossible A1 allele assignment for variant 17:915812.\n",
      "Warning: Impossible A1 allele assignment for variant 17:15561708.\n",
      "Warning: Impossible A1 allele assignment for variant 17:15605038.\n",
      "Warning: Impossible A1 allele assignment for variant 17:15698238.\n",
      "Warning: Impossible A1 allele assignment for variant 17:15739710.\n",
      "Warning: Impossible A1 allele assignment for variant 17:21323488.\n",
      "Warning: Impossible A1 allele assignment for variant 17:21447392.\n",
      "Warning: Impossible A1 allele assignment for variant 17:21612925.\n",
      "Warning: Impossible A1 allele assignment for variant 17:30711627.\n",
      "Warning: Impossible A1 allele assignment for variant 17:55247144.\n",
      "Warning: Impossible A1 allele assignment for variant 18:10845907.\n",
      "Warning: Impossible A1 allele assignment for variant 19:15009218.\n",
      "Warning: Impossible A1 allele assignment for variant 19:24317359.\n",
      "Warning: Impossible A1 allele assignment for variant 19:34749303.\n",
      "Warning: Impossible A1 allele assignment for variant 19:40977538.\n",
      "Warning: Impossible A1 allele assignment for variant 19:43273324.\n",
      "Warning: Impossible A1 allele assignment for variant 19:43276653.\n",
      "Warning: Impossible A1 allele assignment for variant 20:25759369.\n",
      "Warning: Impossible A1 allele assignment for variant 20:25763547.\n",
      "Warning: Impossible A1 allele assignment for variant 20:26108778.\n"
     ]
    },
    {
     "name": "stdout",
     "output_type": "stream",
     "text": [
      "Warning: Impossible A1 allele assignment for variant 20:34060269.\n",
      "Warning: Impossible A1 allele assignment for variant 20:53863134.\n",
      "Warning: Impossible A1 allele assignment for variant 21:25779166.\n",
      "Warning: Impossible A1 allele assignment for variant 22:16432413.\n",
      "Warning: Impossible A1 allele assignment for variant 22:16749514.\n",
      "Warning: Impossible A1 allele assignment for variant 22:24900409.\n",
      "Warning: Impossible A1 allele assignment for variant 22:50043142.\n",
      "--a1-allele: 1151842 assignments made.\n",
      "1151842 variants and 3864 people pass filters and QC.\n",
      "Among remaining phenotypes, 3060 are cases and 804 are controls.\n",
      "--make-bed to final_IBP_5.bed + final_IBP_5.bim + final_IBP_5.fam ... 101112131415161718192021222324252627282930313233343536373839404142434445464748495051525354555657585960616263646566676869707172737475767778798081828384858687888990919293949596979899done.\n"
     ]
    }
   ],
   "source": [
    "plink --bfile final_IBP_4 --flip flip_list.txt --reference-allele 1kG_ref_list.txt --make-bed --out final_IBP_5"
   ]
  },
  {
   "cell_type": "code",
   "execution_count": 95,
   "id": "089bd526",
   "metadata": {},
   "outputs": [],
   "source": [
    "#still problematic \n",
    "awk '{print $2,$5,$6}' final_IBP_5.bim > final_IBP_5_tmp\n",
    "sort 1kG_11_tmp final_IBP_5_tmp | uniq -u > uncorresponding_SNPs.txt"
   ]
  },
  {
   "cell_type": "code",
   "execution_count": 30,
   "id": "59a58c9e",
   "metadata": {},
   "outputs": [
    {
     "name": "stdout",
     "output_type": "stream",
     "text": [
      "40450 uncorresponding_SNPs.txt\n",
      "10:100023957 G A\n",
      "10:100023957 G T\n",
      "10:100168631 G C\n",
      "10:100168631 T G\n",
      "10:101062818 A C\n",
      "10:101062818 A G\n",
      "10:101068037 A C\n",
      "10:101068037 T C\n",
      "10:101096372 G C\n",
      "10:101096372 T C\n"
     ]
    }
   ],
   "source": [
    "wc -l uncorresponding_SNPs.txt\n",
    "head uncorresponding_SNPs.txt"
   ]
  },
  {
   "cell_type": "code",
   "execution_count": 96,
   "id": "5bb6f948",
   "metadata": {},
   "outputs": [],
   "source": [
    "awk '{print $1}' uncorresponding_SNPs.txt | sort -u > SNPs_for_exclusion.txt\n"
   ]
  },
  {
   "cell_type": "code",
   "execution_count": 97,
   "id": "5e6ab54b",
   "metadata": {},
   "outputs": [
    {
     "name": "stdout",
     "output_type": "stream",
     "text": [
      "362 SNPs_for_exclusion.txt\n"
     ]
    }
   ],
   "source": [
    "wc -l SNPs_for_exclusion.txt"
   ]
  },
  {
   "cell_type": "code",
   "execution_count": 98,
   "id": "33a2bb92",
   "metadata": {},
   "outputs": [
    {
     "name": "stdout",
     "output_type": "stream",
     "text": [
      "PLINK v1.90b6.21 64-bit (19 Oct 2020)          www.cog-genomics.org/plink/1.9/\n",
      "(C) 2005-2020 Shaun Purcell, Christopher Chang   GNU General Public License v3\n",
      "Logging to final_IBP_6.log.\n",
      "Options in effect:\n",
      "  --bfile final_IBP_5\n",
      "  --exclude SNPs_for_exclusion.txt\n",
      "  --make-bed\n",
      "  --out final_IBP_6\n",
      "\n",
      "193099 MB RAM detected; reserving 96549 MB for main workspace.\n",
      "1151842 variants loaded from .bim file.\n",
      "3864 people (0 males, 0 females, 3864 ambiguous) loaded from .fam.\n",
      "Ambiguous sex IDs written to final_IBP_6.nosex .\n",
      "3864 phenotype values loaded from .fam.\n",
      "--exclude: 1151480 variants remaining.\n",
      "Warning: Ignoring phenotypes of missing-sex samples.  If you don't want those\n",
      "phenotypes to be ignored, use the --allow-no-sex flag.\n",
      "Using 1 thread (no multithreaded calculations invoked).\n",
      "Before main variant filters, 3864 founders and 0 nonfounders present.\n",
      "Calculating allele frequencies... 10111213141516171819202122232425262728293031323334353637383940414243444546474849505152535455565758596061626364656667686970717273747576777879808182838485868788899091929394959697989 done.\n",
      "1151480 variants and 3864 people pass filters and QC.\n",
      "Among remaining phenotypes, 3060 are cases and 804 are controls.\n",
      "--make-bed to final_IBP_6.bed + final_IBP_6.bim + final_IBP_6.fam ... 101112131415161718192021222324252627282930313233343536373839404142434445464748495051525354555657585960616263646566676869707172737475767778798081828384858687888990919293949596979899done.\n"
     ]
    }
   ],
   "source": [
    "plink --bfile final_IBP_5 --exclude SNPs_for_exclusion.txt --make-bed --out final_IBP_6\n"
   ]
  },
  {
   "cell_type": "code",
   "execution_count": 99,
   "id": "74e22ae3",
   "metadata": {},
   "outputs": [
    {
     "name": "stdout",
     "output_type": "stream",
     "text": [
      "PLINK v1.90b6.21 64-bit (19 Oct 2020)          www.cog-genomics.org/plink/1.9/\n",
      "(C) 2005-2020 Shaun Purcell, Christopher Chang   GNU General Public License v3\n",
      "Logging to 1kG_12.log.\n",
      "Options in effect:\n",
      "  --bfile 1kG_11\n",
      "  --exclude SNPs_for_exclusion.txt\n",
      "  --make-bed\n",
      "  --out 1kG_12\n",
      "\n",
      "193099 MB RAM detected; reserving 96549 MB for main workspace.\n",
      "1151842 variants loaded from .bim file.\n",
      "629 people (0 males, 0 females, 629 ambiguous) loaded from .fam.\n",
      "Ambiguous sex IDs written to 1kG_12.nosex .\n",
      "--exclude: 1151480 variants remaining.\n",
      "Using 1 thread (no multithreaded calculations invoked).\n",
      "Before main variant filters, 629 founders and 0 nonfounders present.\n",
      "Calculating allele frequencies... 10111213141516171819202122232425262728293031323334353637383940414243444546474849505152535455565758596061626364656667686970717273747576777879808182838485868788899091929394959697989 done.\n",
      "Total genotyping rate is 0.999579.\n",
      "1151480 variants and 629 people pass filters and QC.\n",
      "Note: No phenotypes present.\n",
      "--make-bed to 1kG_12.bed + 1kG_12.bim + 1kG_12.fam ... 101112131415161718192021222324252627282930313233343536373839404142434445464748495051525354555657585960616263646566676869707172737475767778798081828384858687888990919293949596979899done.\n"
     ]
    }
   ],
   "source": [
    "plink --bfile 1kG_11 --exclude SNPs_for_exclusion.txt --make-bed --out 1kG_12"
   ]
  },
  {
   "cell_type": "code",
   "execution_count": 100,
   "id": "96f2353d",
   "metadata": {
    "scrolled": true
   },
   "outputs": [
    {
     "name": "stdout",
     "output_type": "stream",
     "text": [
      "PLINK v1.90b6.21 64-bit (19 Oct 2020)          www.cog-genomics.org/plink/1.9/\n",
      "(C) 2005-2020 Shaun Purcell, Christopher Chang   GNU General Public License v3\n",
      "Logging to merged.log.\n",
      "Options in effect:\n",
      "  --allow-no-sex\n",
      "  --bfile final_IBP_6\n",
      "  --bmerge 1kG_12.bed 1kG_12.bim 1kG_12.fam\n",
      "  --make-bed\n",
      "  --out merged\n",
      "\n",
      "193099 MB RAM detected; reserving 96549 MB for main workspace.\n",
      "3864 people loaded from final_IBP_6.fam.\n",
      "629 people to be merged from 1kG_12.fam.\n",
      "Of these, 629 are new, while 0 are present in the base dataset.\n",
      "1151480 markers loaded from final_IBP_6.bim.\n",
      "1151480 markers to be merged from 1kG_12.bim.\n",
      "Of these, 0 are new, while 1151480 are present in the base dataset.\n",
      "Performing single-pass merge (4493 people, 1151480 variants).\n",
      "Merged fileset written to merged-merge.bed + merged-merge.bim +\n",
      "merged-merge.fam .\n",
      "1151480 variants loaded from .bim file.\n",
      "4493 people (0 males, 0 females, 4493 ambiguous) loaded from .fam.\n",
      "Ambiguous sex IDs written to merged.nosex .\n",
      "3864 phenotype values loaded from .fam.\n",
      "Using 1 thread (no multithreaded calculations invoked).\n",
      "Before main variant filters, 4493 founders and 0 nonfounders present.\n",
      "Calculating allele frequencies... 10111213141516171819202122232425262728293031323334353637383940414243444546474849505152535455565758596061626364656667686970717273747576777879808182838485868788899091929394959697989 done.\n",
      "Total genotyping rate is 0.999941.\n",
      "1151480 variants and 4493 people pass filters and QC.\n",
      "Among remaining phenotypes, 3060 are cases and 804 are controls.  (629\n",
      "phenotypes are missing.)\n",
      "--make-bed to merged.bed + merged.bim + merged.fam ... 101112131415161718192021222324252627282930313233343536373839404142434445464748495051525354555657585960616263646566676869707172737475767778798081828384858687888990919293949596979899done.\n"
     ]
    }
   ],
   "source": [
    "plink --bfile final_IBP_6 --bmerge 1kG_12.bed 1kG_12.bim 1kG_12.fam --allow-no-sex --make-bed --out merged"
   ]
  },
  {
   "cell_type": "code",
   "execution_count": 101,
   "id": "deafcd03",
   "metadata": {
    "scrolled": true
   },
   "outputs": [
    {
     "name": "stdout",
     "output_type": "stream",
     "text": [
      "PLINK v1.90b6.21 64-bit (19 Oct 2020)          www.cog-genomics.org/plink/1.9/\n",
      "(C) 2005-2020 Shaun Purcell, Christopher Chang   GNU General Public License v3\n",
      "Logging to merged.log.\n",
      "Options in effect:\n",
      "  --bfile merged\n",
      "  --extract indepSNP.prune.in\n",
      "  --genome\n",
      "  --out merged\n",
      "\n",
      "193099 MB RAM detected; reserving 96549 MB for main workspace.\n",
      "1151480 variants loaded from .bim file.\n",
      "4493 people (0 males, 0 females, 4493 ambiguous) loaded from .fam.\n",
      "Ambiguous sex IDs written to merged.nosex .\n",
      "3864 phenotype values loaded from .fam.\n",
      "--extract: 757903 variants remaining.\n",
      "Warning: Ignoring phenotypes of missing-sex samples.  If you don't want those\n",
      "phenotypes to be ignored, use the --allow-no-sex flag.\n",
      "Using up to 35 threads (change this with --threads).\n",
      "Before main variant filters, 4493 founders and 0 nonfounders present.\n",
      "Calculating allele frequencies... 10111213141516171819202122232425262728293031323334353637383940414243444546474849505152535455565758596061626364656667686970717273747576777879808182838485868788899091929394959697989 done.\n",
      "Total genotyping rate is 0.999941.\n",
      "757903 variants and 4493 people pass filters and QC.\n",
      "Note: No phenotypes present.\n",
      "IBD calculations complete.  \n",
      "Finished writing merged.genome .\n"
     ]
    }
   ],
   "source": [
    "plink --bfile merged --extract indepSNP.prune.in --genome --out merged"
   ]
  },
  {
   "cell_type": "code",
   "execution_count": 102,
   "id": "3cbb7a0d",
   "metadata": {
    "scrolled": true
   },
   "outputs": [
    {
     "name": "stdout",
     "output_type": "stream",
     "text": [
      "PLINK v1.90b6.21 64-bit (19 Oct 2020)          www.cog-genomics.org/plink/1.9/\n",
      "(C) 2005-2020 Shaun Purcell, Christopher Chang   GNU General Public License v3\n",
      "Logging to PCA_merged.log.\n",
      "Options in effect:\n",
      "  --bfile merged\n",
      "  --cluster\n",
      "  --out PCA_merged\n",
      "  --pca 10\n",
      "  --read-genome merged.genome\n",
      "\n",
      "193099 MB RAM detected; reserving 96549 MB for main workspace.\n",
      "1151480 variants loaded from .bim file.\n",
      "4493 people (0 males, 0 females, 4493 ambiguous) loaded from .fam.\n",
      "Ambiguous sex IDs written to PCA_merged.nosex .\n",
      "3864 phenotype values loaded from .fam.\n",
      "Warning: Ignoring phenotypes of missing-sex samples.  If you don't want those\n",
      "phenotypes to be ignored, use the --allow-no-sex flag.\n",
      "Using up to 35 threads (change this with --threads).\n",
      "Before main variant filters, 4493 founders and 0 nonfounders present.\n",
      "Calculating allele frequencies... 10111213141516171819202122232425262728293031323334353637383940414243444546474849505152535455565758596061626364656667686970717273747576777879808182838485868788899091929394959697989 done.\n",
      "Total genotyping rate is 0.999941.\n",
      "1151480 variants and 4493 people pass filters and QC.\n",
      "Note: No phenotypes present.\n",
      "Relationship matrix calculation complete.\n",
      "--pca: Results saved to PCA_merged.eigenval and PCA_merged.eigenvec .\n",
      "Clustering... done.                        \n",
      "Cluster solution written to PCA_merged.cluster1 , PCA_merged.cluster2 , and3343536373839404142434445464748495051525354555657585960616263646566676869707172737475767778798081828384858687888990919293949596979899100%\n",
      "PCA_merged.cluster3 .\n"
     ]
    }
   ],
   "source": [
    "plink --bfile merged --read-genome merged.genome --cluster --pca 10 --out PCA_merged "
   ]
  },
  {
   "cell_type": "code",
   "execution_count": 103,
   "id": "577c8f13",
   "metadata": {},
   "outputs": [],
   "source": [
    "awk '{print $1,$2,\"OWN\"}' final_IBP.fam > racefile_own.txt"
   ]
  },
  {
   "cell_type": "code",
   "execution_count": 104,
   "id": "05fe5943",
   "metadata": {},
   "outputs": [],
   "source": [
    "cat race_1kG14.txt racefile_own.txt | sed -e '1i\\FID IID race' > racefile.txt"
   ]
  },
  {
   "cell_type": "code",
   "execution_count": 105,
   "id": "d07224cc",
   "metadata": {},
   "outputs": [
    {
     "name": "stdout",
     "output_type": "stream",
     "text": [
      " [1] \"IID\"   \"FID\"   \"V3\"    \"V4\"    \"V5\"    \"V6\"    \"V7\"    \"V8\"    \"V9\"   \n",
      "[10] \"V10\"   \"V11\"   \"V12\"   \"group\"\n",
      "    IID   FID           V3          V4           V5          V6           V7\n",
      "1     1     1 -4.34693e-03  0.00209321 -0.002026550  0.00716960  0.002825680\n",
      "2 10003 10003  3.95354e-05 -0.00372820  0.015456200 -0.06386300  0.007021600\n",
      "3 10004 10004 -4.08053e-03  0.00251207  0.000820328 -0.00198323  0.000107732\n",
      "4 10006 10006 -4.00462e-03  0.00212244 -0.000993166  0.00116865 -0.000955554\n",
      "5 10008 10008 -3.89553e-03  0.00138785 -0.000559490  0.00410160  0.000335668\n",
      "6 10013 10013 -3.96583e-03  0.00212593 -0.000571192  0.00691662 -0.000987612\n",
      "           V8           V9          V10          V11          V12 group\n",
      "1 -0.00106540 -0.000523611 -0.000477630  2.09195e-03  0.001845730   OWN\n",
      "2 -0.00242506 -0.002813230  0.011548500 -1.49413e-03 -0.000172992   OWN\n",
      "3 -0.00178197 -0.000395128  0.002290790 -8.26964e-06 -0.001557060   OWN\n",
      "4 -0.00290625 -0.002532930 -0.000224916  6.78704e-04 -0.001569100   OWN\n",
      "5  0.00108631  0.000741127  0.002280350 -2.77547e-04 -0.001546560   OWN\n",
      "6  0.00240571  0.000353251  0.004725230  2.97423e-03  0.000787018   OWN\n",
      "[1] 4493   13\n",
      "'data.frame':\t4493 obs. of  13 variables:\n",
      " $ IID  : Factor w/ 4493 levels \"1\",\"10003\",\"10004\",..: 1 2 3 4 5 6 7 8 9 10 ...\n",
      " $ FID  : Factor w/ 4493 levels \"1\",\"10003\",\"10004\",..: 1 2 3 4 5 6 7 8 9 10 ...\n",
      " $ V3   : num  -4.35e-03 3.95e-05 -4.08e-03 -4.00e-03 -3.90e-03 ...\n",
      " $ V4   : num  0.00209 -0.00373 0.00251 0.00212 0.00139 ...\n",
      " $ V5   : num  -0.002027 0.015456 0.00082 -0.000993 -0.000559 ...\n",
      " $ V6   : num  0.00717 -0.06386 -0.00198 0.00117 0.0041 ...\n",
      " $ V7   : num  0.002826 0.007022 0.000108 -0.000956 0.000336 ...\n",
      " $ V8   : num  -0.00107 -0.00243 -0.00178 -0.00291 0.00109 ...\n",
      " $ V9   : num  -0.000524 -0.002813 -0.000395 -0.002533 0.000741 ...\n",
      " $ V10  : num  -0.000478 0.011548 0.002291 -0.000225 0.00228 ...\n",
      " $ V11  : num  2.09e-03 -1.49e-03 -8.27e-06 6.79e-04 -2.78e-04 ...\n",
      " $ V12  : num  0.001846 -0.000173 -0.001557 -0.001569 -0.001547 ...\n",
      " $ group: Factor w/ 5 levels \"AFR\",\"AMR\",\"ASN\",..: 5 5 5 5 5 5 5 5 5 5 ...\n",
      "null device \n",
      "          1 \n"
     ]
    }
   ],
   "source": [
    "Rscript pca_script.R"
   ]
  },
  {
   "cell_type": "code",
   "execution_count": null,
   "id": "59a4c35e",
   "metadata": {},
   "outputs": [],
   "source": []
  }
 ],
 "metadata": {
  "kernelspec": {
   "display_name": "Bash",
   "language": "bash",
   "name": "bash"
  },
  "language_info": {
   "codemirror_mode": "shell",
   "file_extension": ".sh",
   "mimetype": "text/x-sh",
   "name": "bash"
  }
 },
 "nbformat": 4,
 "nbformat_minor": 5
}
